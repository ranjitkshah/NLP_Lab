{
  "nbformat": 4,
  "nbformat_minor": 0,
  "metadata": {
    "colab": {
      "name": "NLP Lab.ipynb",
      "provenance": [],
      "collapsed_sections": [],
      "include_colab_link": true
    },
    "kernelspec": {
      "name": "python3",
      "display_name": "Python 3"
    }
  },
  "cells": [
    {
      "cell_type": "markdown",
      "metadata": {
        "id": "view-in-github",
        "colab_type": "text"
      },
      "source": [
        "<a href=\"https://colab.research.google.com/github/ranjitkshah/NLP_Lab/blob/master/NLP_Lab.ipynb\" target=\"_parent\"><img src=\"https://colab.research.google.com/assets/colab-badge.svg\" alt=\"Open In Colab\"/></a>"
      ]
    },
    {
      "cell_type": "markdown",
      "metadata": {
        "id": "8O1wuypl9tle"
      },
      "source": [
        "**1. Installation of NLTK. Write a program to tokenize a text file into sentences and words using NLTK.**"
      ]
    },
    {
      "cell_type": "code",
      "metadata": {
        "id": "dFX76IwX-Gp8"
      },
      "source": [
        "import nltk\n",
        "from nltk.tokenize import word_tokenize,sent_tokenize\n",
        "from urllib import request \n"
      ],
      "execution_count": null,
      "outputs": []
    },
    {
      "cell_type": "code",
      "metadata": {
        "id": "pIShYhDnbuvY"
      },
      "source": [
        "# text to sentence tokenization \n",
        "def text_to_sentence(sentence):\n",
        "  sentence_tokens=nltk.tokenize.sent_tokenize(sentence)\n",
        "  print(sentence_tokens[10:100])"
      ],
      "execution_count": null,
      "outputs": []
    },
    {
      "cell_type": "code",
      "metadata": {
        "id": "HUIH3bFhc6ON"
      },
      "source": [
        "# text to words tokenization\n",
        "def text_to_words(text):\n",
        "  word_tokens=word_tokenize(text)\n",
        "  print(word_tokens[10:100]) "
      ],
      "execution_count": null,
      "outputs": []
    },
    {
      "cell_type": "code",
      "metadata": {
        "id": "pRx5LGgvdh8N"
      },
      "source": [
        "#reading from the text file (url)\n",
        "url='http://www.gutenberg.org/files/2554/2554-0.txt'\n",
        "response=request.urlopen(url)\n",
        "text=response.read().decode('utf8')"
      ],
      "execution_count": null,
      "outputs": []
    },
    {
      "cell_type": "code",
      "metadata": {
        "colab": {
          "base_uri": "https://localhost:8080/",
          "height": 119
        },
        "id": "6FciMaDyij8T",
        "outputId": "3c6bd473-7c38-48d5-e0ba-e5cbfcfc0e67"
      },
      "source": [
        "text=text.lower()\n",
        "text[1:900]"
      ],
      "execution_count": null,
      "outputs": [
        {
          "output_type": "execute_result",
          "data": {
            "application/vnd.google.colaboratory.intrinsic+json": {
              "type": "string"
            },
            "text/plain": [
              "'the project gutenberg ebook of crime and punishment, by fyodor dostoevsky\\r\\n\\r\\nthis ebook is for the use of anyone anywhere at no cost and with\\r\\nalmost no restrictions whatsoever.  you may copy it, give it away or\\r\\nre-use it under the terms of the project gutenberg license included\\r\\nwith this ebook or online at www.gutenberg.org\\r\\n\\r\\n\\r\\ntitle: crime and punishment\\r\\n\\r\\nauthor: fyodor dostoevsky\\r\\n\\r\\nrelease date: march 28, 2006 [ebook #2554]\\r\\nlast updated: october 27, 2016\\r\\n\\r\\nlanguage: english\\r\\n\\r\\ncharacter set encoding: utf-8\\r\\n\\r\\n*** start of this project gutenberg ebook crime and punishment ***\\r\\n\\r\\n\\r\\n\\r\\n\\r\\nproduced by john bickers; and dagny\\r\\n\\r\\n\\r\\n\\r\\n\\r\\n\\r\\ncrime and punishment\\r\\n\\r\\nby fyodor dostoevsky\\r\\n\\r\\n\\r\\n\\r\\ntranslated by constance garnett\\r\\n\\r\\n\\r\\n\\r\\n\\r\\ntranslator’s preface\\r\\n\\r\\na few words about dostoevsky himself may help the english reader to\\r\\nunderstand his work.\\r\\n\\r\\ndostoevsky was the son of a doctor. his '"
            ]
          },
          "metadata": {
            "tags": []
          },
          "execution_count": 14
        }
      ]
    },
    {
      "cell_type": "code",
      "metadata": {
        "colab": {
          "base_uri": "https://localhost:8080/",
          "height": 622
        },
        "id": "XFKn1ARLkSj0",
        "outputId": "f8a4b841-b0f0-46ae-b5c1-02eafa0afcf4"
      },
      "source": [
        "print(\"text to sentences tokenization : \")\n",
        "text_to_sentence(text)\n"
      ],
      "execution_count": null,
      "outputs": [
        {
          "output_type": "stream",
          "text": [
            "text to sentences tokenization : \n"
          ],
          "name": "stdout"
        },
        {
          "output_type": "error",
          "ename": "LookupError",
          "evalue": "ignored",
          "traceback": [
            "\u001b[0;31m---------------------------------------------------------------------------\u001b[0m",
            "\u001b[0;31mLookupError\u001b[0m                               Traceback (most recent call last)",
            "\u001b[0;32m<ipython-input-15-699cd8cbae71>\u001b[0m in \u001b[0;36m<module>\u001b[0;34m()\u001b[0m\n\u001b[1;32m      1\u001b[0m \u001b[0mprint\u001b[0m\u001b[0;34m(\u001b[0m\u001b[0;34m\"text to sentences tokenization : \"\u001b[0m\u001b[0;34m)\u001b[0m\u001b[0;34m\u001b[0m\u001b[0;34m\u001b[0m\u001b[0m\n\u001b[0;32m----> 2\u001b[0;31m \u001b[0mtext_to_sentence\u001b[0m\u001b[0;34m(\u001b[0m\u001b[0mtext\u001b[0m\u001b[0;34m)\u001b[0m\u001b[0;34m\u001b[0m\u001b[0;34m\u001b[0m\u001b[0m\n\u001b[0m",
            "\u001b[0;32m<ipython-input-9-4f2e18efb1ae>\u001b[0m in \u001b[0;36mtext_to_sentence\u001b[0;34m(sentence)\u001b[0m\n\u001b[1;32m      1\u001b[0m \u001b[0;31m# text to sentence tokenization\u001b[0m\u001b[0;34m\u001b[0m\u001b[0;34m\u001b[0m\u001b[0;34m\u001b[0m\u001b[0m\n\u001b[1;32m      2\u001b[0m \u001b[0;32mdef\u001b[0m \u001b[0mtext_to_sentence\u001b[0m\u001b[0;34m(\u001b[0m\u001b[0msentence\u001b[0m\u001b[0;34m)\u001b[0m\u001b[0;34m:\u001b[0m\u001b[0;34m\u001b[0m\u001b[0;34m\u001b[0m\u001b[0m\n\u001b[0;32m----> 3\u001b[0;31m   \u001b[0msentence_tokens\u001b[0m\u001b[0;34m=\u001b[0m\u001b[0mnltk\u001b[0m\u001b[0;34m.\u001b[0m\u001b[0mtokenize\u001b[0m\u001b[0;34m.\u001b[0m\u001b[0msent_tokenize\u001b[0m\u001b[0;34m(\u001b[0m\u001b[0msentence\u001b[0m\u001b[0;34m)\u001b[0m\u001b[0;34m\u001b[0m\u001b[0;34m\u001b[0m\u001b[0m\n\u001b[0m\u001b[1;32m      4\u001b[0m   \u001b[0mprint\u001b[0m\u001b[0;34m(\u001b[0m\u001b[0msentence_tokens\u001b[0m\u001b[0;34m[\u001b[0m\u001b[0;36m10\u001b[0m\u001b[0;34m:\u001b[0m\u001b[0;36m100\u001b[0m\u001b[0;34m]\u001b[0m\u001b[0;34m)\u001b[0m\u001b[0;34m\u001b[0m\u001b[0;34m\u001b[0m\u001b[0m\n",
            "\u001b[0;32m/usr/local/lib/python3.6/dist-packages/nltk/tokenize/__init__.py\u001b[0m in \u001b[0;36msent_tokenize\u001b[0;34m(text, language)\u001b[0m\n\u001b[1;32m     92\u001b[0m     \u001b[0;34m:\u001b[0m\u001b[0mparam\u001b[0m \u001b[0mlanguage\u001b[0m\u001b[0;34m:\u001b[0m \u001b[0mthe\u001b[0m \u001b[0mmodel\u001b[0m \u001b[0mname\u001b[0m \u001b[0;32min\u001b[0m \u001b[0mthe\u001b[0m \u001b[0mPunkt\u001b[0m \u001b[0mcorpus\u001b[0m\u001b[0;34m\u001b[0m\u001b[0;34m\u001b[0m\u001b[0m\n\u001b[1;32m     93\u001b[0m     \"\"\"\n\u001b[0;32m---> 94\u001b[0;31m     \u001b[0mtokenizer\u001b[0m \u001b[0;34m=\u001b[0m \u001b[0mload\u001b[0m\u001b[0;34m(\u001b[0m\u001b[0;34m'tokenizers/punkt/{0}.pickle'\u001b[0m\u001b[0;34m.\u001b[0m\u001b[0mformat\u001b[0m\u001b[0;34m(\u001b[0m\u001b[0mlanguage\u001b[0m\u001b[0;34m)\u001b[0m\u001b[0;34m)\u001b[0m\u001b[0;34m\u001b[0m\u001b[0;34m\u001b[0m\u001b[0m\n\u001b[0m\u001b[1;32m     95\u001b[0m     \u001b[0;32mreturn\u001b[0m \u001b[0mtokenizer\u001b[0m\u001b[0;34m.\u001b[0m\u001b[0mtokenize\u001b[0m\u001b[0;34m(\u001b[0m\u001b[0mtext\u001b[0m\u001b[0;34m)\u001b[0m\u001b[0;34m\u001b[0m\u001b[0;34m\u001b[0m\u001b[0m\n\u001b[1;32m     96\u001b[0m \u001b[0;34m\u001b[0m\u001b[0m\n",
            "\u001b[0;32m/usr/local/lib/python3.6/dist-packages/nltk/data.py\u001b[0m in \u001b[0;36mload\u001b[0;34m(resource_url, format, cache, verbose, logic_parser, fstruct_reader, encoding)\u001b[0m\n\u001b[1;32m    832\u001b[0m \u001b[0;34m\u001b[0m\u001b[0m\n\u001b[1;32m    833\u001b[0m     \u001b[0;31m# Load the resource.\u001b[0m\u001b[0;34m\u001b[0m\u001b[0;34m\u001b[0m\u001b[0;34m\u001b[0m\u001b[0m\n\u001b[0;32m--> 834\u001b[0;31m     \u001b[0mopened_resource\u001b[0m \u001b[0;34m=\u001b[0m \u001b[0m_open\u001b[0m\u001b[0;34m(\u001b[0m\u001b[0mresource_url\u001b[0m\u001b[0;34m)\u001b[0m\u001b[0;34m\u001b[0m\u001b[0;34m\u001b[0m\u001b[0m\n\u001b[0m\u001b[1;32m    835\u001b[0m \u001b[0;34m\u001b[0m\u001b[0m\n\u001b[1;32m    836\u001b[0m     \u001b[0;32mif\u001b[0m \u001b[0mformat\u001b[0m \u001b[0;34m==\u001b[0m \u001b[0;34m'raw'\u001b[0m\u001b[0;34m:\u001b[0m\u001b[0;34m\u001b[0m\u001b[0;34m\u001b[0m\u001b[0m\n",
            "\u001b[0;32m/usr/local/lib/python3.6/dist-packages/nltk/data.py\u001b[0m in \u001b[0;36m_open\u001b[0;34m(resource_url)\u001b[0m\n\u001b[1;32m    950\u001b[0m \u001b[0;34m\u001b[0m\u001b[0m\n\u001b[1;32m    951\u001b[0m     \u001b[0;32mif\u001b[0m \u001b[0mprotocol\u001b[0m \u001b[0;32mis\u001b[0m \u001b[0;32mNone\u001b[0m \u001b[0;32mor\u001b[0m \u001b[0mprotocol\u001b[0m\u001b[0;34m.\u001b[0m\u001b[0mlower\u001b[0m\u001b[0;34m(\u001b[0m\u001b[0;34m)\u001b[0m \u001b[0;34m==\u001b[0m \u001b[0;34m'nltk'\u001b[0m\u001b[0;34m:\u001b[0m\u001b[0;34m\u001b[0m\u001b[0;34m\u001b[0m\u001b[0m\n\u001b[0;32m--> 952\u001b[0;31m         \u001b[0;32mreturn\u001b[0m \u001b[0mfind\u001b[0m\u001b[0;34m(\u001b[0m\u001b[0mpath_\u001b[0m\u001b[0;34m,\u001b[0m \u001b[0mpath\u001b[0m \u001b[0;34m+\u001b[0m \u001b[0;34m[\u001b[0m\u001b[0;34m''\u001b[0m\u001b[0;34m]\u001b[0m\u001b[0;34m)\u001b[0m\u001b[0;34m.\u001b[0m\u001b[0mopen\u001b[0m\u001b[0;34m(\u001b[0m\u001b[0;34m)\u001b[0m\u001b[0;34m\u001b[0m\u001b[0;34m\u001b[0m\u001b[0m\n\u001b[0m\u001b[1;32m    953\u001b[0m     \u001b[0;32melif\u001b[0m \u001b[0mprotocol\u001b[0m\u001b[0;34m.\u001b[0m\u001b[0mlower\u001b[0m\u001b[0;34m(\u001b[0m\u001b[0;34m)\u001b[0m \u001b[0;34m==\u001b[0m \u001b[0;34m'file'\u001b[0m\u001b[0;34m:\u001b[0m\u001b[0;34m\u001b[0m\u001b[0;34m\u001b[0m\u001b[0m\n\u001b[1;32m    954\u001b[0m         \u001b[0;31m# urllib might not use mode='rb', so handle this one ourselves:\u001b[0m\u001b[0;34m\u001b[0m\u001b[0;34m\u001b[0m\u001b[0;34m\u001b[0m\u001b[0m\n",
            "\u001b[0;32m/usr/local/lib/python3.6/dist-packages/nltk/data.py\u001b[0m in \u001b[0;36mfind\u001b[0;34m(resource_name, paths)\u001b[0m\n\u001b[1;32m    671\u001b[0m     \u001b[0msep\u001b[0m \u001b[0;34m=\u001b[0m \u001b[0;34m'*'\u001b[0m \u001b[0;34m*\u001b[0m \u001b[0;36m70\u001b[0m\u001b[0;34m\u001b[0m\u001b[0;34m\u001b[0m\u001b[0m\n\u001b[1;32m    672\u001b[0m     \u001b[0mresource_not_found\u001b[0m \u001b[0;34m=\u001b[0m \u001b[0;34m'\\n%s\\n%s\\n%s\\n'\u001b[0m \u001b[0;34m%\u001b[0m \u001b[0;34m(\u001b[0m\u001b[0msep\u001b[0m\u001b[0;34m,\u001b[0m \u001b[0mmsg\u001b[0m\u001b[0;34m,\u001b[0m \u001b[0msep\u001b[0m\u001b[0;34m)\u001b[0m\u001b[0;34m\u001b[0m\u001b[0;34m\u001b[0m\u001b[0m\n\u001b[0;32m--> 673\u001b[0;31m     \u001b[0;32mraise\u001b[0m \u001b[0mLookupError\u001b[0m\u001b[0;34m(\u001b[0m\u001b[0mresource_not_found\u001b[0m\u001b[0;34m)\u001b[0m\u001b[0;34m\u001b[0m\u001b[0;34m\u001b[0m\u001b[0m\n\u001b[0m\u001b[1;32m    674\u001b[0m \u001b[0;34m\u001b[0m\u001b[0m\n\u001b[1;32m    675\u001b[0m \u001b[0;34m\u001b[0m\u001b[0m\n",
            "\u001b[0;31mLookupError\u001b[0m: \n**********************************************************************\n  Resource \u001b[93mpunkt\u001b[0m not found.\n  Please use the NLTK Downloader to obtain the resource:\n\n  \u001b[31m>>> import nltk\n  >>> nltk.download('punkt')\n  \u001b[0m\n  Searched in:\n    - '/root/nltk_data'\n    - '/usr/share/nltk_data'\n    - '/usr/local/share/nltk_data'\n    - '/usr/lib/nltk_data'\n    - '/usr/local/lib/nltk_data'\n    - '/usr/nltk_data'\n    - '/usr/lib/nltk_data'\n    - ''\n**********************************************************************\n"
          ]
        }
      ]
    },
    {
      "cell_type": "code",
      "metadata": {
        "colab": {
          "base_uri": "https://localhost:8080/"
        },
        "id": "9unrYEdOlAVS",
        "outputId": "66a4f483-961a-43cb-a462-2f28ddde407d"
      },
      "source": [
        "print(\"text to words tokenization : \")\n",
        "text_to_words(text)"
      ],
      "execution_count": null,
      "outputs": [
        {
          "output_type": "stream",
          "text": [
            "text to words tokenization : \n",
            "['fyodor', 'dostoevsky', 'this', 'ebook', 'is', 'for', 'the', 'use', 'of', 'anyone', 'anywhere', 'at', 'no', 'cost', 'and', 'with', 'almost', 'no', 'restrictions', 'whatsoever', '.', 'you', 'may', 'copy', 'it', ',', 'give', 'it', 'away', 'or', 're-use', 'it', 'under', 'the', 'terms', 'of', 'the', 'project', 'gutenberg', 'license', 'included', 'with', 'this', 'ebook', 'or', 'online', 'at', 'www.gutenberg.org', 'title', ':', 'crime', 'and', 'punishment', 'author', ':', 'fyodor', 'dostoevsky', 'release', 'date', ':', 'march', '28', ',', '2006', '[', 'ebook', '#', '2554', ']', 'last', 'updated', ':', 'october', '27', ',', '2016', 'language', ':', 'english', 'character', 'set', 'encoding', ':', 'utf-8', '***', 'start', 'of', 'this', 'project', 'gutenberg']\n"
          ],
          "name": "stdout"
        }
      ]
    },
    {
      "cell_type": "markdown",
      "metadata": {
        "id": "eyVRTQJZne99"
      },
      "source": [
        "**2.Write a program to count word frequency of text file in python**"
      ]
    },
    {
      "cell_type": "code",
      "metadata": {
        "id": "oSxUzesnnrjK"
      },
      "source": [
        "import nltk\n",
        "from nltk.tokenize import word_tokenize"
      ],
      "execution_count": null,
      "outputs": []
    },
    {
      "cell_type": "code",
      "metadata": {
        "id": "ZALzxT1_oPP1"
      },
      "source": [
        "sent=\"Outer space is the expanse that exists beyond Earth and between celestial bodies. Outer space is not completely empty—it is a hard vacuum containing a low density of particles, predominantly a plasma of hydrogen and helium, as well as electromagnetic radiation, magnetic fields, neutrinos, dust, and cosmic rays. The baseline temperature of outer space, as set by the background radiation from the Big Bang,\""
      ],
      "execution_count": null,
      "outputs": []
    },
    {
      "cell_type": "code",
      "metadata": {
        "colab": {
          "base_uri": "https://localhost:8080/",
          "height": 69
        },
        "id": "FjM6ZqQKpJqW",
        "outputId": "bdd7e18e-71e0-4195-97b1-df46a2d6ca37"
      },
      "source": [
        "sent"
      ],
      "execution_count": null,
      "outputs": [
        {
          "output_type": "execute_result",
          "data": {
            "application/vnd.google.colaboratory.intrinsic+json": {
              "type": "string"
            },
            "text/plain": [
              "'Outer space is the expanse that exists beyond Earth and between celestial bodies. Outer space is not completely empty—it is a hard vacuum containing a low density of particles, predominantly a plasma of hydrogen and helium, as well as electromagnetic radiation, magnetic fields, neutrinos, dust, and cosmic rays. The baseline temperature of outer space, as set by the background radiation from the Big Bang,'"
            ]
          },
          "metadata": {
            "tags": []
          },
          "execution_count": 38
        }
      ]
    },
    {
      "cell_type": "code",
      "metadata": {
        "id": "pJE-IsaWpY9k"
      },
      "source": [
        "word_tokens=word_tokenize(sent)"
      ],
      "execution_count": null,
      "outputs": []
    },
    {
      "cell_type": "code",
      "metadata": {
        "colab": {
          "base_uri": "https://localhost:8080/"
        },
        "id": "5t_F21hHpiK0",
        "outputId": "f67f57be-05c3-479d-a60c-5bfaa4c68076"
      },
      "source": [
        "print(word_tokens)"
      ],
      "execution_count": null,
      "outputs": [
        {
          "output_type": "stream",
          "text": [
            "['Outer', 'space', 'is', 'the', 'expanse', 'that', 'exists', 'beyond', 'Earth', 'and', 'between', 'celestial', 'bodies', '.', 'Outer', 'space', 'is', 'not', 'completely', 'empty—it', 'is', 'a', 'hard', 'vacuum', 'containing', 'a', 'low', 'density', 'of', 'particles', ',', 'predominantly', 'a', 'plasma', 'of', 'hydrogen', 'and', 'helium', ',', 'as', 'well', 'as', 'electromagnetic', 'radiation', ',', 'magnetic', 'fields', ',', 'neutrinos', ',', 'dust', ',', 'and', 'cosmic', 'rays', '.', 'The', 'baseline', 'temperature', 'of', 'outer', 'space', ',', 'as', 'set', 'by', 'the', 'background', 'radiation', 'from', 'the', 'Big', 'Bang', ',']\n"
          ],
          "name": "stdout"
        }
      ]
    },
    {
      "cell_type": "code",
      "metadata": {
        "colab": {
          "base_uri": "https://localhost:8080/"
        },
        "id": "UCh6ATAJpmIH",
        "outputId": "69ec3ecd-d9b3-4b4a-82a4-0911f190dd8d"
      },
      "source": [
        "unique_words=set(word_tokens)\n",
        "print(unique_words)"
      ],
      "execution_count": null,
      "outputs": [
        {
          "output_type": "stream",
          "text": [
            "{'neutrinos', 'vacuum', 'hydrogen', 'space', 'radiation', 'rays', 'celestial', 'of', 'density', 'as', 'outer', 'the', 'completely', 'and', 'is', 'plasma', 'background', 'helium', 'empty—it', 'beyond', ',', 'that', 'temperature', 'set', 'from', 'not', 'fields', 'expanse', 'magnetic', 'Big', 'between', 'well', 'baseline', 'exists', 'predominantly', 'Bang', 'Earth', 'hard', '.', 'dust', 'The', 'Outer', 'cosmic', 'a', 'particles', 'by', 'electromagnetic', 'bodies', 'low', 'containing'}\n"
          ],
          "name": "stdout"
        }
      ]
    },
    {
      "cell_type": "code",
      "metadata": {
        "id": "TZuebpqHqsQ_"
      },
      "source": [
        "word_count=dict.fromkeys(unique_words,0)\n",
        "for word in unique_words:\n",
        "  for check in word_tokens:\n",
        "    if check==word:\n",
        "      word_count[word]+=1"
      ],
      "execution_count": null,
      "outputs": []
    },
    {
      "cell_type": "code",
      "metadata": {
        "colab": {
          "base_uri": "https://localhost:8080/"
        },
        "id": "UpyhunA3q-V8",
        "outputId": "dada0002-108d-4657-e418-33e9110fbeac"
      },
      "source": [
        "print(word_count)"
      ],
      "execution_count": null,
      "outputs": [
        {
          "output_type": "stream",
          "text": [
            "{'neutrinos': 1, 'vacuum': 1, 'hydrogen': 1, 'space': 3, 'radiation': 2, 'rays': 1, 'celestial': 1, 'of': 3, 'density': 1, 'as': 3, 'outer': 1, 'the': 3, 'completely': 1, 'and': 3, 'is': 3, 'plasma': 1, 'background': 1, 'helium': 1, 'empty—it': 1, 'beyond': 1, ',': 8, 'that': 1, 'temperature': 1, 'set': 1, 'from': 1, 'not': 1, 'fields': 1, 'expanse': 1, 'magnetic': 1, 'Big': 1, 'between': 1, 'well': 1, 'baseline': 1, 'exists': 1, 'predominantly': 1, 'Bang': 1, 'Earth': 1, 'hard': 1, '.': 2, 'dust': 1, 'The': 1, 'Outer': 2, 'cosmic': 1, 'a': 3, 'particles': 1, 'by': 1, 'electromagnetic': 1, 'bodies': 1, 'low': 1, 'containing': 1}\n"
          ],
          "name": "stdout"
        }
      ]
    },
    {
      "cell_type": "code",
      "metadata": {
        "id": "30BYzWfwrvjU"
      },
      "source": [
        ""
      ],
      "execution_count": null,
      "outputs": []
    },
    {
      "cell_type": "code",
      "metadata": {
        "id": "ii36YyNrrvXE"
      },
      "source": [
        ""
      ],
      "execution_count": null,
      "outputs": []
    },
    {
      "cell_type": "code",
      "metadata": {
        "id": "R3xtgyCJrvHO"
      },
      "source": [
        ""
      ],
      "execution_count": null,
      "outputs": []
    },
    {
      "cell_type": "code",
      "metadata": {
        "id": "QH6ouhcDrwSn"
      },
      "source": [
        ""
      ],
      "execution_count": null,
      "outputs": []
    },
    {
      "cell_type": "markdown",
      "metadata": {
        "id": "At3_w_-br7E8"
      },
      "source": [
        "**3.Write a program to indentify and remove stop words from a text file after importing it in python**"
      ]
    },
    {
      "cell_type": "code",
      "metadata": {
        "id": "no4hp5RcsHrV"
      },
      "source": [
        "import nltk,re\n",
        "from nltk.corpus import stopwords\n",
        "from nltk.tokenize import word_tokenize,sent_tokenize\n",
        "from urllib import request"
      ],
      "execution_count": null,
      "outputs": []
    },
    {
      "cell_type": "code",
      "metadata": {
        "id": "JyZHEPUbsUUW"
      },
      "source": [
        "def remove_stop_words(text):\n",
        "  stop_words=stopwords.words('english') # All stop words\n",
        "  print(\"Stop Words : \")\n",
        "  print(stop_words)\n",
        "  print()\n",
        "\n",
        "  print(\"Splitted text : \")\n",
        "  ans=re.findall(r\"[\\w']+|[.,!?;]\", text)\n",
        "  print(ans)\n",
        "  filtered_words=\"\"\n",
        "  for word in ans:\n",
        "    if word not in stop_words:\n",
        "      filtered_words+=word\n",
        "      filtered_words+=\" \"\n",
        "  \n",
        "  print()\n",
        "  print(\"Text with stop words removed : \")\n",
        "  print(filtered_words)"
      ],
      "execution_count": null,
      "outputs": []
    },
    {
      "cell_type": "code",
      "metadata": {
        "colab": {
          "base_uri": "https://localhost:8080/"
        },
        "id": "uXX0pnkpMmY7",
        "outputId": "54b37096-7ca8-4064-e13e-d0f006e8a24f"
      },
      "source": [
        "# Due to long text taking the paragram upto 10000 words\n",
        "url='http://www.gutenberg.org/files/2554/2554-0.txt'\n",
        "response=request.urlopen(url)\n",
        "text=response.read().decode('utf8')\n",
        "sentence=text[560:3000]\n",
        "print(sentence)"
      ],
      "execution_count": null,
      "outputs": [
        {
          "output_type": "stream",
          "text": [
            "RG EBOOK CRIME AND PUNISHMENT ***\r\n",
            "\r\n",
            "\r\n",
            "\r\n",
            "\r\n",
            "Produced by John Bickers; and Dagny\r\n",
            "\r\n",
            "\r\n",
            "\r\n",
            "\r\n",
            "\r\n",
            "CRIME AND PUNISHMENT\r\n",
            "\r\n",
            "By Fyodor Dostoevsky\r\n",
            "\r\n",
            "\r\n",
            "\r\n",
            "Translated By Constance Garnett\r\n",
            "\r\n",
            "\r\n",
            "\r\n",
            "\r\n",
            "TRANSLATOR’S PREFACE\r\n",
            "\r\n",
            "A few words about Dostoevsky himself may help the English reader to\r\n",
            "understand his work.\r\n",
            "\r\n",
            "Dostoevsky was the son of a doctor. His parents were very hard-working\r\n",
            "and deeply religious people, but so poor that they lived with their five\r\n",
            "children in only two rooms. The father and mother spent their evenings\r\n",
            "in reading aloud to their children, generally from books of a serious\r\n",
            "character.\r\n",
            "\r\n",
            "Though always sickly and delicate Dostoevsky came out third in the\r\n",
            "final examination of the Petersburg school of Engineering. There he had\r\n",
            "already begun his first work, “Poor Folk.”\r\n",
            "\r\n",
            "This story was published by the poet Nekrassov in his review and\r\n",
            "was received with acclamations. The shy, unknown youth found himself\r\n",
            "instantly something of a celebrity. A brilliant and successful career\r\n",
            "seemed to open before him, but those hopes were soon dashed. In 1849 he\r\n",
            "was arrested.\r\n",
            "\r\n",
            "Though neither by temperament nor conviction a revolutionist, Dostoevsky\r\n",
            "was one of a little group of young men who met together to read Fourier\r\n",
            "and Proudhon. He was accused of “taking part in conversations against\r\n",
            "the censorship, of reading a letter from Byelinsky to Gogol, and of\r\n",
            "knowing of the intention to set up a printing press.” Under Nicholas\r\n",
            "I. (that “stern and just man,” as Maurice Baring calls him) this was\r\n",
            "enough, and he was condemned to death. After eight months’ imprisonment\r\n",
            "he was with twenty-one others taken out to the Semyonovsky Square to\r\n",
            "be shot. Writing to his brother Mihail, Dostoevsky says: “They snapped\r\n",
            "words over our heads, and they made us put on the white shirts worn by\r\n",
            "persons condemned to death. Thereupon we were bound in threes to stakes,\r\n",
            "to suffer execution. Being the third in the row, I concluded I had only\r\n",
            "a few minutes of life before me. I thought of you and your dear ones and\r\n",
            "I contrived to kiss Plestcheiev and Dourov, who were next to me, and to\r\n",
            "bid them farewell. Suddenly the troops beat a tattoo, we were unbound,\r\n",
            "brought back upon the scaffold, and informed that his Majesty had spared\r\n",
            "us our lives.” The sentence was commuted to hard labour.\r\n",
            "\r\n",
            "One of the prisoners, Grigoryev, went mad as soon as he was untied, and\r\n",
            "never regained his sanity.\r\n",
            "\r\n",
            "The intense suffering of this experi\n"
          ],
          "name": "stdout"
        }
      ]
    },
    {
      "cell_type": "code",
      "metadata": {
        "colab": {
          "base_uri": "https://localhost:8080/",
          "height": 540
        },
        "id": "j9QCaCJXO9qH",
        "outputId": "53fbc7b0-1772-43e8-f0b9-860a3079b505"
      },
      "source": [
        "sentence=sentence.lower()\n",
        "sentence"
      ],
      "execution_count": null,
      "outputs": [
        {
          "output_type": "execute_result",
          "data": {
            "application/vnd.google.colaboratory.intrinsic+json": {
              "type": "string"
            },
            "text/plain": [
              "'rg ebook crime and punishment ***\\r\\n\\r\\n\\r\\n\\r\\n\\r\\nproduced by john bickers; and dagny\\r\\n\\r\\n\\r\\n\\r\\n\\r\\n\\r\\ncrime and punishment\\r\\n\\r\\nby fyodor dostoevsky\\r\\n\\r\\n\\r\\n\\r\\ntranslated by constance garnett\\r\\n\\r\\n\\r\\n\\r\\n\\r\\ntranslator’s preface\\r\\n\\r\\na few words about dostoevsky himself may help the english reader to\\r\\nunderstand his work.\\r\\n\\r\\ndostoevsky was the son of a doctor. his parents were very hard-working\\r\\nand deeply religious people, but so poor that they lived with their five\\r\\nchildren in only two rooms. the father and mother spent their evenings\\r\\nin reading aloud to their children, generally from books of a serious\\r\\ncharacter.\\r\\n\\r\\nthough always sickly and delicate dostoevsky came out third in the\\r\\nfinal examination of the petersburg school of engineering. there he had\\r\\nalready begun his first work, “poor folk.”\\r\\n\\r\\nthis story was published by the poet nekrassov in his review and\\r\\nwas received with acclamations. the shy, unknown youth found himself\\r\\ninstantly something of a celebrity. a brilliant and successful career\\r\\nseemed to open before him, but those hopes were soon dashed. in 1849 he\\r\\nwas arrested.\\r\\n\\r\\nthough neither by temperament nor conviction a revolutionist, dostoevsky\\r\\nwas one of a little group of young men who met together to read fourier\\r\\nand proudhon. he was accused of “taking part in conversations against\\r\\nthe censorship, of reading a letter from byelinsky to gogol, and of\\r\\nknowing of the intention to set up a printing press.” under nicholas\\r\\ni. (that “stern and just man,” as maurice baring calls him) this was\\r\\nenough, and he was condemned to death. after eight months’ imprisonment\\r\\nhe was with twenty-one others taken out to the semyonovsky square to\\r\\nbe shot. writing to his brother mihail, dostoevsky says: “they snapped\\r\\nwords over our heads, and they made us put on the white shirts worn by\\r\\npersons condemned to death. thereupon we were bound in threes to stakes,\\r\\nto suffer execution. being the third in the row, i concluded i had only\\r\\na few minutes of life before me. i thought of you and your dear ones and\\r\\ni contrived to kiss plestcheiev and dourov, who were next to me, and to\\r\\nbid them farewell. suddenly the troops beat a tattoo, we were unbound,\\r\\nbrought back upon the scaffold, and informed that his majesty had spared\\r\\nus our lives.” the sentence was commuted to hard labour.\\r\\n\\r\\none of the prisoners, grigoryev, went mad as soon as he was untied, and\\r\\nnever regained his sanity.\\r\\n\\r\\nthe intense suffering of this experi'"
            ]
          },
          "metadata": {
            "tags": []
          },
          "execution_count": 17
        }
      ]
    },
    {
      "cell_type": "code",
      "metadata": {
        "colab": {
          "base_uri": "https://localhost:8080/"
        },
        "id": "DSa9ZvKoRx2w",
        "outputId": "89bd61dc-9961-4047-ee5d-8470c9a2cc08"
      },
      "source": [
        "remove_stop_words(sentence)"
      ],
      "execution_count": null,
      "outputs": [
        {
          "output_type": "stream",
          "text": [
            "Stop Words : \n",
            "['i', 'me', 'my', 'myself', 'we', 'our', 'ours', 'ourselves', 'you', \"you're\", \"you've\", \"you'll\", \"you'd\", 'your', 'yours', 'yourself', 'yourselves', 'he', 'him', 'his', 'himself', 'she', \"she's\", 'her', 'hers', 'herself', 'it', \"it's\", 'its', 'itself', 'they', 'them', 'their', 'theirs', 'themselves', 'what', 'which', 'who', 'whom', 'this', 'that', \"that'll\", 'these', 'those', 'am', 'is', 'are', 'was', 'were', 'be', 'been', 'being', 'have', 'has', 'had', 'having', 'do', 'does', 'did', 'doing', 'a', 'an', 'the', 'and', 'but', 'if', 'or', 'because', 'as', 'until', 'while', 'of', 'at', 'by', 'for', 'with', 'about', 'against', 'between', 'into', 'through', 'during', 'before', 'after', 'above', 'below', 'to', 'from', 'up', 'down', 'in', 'out', 'on', 'off', 'over', 'under', 'again', 'further', 'then', 'once', 'here', 'there', 'when', 'where', 'why', 'how', 'all', 'any', 'both', 'each', 'few', 'more', 'most', 'other', 'some', 'such', 'no', 'nor', 'not', 'only', 'own', 'same', 'so', 'than', 'too', 'very', 's', 't', 'can', 'will', 'just', 'don', \"don't\", 'should', \"should've\", 'now', 'd', 'll', 'm', 'o', 're', 've', 'y', 'ain', 'aren', \"aren't\", 'couldn', \"couldn't\", 'didn', \"didn't\", 'doesn', \"doesn't\", 'hadn', \"hadn't\", 'hasn', \"hasn't\", 'haven', \"haven't\", 'isn', \"isn't\", 'ma', 'mightn', \"mightn't\", 'mustn', \"mustn't\", 'needn', \"needn't\", 'shan', \"shan't\", 'shouldn', \"shouldn't\", 'wasn', \"wasn't\", 'weren', \"weren't\", 'won', \"won't\", 'wouldn', \"wouldn't\"]\n",
            "\n",
            "Splitted text : \n",
            "['rg', 'ebook', 'crime', 'and', 'punishment', 'produced', 'by', 'john', 'bickers', ';', 'and', 'dagny', 'crime', 'and', 'punishment', 'by', 'fyodor', 'dostoevsky', 'translated', 'by', 'constance', 'garnett', 'translator', 's', 'preface', 'a', 'few', 'words', 'about', 'dostoevsky', 'himself', 'may', 'help', 'the', 'english', 'reader', 'to', 'understand', 'his', 'work', '.', 'dostoevsky', 'was', 'the', 'son', 'of', 'a', 'doctor', '.', 'his', 'parents', 'were', 'very', 'hard', 'working', 'and', 'deeply', 'religious', 'people', ',', 'but', 'so', 'poor', 'that', 'they', 'lived', 'with', 'their', 'five', 'children', 'in', 'only', 'two', 'rooms', '.', 'the', 'father', 'and', 'mother', 'spent', 'their', 'evenings', 'in', 'reading', 'aloud', 'to', 'their', 'children', ',', 'generally', 'from', 'books', 'of', 'a', 'serious', 'character', '.', 'though', 'always', 'sickly', 'and', 'delicate', 'dostoevsky', 'came', 'out', 'third', 'in', 'the', 'final', 'examination', 'of', 'the', 'petersburg', 'school', 'of', 'engineering', '.', 'there', 'he', 'had', 'already', 'begun', 'his', 'first', 'work', ',', 'poor', 'folk', '.', 'this', 'story', 'was', 'published', 'by', 'the', 'poet', 'nekrassov', 'in', 'his', 'review', 'and', 'was', 'received', 'with', 'acclamations', '.', 'the', 'shy', ',', 'unknown', 'youth', 'found', 'himself', 'instantly', 'something', 'of', 'a', 'celebrity', '.', 'a', 'brilliant', 'and', 'successful', 'career', 'seemed', 'to', 'open', 'before', 'him', ',', 'but', 'those', 'hopes', 'were', 'soon', 'dashed', '.', 'in', '1849', 'he', 'was', 'arrested', '.', 'though', 'neither', 'by', 'temperament', 'nor', 'conviction', 'a', 'revolutionist', ',', 'dostoevsky', 'was', 'one', 'of', 'a', 'little', 'group', 'of', 'young', 'men', 'who', 'met', 'together', 'to', 'read', 'fourier', 'and', 'proudhon', '.', 'he', 'was', 'accused', 'of', 'taking', 'part', 'in', 'conversations', 'against', 'the', 'censorship', ',', 'of', 'reading', 'a', 'letter', 'from', 'byelinsky', 'to', 'gogol', ',', 'and', 'of', 'knowing', 'of', 'the', 'intention', 'to', 'set', 'up', 'a', 'printing', 'press', '.', 'under', 'nicholas', 'i', '.', 'that', 'stern', 'and', 'just', 'man', ',', 'as', 'maurice', 'baring', 'calls', 'him', 'this', 'was', 'enough', ',', 'and', 'he', 'was', 'condemned', 'to', 'death', '.', 'after', 'eight', 'months', 'imprisonment', 'he', 'was', 'with', 'twenty', 'one', 'others', 'taken', 'out', 'to', 'the', 'semyonovsky', 'square', 'to', 'be', 'shot', '.', 'writing', 'to', 'his', 'brother', 'mihail', ',', 'dostoevsky', 'says', 'they', 'snapped', 'words', 'over', 'our', 'heads', ',', 'and', 'they', 'made', 'us', 'put', 'on', 'the', 'white', 'shirts', 'worn', 'by', 'persons', 'condemned', 'to', 'death', '.', 'thereupon', 'we', 'were', 'bound', 'in', 'threes', 'to', 'stakes', ',', 'to', 'suffer', 'execution', '.', 'being', 'the', 'third', 'in', 'the', 'row', ',', 'i', 'concluded', 'i', 'had', 'only', 'a', 'few', 'minutes', 'of', 'life', 'before', 'me', '.', 'i', 'thought', 'of', 'you', 'and', 'your', 'dear', 'ones', 'and', 'i', 'contrived', 'to', 'kiss', 'plestcheiev', 'and', 'dourov', ',', 'who', 'were', 'next', 'to', 'me', ',', 'and', 'to', 'bid', 'them', 'farewell', '.', 'suddenly', 'the', 'troops', 'beat', 'a', 'tattoo', ',', 'we', 'were', 'unbound', ',', 'brought', 'back', 'upon', 'the', 'scaffold', ',', 'and', 'informed', 'that', 'his', 'majesty', 'had', 'spared', 'us', 'our', 'lives', '.', 'the', 'sentence', 'was', 'commuted', 'to', 'hard', 'labour', '.', 'one', 'of', 'the', 'prisoners', ',', 'grigoryev', ',', 'went', 'mad', 'as', 'soon', 'as', 'he', 'was', 'untied', ',', 'and', 'never', 'regained', 'his', 'sanity', '.', 'the', 'intense', 'suffering', 'of', 'this', 'experi']\n",
            "\n",
            "Text with stop words removed : \n",
            "rg ebook crime punishment produced john bickers ; dagny crime punishment fyodor dostoevsky translated constance garnett translator preface words dostoevsky may help english reader understand work . dostoevsky son doctor . parents hard working deeply religious people , poor lived five children two rooms . father mother spent evenings reading aloud children , generally books serious character . though always sickly delicate dostoevsky came third final examination petersburg school engineering . already begun first work , poor folk . story published poet nekrassov review received acclamations . shy , unknown youth found instantly something celebrity . brilliant successful career seemed open , hopes soon dashed . 1849 arrested . though neither temperament conviction revolutionist , dostoevsky one little group young men met together read fourier proudhon . accused taking part conversations censorship , reading letter byelinsky gogol , knowing intention set printing press . nicholas . stern man , maurice baring calls enough , condemned death . eight months imprisonment twenty one others taken semyonovsky square shot . writing brother mihail , dostoevsky says snapped words heads , made us put white shirts worn persons condemned death . thereupon bound threes stakes , suffer execution . third row , concluded minutes life . thought dear ones contrived kiss plestcheiev dourov , next , bid farewell . suddenly troops beat tattoo , unbound , brought back upon scaffold , informed majesty spared us lives . sentence commuted hard labour . one prisoners , grigoryev , went mad soon untied , never regained sanity . intense suffering experi \n"
          ],
          "name": "stdout"
        }
      ]
    },
    {
      "cell_type": "markdown",
      "metadata": {
        "id": "OX74iNaqSUSH"
      },
      "source": [
        "**4.Write a program to load a new corpus into NLTK and perform stemming on it.**"
      ]
    },
    {
      "cell_type": "code",
      "metadata": {
        "id": "W4YZRSaqWYQn"
      },
      "source": [
        "import nltk,re\n",
        "from nltk.tokenize import sent_tokenize ,word_tokenize\n",
        "from nltk.stem import PorterStemmer,LancasterStemmer\n",
        "porter=PorterStemmer()\n",
        "lancaster=LancasterStemmer()"
      ],
      "execution_count": null,
      "outputs": []
    },
    {
      "cell_type": "code",
      "metadata": {
        "id": "YlDj7e-LYfPK"
      },
      "source": [
        "def stemSentence(sentence):\n",
        "  token_words=word_tokenize(sentence)\n",
        "  print(\"Tokenized Words : \")\n",
        "  print(token_words)\n",
        "  stem_sentence=[]\n",
        "  for word in token_words:\n",
        "    stem_sentence.append(porter.stem(word))\n",
        "  return stem_sentence"
      ],
      "execution_count": null,
      "outputs": []
    },
    {
      "cell_type": "code",
      "metadata": {
        "colab": {
          "base_uri": "https://localhost:8080/"
        },
        "id": "lr7s2Ix4ZLM5",
        "outputId": "5817e74e-0e80-45bb-a432-4ecc3fe2b5ac"
      },
      "source": [
        "url='http://www.gutenberg.org/files/2554/2554-0.txt'\n",
        "response=request.urlopen(url)\n",
        "text=response.read().decode('utf8')\n",
        "sentence=text[560:3000]\n",
        "print(sentence)\n"
      ],
      "execution_count": null,
      "outputs": [
        {
          "output_type": "stream",
          "text": [
            "RG EBOOK CRIME AND PUNISHMENT ***\r\n",
            "\r\n",
            "\r\n",
            "\r\n",
            "\r\n",
            "Produced by John Bickers; and Dagny\r\n",
            "\r\n",
            "\r\n",
            "\r\n",
            "\r\n",
            "\r\n",
            "CRIME AND PUNISHMENT\r\n",
            "\r\n",
            "By Fyodor Dostoevsky\r\n",
            "\r\n",
            "\r\n",
            "\r\n",
            "Translated By Constance Garnett\r\n",
            "\r\n",
            "\r\n",
            "\r\n",
            "\r\n",
            "TRANSLATOR’S PREFACE\r\n",
            "\r\n",
            "A few words about Dostoevsky himself may help the English reader to\r\n",
            "understand his work.\r\n",
            "\r\n",
            "Dostoevsky was the son of a doctor. His parents were very hard-working\r\n",
            "and deeply religious people, but so poor that they lived with their five\r\n",
            "children in only two rooms. The father and mother spent their evenings\r\n",
            "in reading aloud to their children, generally from books of a serious\r\n",
            "character.\r\n",
            "\r\n",
            "Though always sickly and delicate Dostoevsky came out third in the\r\n",
            "final examination of the Petersburg school of Engineering. There he had\r\n",
            "already begun his first work, “Poor Folk.”\r\n",
            "\r\n",
            "This story was published by the poet Nekrassov in his review and\r\n",
            "was received with acclamations. The shy, unknown youth found himself\r\n",
            "instantly something of a celebrity. A brilliant and successful career\r\n",
            "seemed to open before him, but those hopes were soon dashed. In 1849 he\r\n",
            "was arrested.\r\n",
            "\r\n",
            "Though neither by temperament nor conviction a revolutionist, Dostoevsky\r\n",
            "was one of a little group of young men who met together to read Fourier\r\n",
            "and Proudhon. He was accused of “taking part in conversations against\r\n",
            "the censorship, of reading a letter from Byelinsky to Gogol, and of\r\n",
            "knowing of the intention to set up a printing press.” Under Nicholas\r\n",
            "I. (that “stern and just man,” as Maurice Baring calls him) this was\r\n",
            "enough, and he was condemned to death. After eight months’ imprisonment\r\n",
            "he was with twenty-one others taken out to the Semyonovsky Square to\r\n",
            "be shot. Writing to his brother Mihail, Dostoevsky says: “They snapped\r\n",
            "words over our heads, and they made us put on the white shirts worn by\r\n",
            "persons condemned to death. Thereupon we were bound in threes to stakes,\r\n",
            "to suffer execution. Being the third in the row, I concluded I had only\r\n",
            "a few minutes of life before me. I thought of you and your dear ones and\r\n",
            "I contrived to kiss Plestcheiev and Dourov, who were next to me, and to\r\n",
            "bid them farewell. Suddenly the troops beat a tattoo, we were unbound,\r\n",
            "brought back upon the scaffold, and informed that his Majesty had spared\r\n",
            "us our lives.” The sentence was commuted to hard labour.\r\n",
            "\r\n",
            "One of the prisoners, Grigoryev, went mad as soon as he was untied, and\r\n",
            "never regained his sanity.\r\n",
            "\r\n",
            "The intense suffering of this experi\n"
          ],
          "name": "stdout"
        }
      ]
    },
    {
      "cell_type": "code",
      "metadata": {
        "colab": {
          "base_uri": "https://localhost:8080/"
        },
        "id": "AO-fmVpYZnuq",
        "outputId": "8b3aab07-f25c-4a4f-d9ed-adfe7f17767e"
      },
      "source": [
        "x=stemSentence(sentence)"
      ],
      "execution_count": null,
      "outputs": [
        {
          "output_type": "stream",
          "text": [
            "Tokenized Words : \n",
            "['RG', 'EBOOK', 'CRIME', 'AND', 'PUNISHMENT', '***', 'Produced', 'by', 'John', 'Bickers', ';', 'and', 'Dagny', 'CRIME', 'AND', 'PUNISHMENT', 'By', 'Fyodor', 'Dostoevsky', 'Translated', 'By', 'Constance', 'Garnett', 'TRANSLATOR', '’', 'S', 'PREFACE', 'A', 'few', 'words', 'about', 'Dostoevsky', 'himself', 'may', 'help', 'the', 'English', 'reader', 'to', 'understand', 'his', 'work', '.', 'Dostoevsky', 'was', 'the', 'son', 'of', 'a', 'doctor', '.', 'His', 'parents', 'were', 'very', 'hard-working', 'and', 'deeply', 'religious', 'people', ',', 'but', 'so', 'poor', 'that', 'they', 'lived', 'with', 'their', 'five', 'children', 'in', 'only', 'two', 'rooms', '.', 'The', 'father', 'and', 'mother', 'spent', 'their', 'evenings', 'in', 'reading', 'aloud', 'to', 'their', 'children', ',', 'generally', 'from', 'books', 'of', 'a', 'serious', 'character', '.', 'Though', 'always', 'sickly', 'and', 'delicate', 'Dostoevsky', 'came', 'out', 'third', 'in', 'the', 'final', 'examination', 'of', 'the', 'Petersburg', 'school', 'of', 'Engineering', '.', 'There', 'he', 'had', 'already', 'begun', 'his', 'first', 'work', ',', '“', 'Poor', 'Folk.', '”', 'This', 'story', 'was', 'published', 'by', 'the', 'poet', 'Nekrassov', 'in', 'his', 'review', 'and', 'was', 'received', 'with', 'acclamations', '.', 'The', 'shy', ',', 'unknown', 'youth', 'found', 'himself', 'instantly', 'something', 'of', 'a', 'celebrity', '.', 'A', 'brilliant', 'and', 'successful', 'career', 'seemed', 'to', 'open', 'before', 'him', ',', 'but', 'those', 'hopes', 'were', 'soon', 'dashed', '.', 'In', '1849', 'he', 'was', 'arrested', '.', 'Though', 'neither', 'by', 'temperament', 'nor', 'conviction', 'a', 'revolutionist', ',', 'Dostoevsky', 'was', 'one', 'of', 'a', 'little', 'group', 'of', 'young', 'men', 'who', 'met', 'together', 'to', 'read', 'Fourier', 'and', 'Proudhon', '.', 'He', 'was', 'accused', 'of', '“', 'taking', 'part', 'in', 'conversations', 'against', 'the', 'censorship', ',', 'of', 'reading', 'a', 'letter', 'from', 'Byelinsky', 'to', 'Gogol', ',', 'and', 'of', 'knowing', 'of', 'the', 'intention', 'to', 'set', 'up', 'a', 'printing', 'press.', '”', 'Under', 'Nicholas', 'I', '.', '(', 'that', '“', 'stern', 'and', 'just', 'man', ',', '”', 'as', 'Maurice', 'Baring', 'calls', 'him', ')', 'this', 'was', 'enough', ',', 'and', 'he', 'was', 'condemned', 'to', 'death', '.', 'After', 'eight', 'months', '’', 'imprisonment', 'he', 'was', 'with', 'twenty-one', 'others', 'taken', 'out', 'to', 'the', 'Semyonovsky', 'Square', 'to', 'be', 'shot', '.', 'Writing', 'to', 'his', 'brother', 'Mihail', ',', 'Dostoevsky', 'says', ':', '“', 'They', 'snapped', 'words', 'over', 'our', 'heads', ',', 'and', 'they', 'made', 'us', 'put', 'on', 'the', 'white', 'shirts', 'worn', 'by', 'persons', 'condemned', 'to', 'death', '.', 'Thereupon', 'we', 'were', 'bound', 'in', 'threes', 'to', 'stakes', ',', 'to', 'suffer', 'execution', '.', 'Being', 'the', 'third', 'in', 'the', 'row', ',', 'I', 'concluded', 'I', 'had', 'only', 'a', 'few', 'minutes', 'of', 'life', 'before', 'me', '.', 'I', 'thought', 'of', 'you', 'and', 'your', 'dear', 'ones', 'and', 'I', 'contrived', 'to', 'kiss', 'Plestcheiev', 'and', 'Dourov', ',', 'who', 'were', 'next', 'to', 'me', ',', 'and', 'to', 'bid', 'them', 'farewell', '.', 'Suddenly', 'the', 'troops', 'beat', 'a', 'tattoo', ',', 'we', 'were', 'unbound', ',', 'brought', 'back', 'upon', 'the', 'scaffold', ',', 'and', 'informed', 'that', 'his', 'Majesty', 'had', 'spared', 'us', 'our', 'lives.', '”', 'The', 'sentence', 'was', 'commuted', 'to', 'hard', 'labour', '.', 'One', 'of', 'the', 'prisoners', ',', 'Grigoryev', ',', 'went', 'mad', 'as', 'soon', 'as', 'he', 'was', 'untied', ',', 'and', 'never', 'regained', 'his', 'sanity', '.', 'The', 'intense', 'suffering', 'of', 'this', 'experi']\n"
          ],
          "name": "stdout"
        }
      ]
    },
    {
      "cell_type": "code",
      "metadata": {
        "id": "rDE2wZlhZrcr"
      },
      "source": [
        "sentence=re.findall(r\"[\\w']+|[.,!?;]\",sentence)"
      ],
      "execution_count": null,
      "outputs": []
    },
    {
      "cell_type": "code",
      "metadata": {
        "colab": {
          "base_uri": "https://localhost:8080/"
        },
        "id": "eHraQjHAaPCa",
        "outputId": "ebd5a3ed-1aa8-4d0c-f043-2823be70a8f4"
      },
      "source": [
        "print(\"Comparision beteween real words and stemmed words : \")\n",
        "print(\"{0:20}{1:20}\".format(\"Word\", \"Porter Stemmer\"))\n",
        "for i in range(len(sentence)):\n",
        "  print(\"{0:20}{1:20}\".format(sentence[i], x[i]))"
      ],
      "execution_count": null,
      "outputs": [
        {
          "output_type": "stream",
          "text": [
            "Comparision beteween real words and stemmed words : \n",
            "Word                Porter Stemmer      \n",
            "RG                  RG                  \n",
            "EBOOK               ebook               \n",
            "CRIME               crime               \n",
            "AND                 and                 \n",
            "PUNISHMENT          punish              \n",
            "Produced            ***                 \n",
            "by                  produc              \n",
            "John                by                  \n",
            "Bickers             john                \n",
            ";                   bicker              \n",
            "and                 ;                   \n",
            "Dagny               and                 \n",
            "CRIME               dagni               \n",
            "AND                 crime               \n",
            "PUNISHMENT          and                 \n",
            "By                  punish              \n",
            "Fyodor              By                  \n",
            "Dostoevsky          fyodor              \n",
            "Translated          dostoevski          \n",
            "By                  translat            \n",
            "Constance           By                  \n",
            "Garnett             constanc            \n",
            "TRANSLATOR          garnett             \n",
            "S                   translat            \n",
            "PREFACE             ’                   \n",
            "A                   S                   \n",
            "few                 prefac              \n",
            "words               A                   \n",
            "about               few                 \n",
            "Dostoevsky          word                \n",
            "himself             about               \n",
            "may                 dostoevski          \n",
            "help                himself             \n",
            "the                 may                 \n",
            "English             help                \n",
            "reader              the                 \n",
            "to                  english             \n",
            "understand          reader              \n",
            "his                 to                  \n",
            "work                understand          \n",
            ".                   hi                  \n",
            "Dostoevsky          work                \n",
            "was                 .                   \n",
            "the                 dostoevski          \n",
            "son                 wa                  \n",
            "of                  the                 \n",
            "a                   son                 \n",
            "doctor              of                  \n",
            ".                   a                   \n",
            "His                 doctor              \n",
            "parents             .                   \n",
            "were                hi                  \n",
            "very                parent              \n",
            "hard                were                \n",
            "working             veri                \n",
            "and                 hard-work           \n",
            "deeply              and                 \n",
            "religious           deepli              \n",
            "people              religi              \n",
            ",                   peopl               \n",
            "but                 ,                   \n",
            "so                  but                 \n",
            "poor                so                  \n",
            "that                poor                \n",
            "they                that                \n",
            "lived               they                \n",
            "with                live                \n",
            "their               with                \n",
            "five                their               \n",
            "children            five                \n",
            "in                  children            \n",
            "only                in                  \n",
            "two                 onli                \n",
            "rooms               two                 \n",
            ".                   room                \n",
            "The                 .                   \n",
            "father              the                 \n",
            "and                 father              \n",
            "mother              and                 \n",
            "spent               mother              \n",
            "their               spent               \n",
            "evenings            their               \n",
            "in                  even                \n",
            "reading             in                  \n",
            "aloud               read                \n",
            "to                  aloud               \n",
            "their               to                  \n",
            "children            their               \n",
            ",                   children            \n",
            "generally           ,                   \n",
            "from                gener               \n",
            "books               from                \n",
            "of                  book                \n",
            "a                   of                  \n",
            "serious             a                   \n",
            "character           seriou              \n",
            ".                   charact             \n",
            "Though              .                   \n",
            "always              though              \n",
            "sickly              alway               \n",
            "and                 sickli              \n",
            "delicate            and                 \n",
            "Dostoevsky          delic               \n",
            "came                dostoevski          \n",
            "out                 came                \n",
            "third               out                 \n",
            "in                  third               \n",
            "the                 in                  \n",
            "final               the                 \n",
            "examination         final               \n",
            "of                  examin              \n",
            "the                 of                  \n",
            "Petersburg          the                 \n",
            "school              petersburg          \n",
            "of                  school              \n",
            "Engineering         of                  \n",
            ".                   engin               \n",
            "There               .                   \n",
            "he                  there               \n",
            "had                 he                  \n",
            "already             had                 \n",
            "begun               alreadi             \n",
            "his                 begun               \n",
            "first               hi                  \n",
            "work                first               \n",
            ",                   work                \n",
            "Poor                ,                   \n",
            "Folk                “                   \n",
            ".                   poor                \n",
            "This                folk.               \n",
            "story               ”                   \n",
            "was                 thi                 \n",
            "published           stori               \n",
            "by                  wa                  \n",
            "the                 publish             \n",
            "poet                by                  \n",
            "Nekrassov           the                 \n",
            "in                  poet                \n",
            "his                 nekrassov           \n",
            "review              in                  \n",
            "and                 hi                  \n",
            "was                 review              \n",
            "received            and                 \n",
            "with                wa                  \n",
            "acclamations        receiv              \n",
            ".                   with                \n",
            "The                 acclam              \n",
            "shy                 .                   \n",
            ",                   the                 \n",
            "unknown             shi                 \n",
            "youth               ,                   \n",
            "found               unknown             \n",
            "himself             youth               \n",
            "instantly           found               \n",
            "something           himself             \n",
            "of                  instantli           \n",
            "a                   someth              \n",
            "celebrity           of                  \n",
            ".                   a                   \n",
            "A                   celebr              \n",
            "brilliant           .                   \n",
            "and                 A                   \n",
            "successful          brilliant           \n",
            "career              and                 \n",
            "seemed              success             \n",
            "to                  career              \n",
            "open                seem                \n",
            "before              to                  \n",
            "him                 open                \n",
            ",                   befor               \n",
            "but                 him                 \n",
            "those               ,                   \n",
            "hopes               but                 \n",
            "were                those               \n",
            "soon                hope                \n",
            "dashed              were                \n",
            ".                   soon                \n",
            "In                  dash                \n",
            "1849                .                   \n",
            "he                  In                  \n",
            "was                 1849                \n",
            "arrested            he                  \n",
            ".                   wa                  \n",
            "Though              arrest              \n",
            "neither             .                   \n",
            "by                  though              \n",
            "temperament         neither             \n",
            "nor                 by                  \n",
            "conviction          tempera             \n",
            "a                   nor                 \n",
            "revolutionist       convict             \n",
            ",                   a                   \n",
            "Dostoevsky          revolutionist       \n",
            "was                 ,                   \n",
            "one                 dostoevski          \n",
            "of                  wa                  \n",
            "a                   one                 \n",
            "little              of                  \n",
            "group               a                   \n",
            "of                  littl               \n",
            "young               group               \n",
            "men                 of                  \n",
            "who                 young               \n",
            "met                 men                 \n",
            "together            who                 \n",
            "to                  met                 \n",
            "read                togeth              \n",
            "Fourier             to                  \n",
            "and                 read                \n",
            "Proudhon            fourier             \n",
            ".                   and                 \n",
            "He                  proudhon            \n",
            "was                 .                   \n",
            "accused             He                  \n",
            "of                  wa                  \n",
            "taking              accus               \n",
            "part                of                  \n",
            "in                  “                   \n",
            "conversations       take                \n",
            "against             part                \n",
            "the                 in                  \n",
            "censorship          convers             \n",
            ",                   against             \n",
            "of                  the                 \n",
            "reading             censorship          \n",
            "a                   ,                   \n",
            "letter              of                  \n",
            "from                read                \n",
            "Byelinsky           a                   \n",
            "to                  letter              \n",
            "Gogol               from                \n",
            ",                   byelinski           \n",
            "and                 to                  \n",
            "of                  gogol               \n",
            "knowing             ,                   \n",
            "of                  and                 \n",
            "the                 of                  \n",
            "intention           know                \n",
            "to                  of                  \n",
            "set                 the                 \n",
            "up                  intent              \n",
            "a                   to                  \n",
            "printing            set                 \n",
            "press               up                  \n",
            ".                   a                   \n",
            "Under               print               \n",
            "Nicholas            press.              \n",
            "I                   ”                   \n",
            ".                   under               \n",
            "that                nichola             \n",
            "stern               I                   \n",
            "and                 .                   \n",
            "just                (                   \n",
            "man                 that                \n",
            ",                   “                   \n",
            "as                  stern               \n",
            "Maurice             and                 \n",
            "Baring              just                \n",
            "calls               man                 \n",
            "him                 ,                   \n",
            "this                ”                   \n",
            "was                 as                  \n",
            "enough              mauric              \n",
            ",                   bare                \n",
            "and                 call                \n",
            "he                  him                 \n",
            "was                 )                   \n",
            "condemned           thi                 \n",
            "to                  wa                  \n",
            "death               enough              \n",
            ".                   ,                   \n",
            "After               and                 \n",
            "eight               he                  \n",
            "months              wa                  \n",
            "imprisonment        condemn             \n",
            "he                  to                  \n",
            "was                 death               \n",
            "with                .                   \n",
            "twenty              after               \n",
            "one                 eight               \n",
            "others              month               \n",
            "taken               ’                   \n",
            "out                 imprison            \n",
            "to                  he                  \n",
            "the                 wa                  \n",
            "Semyonovsky         with                \n",
            "Square              twenty-on           \n",
            "to                  other               \n",
            "be                  taken               \n",
            "shot                out                 \n",
            ".                   to                  \n",
            "Writing             the                 \n",
            "to                  semyonovski         \n",
            "his                 squar               \n",
            "brother             to                  \n",
            "Mihail              be                  \n",
            ",                   shot                \n",
            "Dostoevsky          .                   \n",
            "says                write               \n",
            "They                to                  \n",
            "snapped             hi                  \n",
            "words               brother             \n",
            "over                mihail              \n",
            "our                 ,                   \n",
            "heads               dostoevski          \n",
            ",                   say                 \n",
            "and                 :                   \n",
            "they                “                   \n",
            "made                they                \n",
            "us                  snap                \n",
            "put                 word                \n",
            "on                  over                \n",
            "the                 our                 \n",
            "white               head                \n",
            "shirts              ,                   \n",
            "worn                and                 \n",
            "by                  they                \n",
            "persons             made                \n",
            "condemned           us                  \n",
            "to                  put                 \n",
            "death               on                  \n",
            ".                   the                 \n",
            "Thereupon           white               \n",
            "we                  shirt               \n",
            "were                worn                \n",
            "bound               by                  \n",
            "in                  person              \n",
            "threes              condemn             \n",
            "to                  to                  \n",
            "stakes              death               \n",
            ",                   .                   \n",
            "to                  thereupon           \n",
            "suffer              we                  \n",
            "execution           were                \n",
            ".                   bound               \n",
            "Being               in                  \n",
            "the                 three               \n",
            "third               to                  \n",
            "in                  stake               \n",
            "the                 ,                   \n",
            "row                 to                  \n",
            ",                   suffer              \n",
            "I                   execut              \n",
            "concluded           .                   \n",
            "I                   be                  \n",
            "had                 the                 \n",
            "only                third               \n",
            "a                   in                  \n",
            "few                 the                 \n",
            "minutes             row                 \n",
            "of                  ,                   \n",
            "life                I                   \n",
            "before              conclud             \n",
            "me                  I                   \n",
            ".                   had                 \n",
            "I                   onli                \n",
            "thought             a                   \n",
            "of                  few                 \n",
            "you                 minut               \n",
            "and                 of                  \n",
            "your                life                \n",
            "dear                befor               \n",
            "ones                me                  \n",
            "and                 .                   \n",
            "I                   I                   \n",
            "contrived           thought             \n",
            "to                  of                  \n",
            "kiss                you                 \n",
            "Plestcheiev         and                 \n",
            "and                 your                \n",
            "Dourov              dear                \n",
            ",                   one                 \n",
            "who                 and                 \n",
            "were                I                   \n",
            "next                contriv             \n",
            "to                  to                  \n",
            "me                  kiss                \n",
            ",                   plestcheiev         \n",
            "and                 and                 \n",
            "to                  dourov              \n",
            "bid                 ,                   \n",
            "them                who                 \n",
            "farewell            were                \n",
            ".                   next                \n",
            "Suddenly            to                  \n",
            "the                 me                  \n",
            "troops              ,                   \n",
            "beat                and                 \n",
            "a                   to                  \n",
            "tattoo              bid                 \n",
            ",                   them                \n",
            "we                  farewel             \n",
            "were                .                   \n",
            "unbound             suddenli            \n",
            ",                   the                 \n",
            "brought             troop               \n",
            "back                beat                \n",
            "upon                a                   \n",
            "the                 tattoo              \n",
            "scaffold            ,                   \n",
            ",                   we                  \n",
            "and                 were                \n",
            "informed            unbound             \n",
            "that                ,                   \n",
            "his                 brought             \n",
            "Majesty             back                \n",
            "had                 upon                \n",
            "spared              the                 \n",
            "us                  scaffold            \n",
            "our                 ,                   \n",
            "lives               and                 \n",
            ".                   inform              \n",
            "The                 that                \n",
            "sentence            hi                  \n",
            "was                 majesti             \n",
            "commuted            had                 \n",
            "to                  spare               \n",
            "hard                us                  \n",
            "labour              our                 \n",
            ".                   lives.              \n",
            "One                 ”                   \n",
            "of                  the                 \n",
            "the                 sentenc             \n",
            "prisoners           wa                  \n",
            ",                   commut              \n",
            "Grigoryev           to                  \n",
            ",                   hard                \n",
            "went                labour              \n",
            "mad                 .                   \n",
            "as                  one                 \n",
            "soon                of                  \n",
            "as                  the                 \n",
            "he                  prison              \n",
            "was                 ,                   \n",
            "untied              grigoryev           \n",
            ",                   ,                   \n",
            "and                 went                \n",
            "never               mad                 \n",
            "regained            as                  \n",
            "his                 soon                \n",
            "sanity              as                  \n",
            ".                   he                  \n",
            "The                 wa                  \n",
            "intense             unti                \n",
            "suffering           ,                   \n",
            "of                  and                 \n",
            "this                never               \n",
            "experi              regain              \n"
          ],
          "name": "stdout"
        }
      ]
    },
    {
      "cell_type": "markdown",
      "metadata": {
        "id": "nQQVNfuJayE8"
      },
      "source": [
        "**5.Write a program to lemmatize a text file after loading a new corpus into NLTK.**"
      ]
    },
    {
      "cell_type": "code",
      "metadata": {
        "id": "aTtttaY5j7cm"
      },
      "source": [
        "import nltk, re\n",
        "from nltk.tokenize import sent_tokenize, word_tokenize\n",
        "from nltk.stem import WordNetLemmatizer\n",
        "lemmatizer = WordNetLemmatizer()"
      ],
      "execution_count": null,
      "outputs": []
    },
    {
      "cell_type": "code",
      "metadata": {
        "id": "anE-J4hXmVFE"
      },
      "source": [
        "def stemSentence(sentence):\n",
        "  token_words=word_tokenize(sentence)\n",
        "  print(\"Tokenized Words : \")\n",
        "  print(token_words)\n",
        "  stem_sentence=[]\n",
        "  for word in token_words:\n",
        "    stem_sentence.append(lemmatizer.lemmatize(word))\n",
        "  return stem_sentence\n",
        "#return \"\".join(stem_sentence)\n"
      ],
      "execution_count": null,
      "outputs": []
    },
    {
      "cell_type": "code",
      "metadata": {
        "colab": {
          "base_uri": "https://localhost:8080/"
        },
        "id": "Cl-Wl71ymipb",
        "outputId": "03b980c8-b39e-44b7-aca5-32f56a9c322e"
      },
      "source": [
        "url='http://www.gutenberg.org/files/2554/2554-0.txt'\n",
        "response=request.urlopen(url)\n",
        "text=response.read().decode('utf8')\n",
        "sentence=text[560:3000]\n",
        "print(sentence)\n",
        "print()\n",
        "x=stemSentence(sentence)"
      ],
      "execution_count": null,
      "outputs": [
        {
          "output_type": "stream",
          "text": [
            "RG EBOOK CRIME AND PUNISHMENT ***\r\n",
            "\r\n",
            "\r\n",
            "\r\n",
            "\r\n",
            "Produced by John Bickers; and Dagny\r\n",
            "\r\n",
            "\r\n",
            "\r\n",
            "\r\n",
            "\r\n",
            "CRIME AND PUNISHMENT\r\n",
            "\r\n",
            "By Fyodor Dostoevsky\r\n",
            "\r\n",
            "\r\n",
            "\r\n",
            "Translated By Constance Garnett\r\n",
            "\r\n",
            "\r\n",
            "\r\n",
            "\r\n",
            "TRANSLATOR’S PREFACE\r\n",
            "\r\n",
            "A few words about Dostoevsky himself may help the English reader to\r\n",
            "understand his work.\r\n",
            "\r\n",
            "Dostoevsky was the son of a doctor. His parents were very hard-working\r\n",
            "and deeply religious people, but so poor that they lived with their five\r\n",
            "children in only two rooms. The father and mother spent their evenings\r\n",
            "in reading aloud to their children, generally from books of a serious\r\n",
            "character.\r\n",
            "\r\n",
            "Though always sickly and delicate Dostoevsky came out third in the\r\n",
            "final examination of the Petersburg school of Engineering. There he had\r\n",
            "already begun his first work, “Poor Folk.”\r\n",
            "\r\n",
            "This story was published by the poet Nekrassov in his review and\r\n",
            "was received with acclamations. The shy, unknown youth found himself\r\n",
            "instantly something of a celebrity. A brilliant and successful career\r\n",
            "seemed to open before him, but those hopes were soon dashed. In 1849 he\r\n",
            "was arrested.\r\n",
            "\r\n",
            "Though neither by temperament nor conviction a revolutionist, Dostoevsky\r\n",
            "was one of a little group of young men who met together to read Fourier\r\n",
            "and Proudhon. He was accused of “taking part in conversations against\r\n",
            "the censorship, of reading a letter from Byelinsky to Gogol, and of\r\n",
            "knowing of the intention to set up a printing press.” Under Nicholas\r\n",
            "I. (that “stern and just man,” as Maurice Baring calls him) this was\r\n",
            "enough, and he was condemned to death. After eight months’ imprisonment\r\n",
            "he was with twenty-one others taken out to the Semyonovsky Square to\r\n",
            "be shot. Writing to his brother Mihail, Dostoevsky says: “They snapped\r\n",
            "words over our heads, and they made us put on the white shirts worn by\r\n",
            "persons condemned to death. Thereupon we were bound in threes to stakes,\r\n",
            "to suffer execution. Being the third in the row, I concluded I had only\r\n",
            "a few minutes of life before me. I thought of you and your dear ones and\r\n",
            "I contrived to kiss Plestcheiev and Dourov, who were next to me, and to\r\n",
            "bid them farewell. Suddenly the troops beat a tattoo, we were unbound,\r\n",
            "brought back upon the scaffold, and informed that his Majesty had spared\r\n",
            "us our lives.” The sentence was commuted to hard labour.\r\n",
            "\r\n",
            "One of the prisoners, Grigoryev, went mad as soon as he was untied, and\r\n",
            "never regained his sanity.\r\n",
            "\r\n",
            "The intense suffering of this experi\n",
            "\n",
            "Tokenized Words : \n",
            "['RG', 'EBOOK', 'CRIME', 'AND', 'PUNISHMENT', '***', 'Produced', 'by', 'John', 'Bickers', ';', 'and', 'Dagny', 'CRIME', 'AND', 'PUNISHMENT', 'By', 'Fyodor', 'Dostoevsky', 'Translated', 'By', 'Constance', 'Garnett', 'TRANSLATOR', '’', 'S', 'PREFACE', 'A', 'few', 'words', 'about', 'Dostoevsky', 'himself', 'may', 'help', 'the', 'English', 'reader', 'to', 'understand', 'his', 'work', '.', 'Dostoevsky', 'was', 'the', 'son', 'of', 'a', 'doctor', '.', 'His', 'parents', 'were', 'very', 'hard-working', 'and', 'deeply', 'religious', 'people', ',', 'but', 'so', 'poor', 'that', 'they', 'lived', 'with', 'their', 'five', 'children', 'in', 'only', 'two', 'rooms', '.', 'The', 'father', 'and', 'mother', 'spent', 'their', 'evenings', 'in', 'reading', 'aloud', 'to', 'their', 'children', ',', 'generally', 'from', 'books', 'of', 'a', 'serious', 'character', '.', 'Though', 'always', 'sickly', 'and', 'delicate', 'Dostoevsky', 'came', 'out', 'third', 'in', 'the', 'final', 'examination', 'of', 'the', 'Petersburg', 'school', 'of', 'Engineering', '.', 'There', 'he', 'had', 'already', 'begun', 'his', 'first', 'work', ',', '“', 'Poor', 'Folk.', '”', 'This', 'story', 'was', 'published', 'by', 'the', 'poet', 'Nekrassov', 'in', 'his', 'review', 'and', 'was', 'received', 'with', 'acclamations', '.', 'The', 'shy', ',', 'unknown', 'youth', 'found', 'himself', 'instantly', 'something', 'of', 'a', 'celebrity', '.', 'A', 'brilliant', 'and', 'successful', 'career', 'seemed', 'to', 'open', 'before', 'him', ',', 'but', 'those', 'hopes', 'were', 'soon', 'dashed', '.', 'In', '1849', 'he', 'was', 'arrested', '.', 'Though', 'neither', 'by', 'temperament', 'nor', 'conviction', 'a', 'revolutionist', ',', 'Dostoevsky', 'was', 'one', 'of', 'a', 'little', 'group', 'of', 'young', 'men', 'who', 'met', 'together', 'to', 'read', 'Fourier', 'and', 'Proudhon', '.', 'He', 'was', 'accused', 'of', '“', 'taking', 'part', 'in', 'conversations', 'against', 'the', 'censorship', ',', 'of', 'reading', 'a', 'letter', 'from', 'Byelinsky', 'to', 'Gogol', ',', 'and', 'of', 'knowing', 'of', 'the', 'intention', 'to', 'set', 'up', 'a', 'printing', 'press.', '”', 'Under', 'Nicholas', 'I', '.', '(', 'that', '“', 'stern', 'and', 'just', 'man', ',', '”', 'as', 'Maurice', 'Baring', 'calls', 'him', ')', 'this', 'was', 'enough', ',', 'and', 'he', 'was', 'condemned', 'to', 'death', '.', 'After', 'eight', 'months', '’', 'imprisonment', 'he', 'was', 'with', 'twenty-one', 'others', 'taken', 'out', 'to', 'the', 'Semyonovsky', 'Square', 'to', 'be', 'shot', '.', 'Writing', 'to', 'his', 'brother', 'Mihail', ',', 'Dostoevsky', 'says', ':', '“', 'They', 'snapped', 'words', 'over', 'our', 'heads', ',', 'and', 'they', 'made', 'us', 'put', 'on', 'the', 'white', 'shirts', 'worn', 'by', 'persons', 'condemned', 'to', 'death', '.', 'Thereupon', 'we', 'were', 'bound', 'in', 'threes', 'to', 'stakes', ',', 'to', 'suffer', 'execution', '.', 'Being', 'the', 'third', 'in', 'the', 'row', ',', 'I', 'concluded', 'I', 'had', 'only', 'a', 'few', 'minutes', 'of', 'life', 'before', 'me', '.', 'I', 'thought', 'of', 'you', 'and', 'your', 'dear', 'ones', 'and', 'I', 'contrived', 'to', 'kiss', 'Plestcheiev', 'and', 'Dourov', ',', 'who', 'were', 'next', 'to', 'me', ',', 'and', 'to', 'bid', 'them', 'farewell', '.', 'Suddenly', 'the', 'troops', 'beat', 'a', 'tattoo', ',', 'we', 'were', 'unbound', ',', 'brought', 'back', 'upon', 'the', 'scaffold', ',', 'and', 'informed', 'that', 'his', 'Majesty', 'had', 'spared', 'us', 'our', 'lives.', '”', 'The', 'sentence', 'was', 'commuted', 'to', 'hard', 'labour', '.', 'One', 'of', 'the', 'prisoners', ',', 'Grigoryev', ',', 'went', 'mad', 'as', 'soon', 'as', 'he', 'was', 'untied', ',', 'and', 'never', 'regained', 'his', 'sanity', '.', 'The', 'intense', 'suffering', 'of', 'this', 'experi']\n"
          ],
          "name": "stdout"
        }
      ]
    },
    {
      "cell_type": "code",
      "metadata": {
        "id": "_dOvaN_Qm6SB"
      },
      "source": [
        "sentence = re.findall(r\"[\\w']+|[.,!?;]\", sentence)\n"
      ],
      "execution_count": null,
      "outputs": []
    },
    {
      "cell_type": "code",
      "metadata": {
        "colab": {
          "base_uri": "https://localhost:8080/"
        },
        "id": "QBoGtI4Im8mm",
        "outputId": "0f7066e4-fe93-4cb6-de84-07b9a93a6288"
      },
      "source": [
        "print(\"Comparison between real words and lemmatized words : \")\n",
        "print(\"{0:20}{1:20}\".format(\"Word\", \"Lemmatization\"))\n",
        "for i in range(len(sentence)):\n",
        "  print(\"{0:20}{1:20}\".format(sentence[i], x[i]))"
      ],
      "execution_count": null,
      "outputs": [
        {
          "output_type": "stream",
          "text": [
            "Comparison between real words and lemmatized words : \n",
            "Word                Lemmatization       \n",
            "RG                  RG                  \n",
            "EBOOK               EBOOK               \n",
            "CRIME               CRIME               \n",
            "AND                 AND                 \n",
            "PUNISHMENT          PUNISHMENT          \n",
            "Produced            ***                 \n",
            "by                  Produced            \n",
            "John                by                  \n",
            "Bickers             John                \n",
            ";                   Bickers             \n",
            "and                 ;                   \n",
            "Dagny               and                 \n",
            "CRIME               Dagny               \n",
            "AND                 CRIME               \n",
            "PUNISHMENT          AND                 \n",
            "By                  PUNISHMENT          \n",
            "Fyodor              By                  \n",
            "Dostoevsky          Fyodor              \n",
            "Translated          Dostoevsky          \n",
            "By                  Translated          \n",
            "Constance           By                  \n",
            "Garnett             Constance           \n",
            "TRANSLATOR          Garnett             \n",
            "S                   TRANSLATOR          \n",
            "PREFACE             ’                   \n",
            "A                   S                   \n",
            "few                 PREFACE             \n",
            "words               A                   \n",
            "about               few                 \n",
            "Dostoevsky          word                \n",
            "himself             about               \n",
            "may                 Dostoevsky          \n",
            "help                himself             \n",
            "the                 may                 \n",
            "English             help                \n",
            "reader              the                 \n",
            "to                  English             \n",
            "understand          reader              \n",
            "his                 to                  \n",
            "work                understand          \n",
            ".                   his                 \n",
            "Dostoevsky          work                \n",
            "was                 .                   \n",
            "the                 Dostoevsky          \n",
            "son                 wa                  \n",
            "of                  the                 \n",
            "a                   son                 \n",
            "doctor              of                  \n",
            ".                   a                   \n",
            "His                 doctor              \n",
            "parents             .                   \n",
            "were                His                 \n",
            "very                parent              \n",
            "hard                were                \n",
            "working             very                \n",
            "and                 hard-working        \n",
            "deeply              and                 \n",
            "religious           deeply              \n",
            "people              religious           \n",
            ",                   people              \n",
            "but                 ,                   \n",
            "so                  but                 \n",
            "poor                so                  \n",
            "that                poor                \n",
            "they                that                \n",
            "lived               they                \n",
            "with                lived               \n",
            "their               with                \n",
            "five                their               \n",
            "children            five                \n",
            "in                  child               \n",
            "only                in                  \n",
            "two                 only                \n",
            "rooms               two                 \n",
            ".                   room                \n",
            "The                 .                   \n",
            "father              The                 \n",
            "and                 father              \n",
            "mother              and                 \n",
            "spent               mother              \n",
            "their               spent               \n",
            "evenings            their               \n",
            "in                  evening             \n",
            "reading             in                  \n",
            "aloud               reading             \n",
            "to                  aloud               \n",
            "their               to                  \n",
            "children            their               \n",
            ",                   child               \n",
            "generally           ,                   \n",
            "from                generally           \n",
            "books               from                \n",
            "of                  book                \n",
            "a                   of                  \n",
            "serious             a                   \n",
            "character           serious             \n",
            ".                   character           \n",
            "Though              .                   \n",
            "always              Though              \n",
            "sickly              always              \n",
            "and                 sickly              \n",
            "delicate            and                 \n",
            "Dostoevsky          delicate            \n",
            "came                Dostoevsky          \n",
            "out                 came                \n",
            "third               out                 \n",
            "in                  third               \n",
            "the                 in                  \n",
            "final               the                 \n",
            "examination         final               \n",
            "of                  examination         \n",
            "the                 of                  \n",
            "Petersburg          the                 \n",
            "school              Petersburg          \n",
            "of                  school              \n",
            "Engineering         of                  \n",
            ".                   Engineering         \n",
            "There               .                   \n",
            "he                  There               \n",
            "had                 he                  \n",
            "already             had                 \n",
            "begun               already             \n",
            "his                 begun               \n",
            "first               his                 \n",
            "work                first               \n",
            ",                   work                \n",
            "Poor                ,                   \n",
            "Folk                “                   \n",
            ".                   Poor                \n",
            "This                Folk.               \n",
            "story               ”                   \n",
            "was                 This                \n",
            "published           story               \n",
            "by                  wa                  \n",
            "the                 published           \n",
            "poet                by                  \n",
            "Nekrassov           the                 \n",
            "in                  poet                \n",
            "his                 Nekrassov           \n",
            "review              in                  \n",
            "and                 his                 \n",
            "was                 review              \n",
            "received            and                 \n",
            "with                wa                  \n",
            "acclamations        received            \n",
            ".                   with                \n",
            "The                 acclamation         \n",
            "shy                 .                   \n",
            ",                   The                 \n",
            "unknown             shy                 \n",
            "youth               ,                   \n",
            "found               unknown             \n",
            "himself             youth               \n",
            "instantly           found               \n",
            "something           himself             \n",
            "of                  instantly           \n",
            "a                   something           \n",
            "celebrity           of                  \n",
            ".                   a                   \n",
            "A                   celebrity           \n",
            "brilliant           .                   \n",
            "and                 A                   \n",
            "successful          brilliant           \n",
            "career              and                 \n",
            "seemed              successful          \n",
            "to                  career              \n",
            "open                seemed              \n",
            "before              to                  \n",
            "him                 open                \n",
            ",                   before              \n",
            "but                 him                 \n",
            "those               ,                   \n",
            "hopes               but                 \n",
            "were                those               \n",
            "soon                hope                \n",
            "dashed              were                \n",
            ".                   soon                \n",
            "In                  dashed              \n",
            "1849                .                   \n",
            "he                  In                  \n",
            "was                 1849                \n",
            "arrested            he                  \n",
            ".                   wa                  \n",
            "Though              arrested            \n",
            "neither             .                   \n",
            "by                  Though              \n",
            "temperament         neither             \n",
            "nor                 by                  \n",
            "conviction          temperament         \n",
            "a                   nor                 \n",
            "revolutionist       conviction          \n",
            ",                   a                   \n",
            "Dostoevsky          revolutionist       \n",
            "was                 ,                   \n",
            "one                 Dostoevsky          \n",
            "of                  wa                  \n",
            "a                   one                 \n",
            "little              of                  \n",
            "group               a                   \n",
            "of                  little              \n",
            "young               group               \n",
            "men                 of                  \n",
            "who                 young               \n",
            "met                 men                 \n",
            "together            who                 \n",
            "to                  met                 \n",
            "read                together            \n",
            "Fourier             to                  \n",
            "and                 read                \n",
            "Proudhon            Fourier             \n",
            ".                   and                 \n",
            "He                  Proudhon            \n",
            "was                 .                   \n",
            "accused             He                  \n",
            "of                  wa                  \n",
            "taking              accused             \n",
            "part                of                  \n",
            "in                  “                   \n",
            "conversations       taking              \n",
            "against             part                \n",
            "the                 in                  \n",
            "censorship          conversation        \n",
            ",                   against             \n",
            "of                  the                 \n",
            "reading             censorship          \n",
            "a                   ,                   \n",
            "letter              of                  \n",
            "from                reading             \n",
            "Byelinsky           a                   \n",
            "to                  letter              \n",
            "Gogol               from                \n",
            ",                   Byelinsky           \n",
            "and                 to                  \n",
            "of                  Gogol               \n",
            "knowing             ,                   \n",
            "of                  and                 \n",
            "the                 of                  \n",
            "intention           knowing             \n",
            "to                  of                  \n",
            "set                 the                 \n",
            "up                  intention           \n",
            "a                   to                  \n",
            "printing            set                 \n",
            "press               up                  \n",
            ".                   a                   \n",
            "Under               printing            \n",
            "Nicholas            press.              \n",
            "I                   ”                   \n",
            ".                   Under               \n",
            "that                Nicholas            \n",
            "stern               I                   \n",
            "and                 .                   \n",
            "just                (                   \n",
            "man                 that                \n",
            ",                   “                   \n",
            "as                  stern               \n",
            "Maurice             and                 \n",
            "Baring              just                \n",
            "calls               man                 \n",
            "him                 ,                   \n",
            "this                ”                   \n",
            "was                 a                   \n",
            "enough              Maurice             \n",
            ",                   Baring              \n",
            "and                 call                \n",
            "he                  him                 \n",
            "was                 )                   \n",
            "condemned           this                \n",
            "to                  wa                  \n",
            "death               enough              \n",
            ".                   ,                   \n",
            "After               and                 \n",
            "eight               he                  \n",
            "months              wa                  \n",
            "imprisonment        condemned           \n",
            "he                  to                  \n",
            "was                 death               \n",
            "with                .                   \n",
            "twenty              After               \n",
            "one                 eight               \n",
            "others              month               \n",
            "taken               ’                   \n",
            "out                 imprisonment        \n",
            "to                  he                  \n",
            "the                 wa                  \n",
            "Semyonovsky         with                \n",
            "Square              twenty-one          \n",
            "to                  others              \n",
            "be                  taken               \n",
            "shot                out                 \n",
            ".                   to                  \n",
            "Writing             the                 \n",
            "to                  Semyonovsky         \n",
            "his                 Square              \n",
            "brother             to                  \n",
            "Mihail              be                  \n",
            ",                   shot                \n",
            "Dostoevsky          .                   \n",
            "says                Writing             \n",
            "They                to                  \n",
            "snapped             his                 \n",
            "words               brother             \n",
            "over                Mihail              \n",
            "our                 ,                   \n",
            "heads               Dostoevsky          \n",
            ",                   say                 \n",
            "and                 :                   \n",
            "they                “                   \n",
            "made                They                \n",
            "us                  snapped             \n",
            "put                 word                \n",
            "on                  over                \n",
            "the                 our                 \n",
            "white               head                \n",
            "shirts              ,                   \n",
            "worn                and                 \n",
            "by                  they                \n",
            "persons             made                \n",
            "condemned           u                   \n",
            "to                  put                 \n",
            "death               on                  \n",
            ".                   the                 \n",
            "Thereupon           white               \n",
            "we                  shirt               \n",
            "were                worn                \n",
            "bound               by                  \n",
            "in                  person              \n",
            "threes              condemned           \n",
            "to                  to                  \n",
            "stakes              death               \n",
            ",                   .                   \n",
            "to                  Thereupon           \n",
            "suffer              we                  \n",
            "execution           were                \n",
            ".                   bound               \n",
            "Being               in                  \n",
            "the                 three               \n",
            "third               to                  \n",
            "in                  stake               \n",
            "the                 ,                   \n",
            "row                 to                  \n",
            ",                   suffer              \n",
            "I                   execution           \n",
            "concluded           .                   \n",
            "I                   Being               \n",
            "had                 the                 \n",
            "only                third               \n",
            "a                   in                  \n",
            "few                 the                 \n",
            "minutes             row                 \n",
            "of                  ,                   \n",
            "life                I                   \n",
            "before              concluded           \n",
            "me                  I                   \n",
            ".                   had                 \n",
            "I                   only                \n",
            "thought             a                   \n",
            "of                  few                 \n",
            "you                 minute              \n",
            "and                 of                  \n",
            "your                life                \n",
            "dear                before              \n",
            "ones                me                  \n",
            "and                 .                   \n",
            "I                   I                   \n",
            "contrived           thought             \n",
            "to                  of                  \n",
            "kiss                you                 \n",
            "Plestcheiev         and                 \n",
            "and                 your                \n",
            "Dourov              dear                \n",
            ",                   one                 \n",
            "who                 and                 \n",
            "were                I                   \n",
            "next                contrived           \n",
            "to                  to                  \n",
            "me                  kiss                \n",
            ",                   Plestcheiev         \n",
            "and                 and                 \n",
            "to                  Dourov              \n",
            "bid                 ,                   \n",
            "them                who                 \n",
            "farewell            were                \n",
            ".                   next                \n",
            "Suddenly            to                  \n",
            "the                 me                  \n",
            "troops              ,                   \n",
            "beat                and                 \n",
            "a                   to                  \n",
            "tattoo              bid                 \n",
            ",                   them                \n",
            "we                  farewell            \n",
            "were                .                   \n",
            "unbound             Suddenly            \n",
            ",                   the                 \n",
            "brought             troop               \n",
            "back                beat                \n",
            "upon                a                   \n",
            "the                 tattoo              \n",
            "scaffold            ,                   \n",
            ",                   we                  \n",
            "and                 were                \n",
            "informed            unbound             \n",
            "that                ,                   \n",
            "his                 brought             \n",
            "Majesty             back                \n",
            "had                 upon                \n",
            "spared              the                 \n",
            "us                  scaffold            \n",
            "our                 ,                   \n",
            "lives               and                 \n",
            ".                   informed            \n",
            "The                 that                \n",
            "sentence            his                 \n",
            "was                 Majesty             \n",
            "commuted            had                 \n",
            "to                  spared              \n",
            "hard                u                   \n",
            "labour              our                 \n",
            ".                   lives.              \n",
            "One                 ”                   \n",
            "of                  The                 \n",
            "the                 sentence            \n",
            "prisoners           wa                  \n",
            ",                   commuted            \n",
            "Grigoryev           to                  \n",
            ",                   hard                \n",
            "went                labour              \n",
            "mad                 .                   \n",
            "as                  One                 \n",
            "soon                of                  \n",
            "as                  the                 \n",
            "he                  prisoner            \n",
            "was                 ,                   \n",
            "untied              Grigoryev           \n",
            ",                   ,                   \n",
            "and                 went                \n",
            "never               mad                 \n",
            "regained            a                   \n",
            "his                 soon                \n",
            "sanity              a                   \n",
            ".                   he                  \n",
            "The                 wa                  \n",
            "intense             untied              \n",
            "suffering           ,                   \n",
            "of                  and                 \n",
            "this                never               \n",
            "experi              regained            \n"
          ],
          "name": "stdout"
        }
      ]
    },
    {
      "cell_type": "markdown",
      "metadata": {
        "id": "9SeTLjBunJkX"
      },
      "source": [
        "**6.Write a program to evaluate frequency distribution of each word in a loaded text file and plot the frequency distribution graph for it.**"
      ]
    },
    {
      "cell_type": "code",
      "metadata": {
        "id": "xmbGWeMInYld"
      },
      "source": [
        "  import nltk,re\n",
        "  import matplotlib.pyplot as plt "
      ],
      "execution_count": null,
      "outputs": []
    },
    {
      "cell_type": "code",
      "metadata": {
        "id": "uUcgk_vd3Vxm"
      },
      "source": [
        "url='http://www.gutenberg.org/files/2554/2554-0.txt'\n",
        "response=request.urlopen(url)\n",
        "text=response.read().decode('utf8')\n",
        "sentence=text[560:3000]"
      ],
      "execution_count": null,
      "outputs": []
    },
    {
      "cell_type": "code",
      "metadata": {
        "colab": {
          "base_uri": "https://localhost:8080/"
        },
        "id": "dd-uhprtL9mY",
        "outputId": "81d45ccf-bee0-4352-a3b9-fe7694735bd8"
      },
      "source": [
        "words = re.findall(r\"[\\w']+|[.!?;]\", sentence)\n",
        "print(words)\n"
      ],
      "execution_count": null,
      "outputs": [
        {
          "output_type": "stream",
          "text": [
            "['RG', 'EBOOK', 'CRIME', 'AND', 'PUNISHMENT', 'Produced', 'by', 'John', 'Bickers', ';', 'and', 'Dagny', 'CRIME', 'AND', 'PUNISHMENT', 'By', 'Fyodor', 'Dostoevsky', 'Translated', 'By', 'Constance', 'Garnett', 'TRANSLATOR', 'S', 'PREFACE', 'A', 'few', 'words', 'about', 'Dostoevsky', 'himself', 'may', 'help', 'the', 'English', 'reader', 'to', 'understand', 'his', 'work', '.', 'Dostoevsky', 'was', 'the', 'son', 'of', 'a', 'doctor', '.', 'His', 'parents', 'were', 'very', 'hard', 'working', 'and', 'deeply', 'religious', 'people', 'but', 'so', 'poor', 'that', 'they', 'lived', 'with', 'their', 'five', 'children', 'in', 'only', 'two', 'rooms', '.', 'The', 'father', 'and', 'mother', 'spent', 'their', 'evenings', 'in', 'reading', 'aloud', 'to', 'their', 'children', 'generally', 'from', 'books', 'of', 'a', 'serious', 'character', '.', 'Though', 'always', 'sickly', 'and', 'delicate', 'Dostoevsky', 'came', 'out', 'third', 'in', 'the', 'final', 'examination', 'of', 'the', 'Petersburg', 'school', 'of', 'Engineering', '.', 'There', 'he', 'had', 'already', 'begun', 'his', 'first', 'work', 'Poor', 'Folk', '.', 'This', 'story', 'was', 'published', 'by', 'the', 'poet', 'Nekrassov', 'in', 'his', 'review', 'and', 'was', 'received', 'with', 'acclamations', '.', 'The', 'shy', 'unknown', 'youth', 'found', 'himself', 'instantly', 'something', 'of', 'a', 'celebrity', '.', 'A', 'brilliant', 'and', 'successful', 'career', 'seemed', 'to', 'open', 'before', 'him', 'but', 'those', 'hopes', 'were', 'soon', 'dashed', '.', 'In', '1849', 'he', 'was', 'arrested', '.', 'Though', 'neither', 'by', 'temperament', 'nor', 'conviction', 'a', 'revolutionist', 'Dostoevsky', 'was', 'one', 'of', 'a', 'little', 'group', 'of', 'young', 'men', 'who', 'met', 'together', 'to', 'read', 'Fourier', 'and', 'Proudhon', '.', 'He', 'was', 'accused', 'of', 'taking', 'part', 'in', 'conversations', 'against', 'the', 'censorship', 'of', 'reading', 'a', 'letter', 'from', 'Byelinsky', 'to', 'Gogol', 'and', 'of', 'knowing', 'of', 'the', 'intention', 'to', 'set', 'up', 'a', 'printing', 'press', '.', 'Under', 'Nicholas', 'I', '.', 'that', 'stern', 'and', 'just', 'man', 'as', 'Maurice', 'Baring', 'calls', 'him', 'this', 'was', 'enough', 'and', 'he', 'was', 'condemned', 'to', 'death', '.', 'After', 'eight', 'months', 'imprisonment', 'he', 'was', 'with', 'twenty', 'one', 'others', 'taken', 'out', 'to', 'the', 'Semyonovsky', 'Square', 'to', 'be', 'shot', '.', 'Writing', 'to', 'his', 'brother', 'Mihail', 'Dostoevsky', 'says', 'They', 'snapped', 'words', 'over', 'our', 'heads', 'and', 'they', 'made', 'us', 'put', 'on', 'the', 'white', 'shirts', 'worn', 'by', 'persons', 'condemned', 'to', 'death', '.', 'Thereupon', 'we', 'were', 'bound', 'in', 'threes', 'to', 'stakes', 'to', 'suffer', 'execution', '.', 'Being', 'the', 'third', 'in', 'the', 'row', 'I', 'concluded', 'I', 'had', 'only', 'a', 'few', 'minutes', 'of', 'life', 'before', 'me', '.', 'I', 'thought', 'of', 'you', 'and', 'your', 'dear', 'ones', 'and', 'I', 'contrived', 'to', 'kiss', 'Plestcheiev', 'and', 'Dourov', 'who', 'were', 'next', 'to', 'me', 'and', 'to', 'bid', 'them', 'farewell', '.', 'Suddenly', 'the', 'troops', 'beat', 'a', 'tattoo', 'we', 'were', 'unbound', 'brought', 'back', 'upon', 'the', 'scaffold', 'and', 'informed', 'that', 'his', 'Majesty', 'had', 'spared', 'us', 'our', 'lives', '.', 'The', 'sentence', 'was', 'commuted', 'to', 'hard', 'labour', '.', 'One', 'of', 'the', 'prisoners', 'Grigoryev', 'went', 'mad', 'as', 'soon', 'as', 'he', 'was', 'untied', 'and', 'never', 'regained', 'his', 'sanity', '.', 'The', 'intense', 'suffering', 'of', 'this', 'experi']\n"
          ],
          "name": "stdout"
        }
      ]
    },
    {
      "cell_type": "code",
      "metadata": {
        "colab": {
          "base_uri": "https://localhost:8080/"
        },
        "id": "AwYVEOWEMdyC",
        "outputId": "f3bd9ddb-cc30-4409-d9b7-fe16edb5a96e"
      },
      "source": [
        "d = {}\n",
        "for word in words:\n",
        "  if word in d:\n",
        "    d[word] += 1\n",
        "  else:\n",
        "    d[word] = 1\n",
        "print(d)\n"
      ],
      "execution_count": null,
      "outputs": [
        {
          "output_type": "stream",
          "text": [
            "{'RG': 1, 'EBOOK': 1, 'CRIME': 2, 'AND': 2, 'PUNISHMENT': 2, 'Produced': 1, 'by': 4, 'John': 1, 'Bickers': 1, ';': 1, 'and': 17, 'Dagny': 1, 'By': 2, 'Fyodor': 1, 'Dostoevsky': 6, 'Translated': 1, 'Constance': 1, 'Garnett': 1, 'TRANSLATOR': 1, 'S': 1, 'PREFACE': 1, 'A': 2, 'few': 2, 'words': 2, 'about': 1, 'himself': 2, 'may': 1, 'help': 1, 'the': 14, 'English': 1, 'reader': 1, 'to': 17, 'understand': 1, 'his': 6, 'work': 2, '.': 22, 'was': 11, 'son': 1, 'of': 15, 'a': 9, 'doctor': 1, 'His': 1, 'parents': 1, 'were': 5, 'very': 1, 'hard': 2, 'working': 1, 'deeply': 1, 'religious': 1, 'people': 1, 'but': 2, 'so': 1, 'poor': 1, 'that': 3, 'they': 2, 'lived': 1, 'with': 3, 'their': 3, 'five': 1, 'children': 2, 'in': 7, 'only': 2, 'two': 1, 'rooms': 1, 'The': 4, 'father': 1, 'mother': 1, 'spent': 1, 'evenings': 1, 'reading': 2, 'aloud': 1, 'generally': 1, 'from': 2, 'books': 1, 'serious': 1, 'character': 1, 'Though': 2, 'always': 1, 'sickly': 1, 'delicate': 1, 'came': 1, 'out': 2, 'third': 2, 'final': 1, 'examination': 1, 'Petersburg': 1, 'school': 1, 'Engineering': 1, 'There': 1, 'he': 5, 'had': 3, 'already': 1, 'begun': 1, 'first': 1, 'Poor': 1, 'Folk': 1, 'This': 1, 'story': 1, 'published': 1, 'poet': 1, 'Nekrassov': 1, 'review': 1, 'received': 1, 'acclamations': 1, 'shy': 1, 'unknown': 1, 'youth': 1, 'found': 1, 'instantly': 1, 'something': 1, 'celebrity': 1, 'brilliant': 1, 'successful': 1, 'career': 1, 'seemed': 1, 'open': 1, 'before': 2, 'him': 2, 'those': 1, 'hopes': 1, 'soon': 2, 'dashed': 1, 'In': 1, '1849': 1, 'arrested': 1, 'neither': 1, 'temperament': 1, 'nor': 1, 'conviction': 1, 'revolutionist': 1, 'one': 2, 'little': 1, 'group': 1, 'young': 1, 'men': 1, 'who': 2, 'met': 1, 'together': 1, 'read': 1, 'Fourier': 1, 'Proudhon': 1, 'He': 1, 'accused': 1, 'taking': 1, 'part': 1, 'conversations': 1, 'against': 1, 'censorship': 1, 'letter': 1, 'Byelinsky': 1, 'Gogol': 1, 'knowing': 1, 'intention': 1, 'set': 1, 'up': 1, 'printing': 1, 'press': 1, 'Under': 1, 'Nicholas': 1, 'I': 5, 'stern': 1, 'just': 1, 'man': 1, 'as': 3, 'Maurice': 1, 'Baring': 1, 'calls': 1, 'this': 2, 'enough': 1, 'condemned': 2, 'death': 2, 'After': 1, 'eight': 1, 'months': 1, 'imprisonment': 1, 'twenty': 1, 'others': 1, 'taken': 1, 'Semyonovsky': 1, 'Square': 1, 'be': 1, 'shot': 1, 'Writing': 1, 'brother': 1, 'Mihail': 1, 'says': 1, 'They': 1, 'snapped': 1, 'over': 1, 'our': 2, 'heads': 1, 'made': 1, 'us': 2, 'put': 1, 'on': 1, 'white': 1, 'shirts': 1, 'worn': 1, 'persons': 1, 'Thereupon': 1, 'we': 2, 'bound': 1, 'threes': 1, 'stakes': 1, 'suffer': 1, 'execution': 1, 'Being': 1, 'row': 1, 'concluded': 1, 'minutes': 1, 'life': 1, 'me': 2, 'thought': 1, 'you': 1, 'your': 1, 'dear': 1, 'ones': 1, 'contrived': 1, 'kiss': 1, 'Plestcheiev': 1, 'Dourov': 1, 'next': 1, 'bid': 1, 'them': 1, 'farewell': 1, 'Suddenly': 1, 'troops': 1, 'beat': 1, 'tattoo': 1, 'unbound': 1, 'brought': 1, 'back': 1, 'upon': 1, 'scaffold': 1, 'informed': 1, 'Majesty': 1, 'spared': 1, 'lives': 1, 'sentence': 1, 'commuted': 1, 'labour': 1, 'One': 1, 'prisoners': 1, 'Grigoryev': 1, 'went': 1, 'mad': 1, 'untied': 1, 'never': 1, 'regained': 1, 'sanity': 1, 'intense': 1, 'suffering': 1, 'experi': 1}\n"
          ],
          "name": "stdout"
        }
      ]
    },
    {
      "cell_type": "code",
      "metadata": {
        "colab": {
          "base_uri": "https://localhost:8080/"
        },
        "id": "gRa2DtXQNLC9",
        "outputId": "c1fd8f08-3165-4188-f1c5-731e1551ea11"
      },
      "source": [
        "d = {k: v for k, v in sorted(d.items(), key=lambda item: item[1])}\n",
        "print(d)\n"
      ],
      "execution_count": null,
      "outputs": [
        {
          "output_type": "stream",
          "text": [
            "{'RG': 1, 'EBOOK': 1, 'Produced': 1, 'John': 1, 'Bickers': 1, ';': 1, 'Dagny': 1, 'Fyodor': 1, 'Translated': 1, 'Constance': 1, 'Garnett': 1, 'TRANSLATOR': 1, 'S': 1, 'PREFACE': 1, 'about': 1, 'may': 1, 'help': 1, 'English': 1, 'reader': 1, 'understand': 1, 'son': 1, 'doctor': 1, 'His': 1, 'parents': 1, 'very': 1, 'working': 1, 'deeply': 1, 'religious': 1, 'people': 1, 'so': 1, 'poor': 1, 'lived': 1, 'five': 1, 'two': 1, 'rooms': 1, 'father': 1, 'mother': 1, 'spent': 1, 'evenings': 1, 'aloud': 1, 'generally': 1, 'books': 1, 'serious': 1, 'character': 1, 'always': 1, 'sickly': 1, 'delicate': 1, 'came': 1, 'final': 1, 'examination': 1, 'Petersburg': 1, 'school': 1, 'Engineering': 1, 'There': 1, 'already': 1, 'begun': 1, 'first': 1, 'Poor': 1, 'Folk': 1, 'This': 1, 'story': 1, 'published': 1, 'poet': 1, 'Nekrassov': 1, 'review': 1, 'received': 1, 'acclamations': 1, 'shy': 1, 'unknown': 1, 'youth': 1, 'found': 1, 'instantly': 1, 'something': 1, 'celebrity': 1, 'brilliant': 1, 'successful': 1, 'career': 1, 'seemed': 1, 'open': 1, 'those': 1, 'hopes': 1, 'dashed': 1, 'In': 1, '1849': 1, 'arrested': 1, 'neither': 1, 'temperament': 1, 'nor': 1, 'conviction': 1, 'revolutionist': 1, 'little': 1, 'group': 1, 'young': 1, 'men': 1, 'met': 1, 'together': 1, 'read': 1, 'Fourier': 1, 'Proudhon': 1, 'He': 1, 'accused': 1, 'taking': 1, 'part': 1, 'conversations': 1, 'against': 1, 'censorship': 1, 'letter': 1, 'Byelinsky': 1, 'Gogol': 1, 'knowing': 1, 'intention': 1, 'set': 1, 'up': 1, 'printing': 1, 'press': 1, 'Under': 1, 'Nicholas': 1, 'stern': 1, 'just': 1, 'man': 1, 'Maurice': 1, 'Baring': 1, 'calls': 1, 'enough': 1, 'After': 1, 'eight': 1, 'months': 1, 'imprisonment': 1, 'twenty': 1, 'others': 1, 'taken': 1, 'Semyonovsky': 1, 'Square': 1, 'be': 1, 'shot': 1, 'Writing': 1, 'brother': 1, 'Mihail': 1, 'says': 1, 'They': 1, 'snapped': 1, 'over': 1, 'heads': 1, 'made': 1, 'put': 1, 'on': 1, 'white': 1, 'shirts': 1, 'worn': 1, 'persons': 1, 'Thereupon': 1, 'bound': 1, 'threes': 1, 'stakes': 1, 'suffer': 1, 'execution': 1, 'Being': 1, 'row': 1, 'concluded': 1, 'minutes': 1, 'life': 1, 'thought': 1, 'you': 1, 'your': 1, 'dear': 1, 'ones': 1, 'contrived': 1, 'kiss': 1, 'Plestcheiev': 1, 'Dourov': 1, 'next': 1, 'bid': 1, 'them': 1, 'farewell': 1, 'Suddenly': 1, 'troops': 1, 'beat': 1, 'tattoo': 1, 'unbound': 1, 'brought': 1, 'back': 1, 'upon': 1, 'scaffold': 1, 'informed': 1, 'Majesty': 1, 'spared': 1, 'lives': 1, 'sentence': 1, 'commuted': 1, 'labour': 1, 'One': 1, 'prisoners': 1, 'Grigoryev': 1, 'went': 1, 'mad': 1, 'untied': 1, 'never': 1, 'regained': 1, 'sanity': 1, 'intense': 1, 'suffering': 1, 'experi': 1, 'CRIME': 2, 'AND': 2, 'PUNISHMENT': 2, 'By': 2, 'A': 2, 'few': 2, 'words': 2, 'himself': 2, 'work': 2, 'hard': 2, 'but': 2, 'they': 2, 'children': 2, 'only': 2, 'reading': 2, 'from': 2, 'Though': 2, 'out': 2, 'third': 2, 'before': 2, 'him': 2, 'soon': 2, 'one': 2, 'who': 2, 'this': 2, 'condemned': 2, 'death': 2, 'our': 2, 'us': 2, 'we': 2, 'me': 2, 'that': 3, 'with': 3, 'their': 3, 'had': 3, 'as': 3, 'by': 4, 'The': 4, 'were': 5, 'he': 5, 'I': 5, 'Dostoevsky': 6, 'his': 6, 'in': 7, 'a': 9, 'was': 11, 'the': 14, 'of': 15, 'and': 17, 'to': 17, '.': 22}\n"
          ],
          "name": "stdout"
        }
      ]
    },
    {
      "cell_type": "code",
      "metadata": {
        "colab": {
          "base_uri": "https://localhost:8080/",
          "height": 265
        },
        "id": "2ZzCAH7RNkj_",
        "outputId": "27579a3b-3a2a-41ed-cba0-86213318f49e"
      },
      "source": [
        "d1 = dict(list(d.items())[240:248])\n",
        "plt.bar(list(d1.keys()), d1.values(), color='b')\n",
        "plt.show()\n"
      ],
      "execution_count": null,
      "outputs": [
        {
          "output_type": "display_data",
          "data": {
            "image/png": "[encoded data removed]",
            "text/plain": [
              "<Figure size 432x288 with 1 Axes>"
            ]
          },
          "metadata": {
            "tags": [],
            "needs_background": "light"
          }
        }
      ]
    },
    {
      "cell_type": "markdown",
      "metadata": {
        "id": "ZwxVgbEDQjhm"
      },
      "source": [
        "**Method II for all words**"
      ]
    },
    {
      "cell_type": "code",
      "metadata": {
        "id": "8vwtNGT8QoRl"
      },
      "source": [
        "from wordcloud import WordCloud"
      ],
      "execution_count": null,
      "outputs": []
    },
    {
      "cell_type": "code",
      "metadata": {
        "colab": {
          "base_uri": "https://localhost:8080/",
          "height": 178
        },
        "id": "hYhoczYuQtS-",
        "outputId": "7802f0df-f67c-4499-c842-b5df54111078"
      },
      "source": [
        "text=\" \".join([(k+\" \")*v for k,v in d.items()])\n",
        "print(text)"
      ],
      "execution_count": null,
      "outputs": [
        {
          "output_type": "error",
          "ename": "NameError",
          "evalue": "ignored",
          "traceback": [
            "\u001b[0;31m---------------------------------------------------------------------------\u001b[0m",
            "\u001b[0;31mNameError\u001b[0m                                 Traceback (most recent call last)",
            "\u001b[0;32m<ipython-input-105-715559364483>\u001b[0m in \u001b[0;36m<module>\u001b[0;34m()\u001b[0m\n\u001b[0;32m----> 1\u001b[0;31m \u001b[0mtext\u001b[0m\u001b[0;34m=\u001b[0m\u001b[0;34m\" \"\u001b[0m\u001b[0;34m.\u001b[0m\u001b[0mjoin\u001b[0m\u001b[0;34m(\u001b[0m\u001b[0;34m[\u001b[0m\u001b[0;34m(\u001b[0m\u001b[0mk\u001b[0m\u001b[0;34m+\u001b[0m\u001b[0;34m\" \"\u001b[0m\u001b[0;34m)\u001b[0m\u001b[0;34m*\u001b[0m\u001b[0mv\u001b[0m \u001b[0;32mfor\u001b[0m \u001b[0mk\u001b[0m\u001b[0;34m,\u001b[0m\u001b[0mv\u001b[0m \u001b[0;32min\u001b[0m \u001b[0md\u001b[0m\u001b[0;34m.\u001b[0m\u001b[0mitems\u001b[0m\u001b[0;34m(\u001b[0m\u001b[0;34m)\u001b[0m\u001b[0;34m]\u001b[0m\u001b[0;34m)\u001b[0m\u001b[0;34m\u001b[0m\u001b[0;34m\u001b[0m\u001b[0m\n\u001b[0m\u001b[1;32m      2\u001b[0m \u001b[0mprint\u001b[0m\u001b[0;34m(\u001b[0m\u001b[0mtext\u001b[0m\u001b[0;34m)\u001b[0m\u001b[0;34m\u001b[0m\u001b[0;34m\u001b[0m\u001b[0m\n",
            "\u001b[0;31mNameError\u001b[0m: name 'd' is not defined"
          ]
        }
      ]
    },
    {
      "cell_type": "code",
      "metadata": {
        "colab": {
          "base_uri": "https://localhost:8080/",
          "height": 198
        },
        "id": "PIDFSM8gRCcc",
        "outputId": "d53c928c-29d7-41a0-e1df-210e963dd08c"
      },
      "source": [
        "wordcloud = WordCloud(max_font_size=40).generate(text)\n",
        "plt.figure()\n",
        "plt.imshow(wordcloud, interpolation=\"bilinear\")\n",
        "plt.axis(\"off\")\n",
        "plt.show()\n"
      ],
      "execution_count": null,
      "outputs": [
        {
          "output_type": "display_data",
          "data": {
            "image/png": "[encoded data removed]",
            "text/plain": [
              "<Figure size 432x288 with 1 Axes>"
            ]
          },
          "metadata": {
            "tags": [],
            "needs_background": "light"
          }
        }
      ]
    },
    {
      "cell_type": "markdown",
      "metadata": {
        "id": "CDvQoLugRITv"
      },
      "source": [
        "**7.Create a character N-gram model and words N-gram model in python to develop an automatic text filter using N-Grams**"
      ]
    },
    {
      "cell_type": "code",
      "metadata": {
        "id": "h0JdxefpRVKJ"
      },
      "source": [
        "import nltk\n",
        "import numpy as np\n",
        "import random\n",
        "import string\n",
        "\n",
        "import bs4 as bs\n",
        "import urllib.request\n",
        "import re"
      ],
      "execution_count": null,
      "outputs": []
    },
    {
      "cell_type": "code",
      "metadata": {
        "id": "cJC4uLZyRkgW"
      },
      "source": [
        "raw_html=urllib.request.urlopen('https://en.wikipedia.org/wiki/Cricket')\n",
        "raw_html=raw_html.read()\n",
        "\n",
        "article_html=bs.BeautifulSoup(raw_html,'lxml')\n",
        "article_paragraphs=article_html.find_all('a')\n",
        "article_text=''\n",
        "\n",
        "for para in article_paragraphs:\n",
        "  article_text+=para.text\n",
        "\n",
        "article_text=article_text.lower()\n",
        "\n",
        "#article_text"
      ],
      "execution_count": null,
      "outputs": []
    },
    {
      "cell_type": "code",
      "metadata": {
        "id": "ITTN8ms2SnYM"
      },
      "source": [
        "article_text = re.sub(r'[^A-Za-z. ]', '', article_text)\n"
      ],
      "execution_count": null,
      "outputs": []
    },
    {
      "cell_type": "code",
      "metadata": {
        "id": "9q7WbgkTSvDe"
      },
      "source": [
        "ngrams = {}\n",
        "chars = 4\n",
        "for i in range(len(article_text)-chars):\n",
        "  seq = article_text[i:i+chars]\n",
        "# print(seq)\n",
        "  if seq not in ngrams.keys():\n",
        "    ngrams[seq] = []\n",
        "  ngrams[seq].append(article_text[i+chars])"
      ],
      "execution_count": null,
      "outputs": []
    },
    {
      "cell_type": "code",
      "metadata": {
        "colab": {
          "base_uri": "https://localhost:8080/"
        },
        "id": "u28oYIbMS1Hv",
        "outputId": "d698a5ed-6c37-40e7-825d-ee6129632141"
      },
      "source": [
        "print(len(ngrams))"
      ],
      "execution_count": null,
      "outputs": [
        {
          "output_type": "stream",
          "text": [
            "8408\n"
          ],
          "name": "stdout"
        }
      ]
    },
    {
      "cell_type": "code",
      "metadata": {
        "colab": {
          "base_uri": "https://localhost:8080/"
        },
        "id": "89n72dkaH1sg",
        "outputId": "e0583bcd-92a3-47b8-e738-dfda028027e3"
      },
      "source": [
        "curr_sequence = article_text[0:chars]\n",
        "output = curr_sequence\n",
        "for i in range(200):\n",
        "  if curr_sequence not in ngrams.keys():\n",
        "    break\n",
        "  possible_chars = ngrams[curr_sequence]\n",
        "# print(possible_chars)\n",
        "  next_char = possible_chars[random.randrange(len(possible_chars))]\n",
        "# print(next_char)\n",
        "  output += next_char\n",
        "  curr_sequence = output[len(output)-chars:len(output)]\n",
        "print(output)"
      ],
      "execution_count": null,
      "outputs": [
        {
          "output_type": "stream",
          "text": [
            "jump to canternal cricket sportalglossaballpuritiusmongolian gamepainternationalstockment.. bowlingwicket clothing the usathe ballcrickethistory of famethodtest a wicketone day internationsharry all of ho\n"
          ],
          "name": "stdout"
        }
      ]
    },
    {
      "cell_type": "markdown",
      "metadata": {
        "id": "ll2t9mXPIRNm"
      },
      "source": [
        "**Words N-Grams Model**"
      ]
    },
    {
      "cell_type": "code",
      "metadata": {
        "id": "VVRM7dKlIWet"
      },
      "source": [
        "ngrams={}\n",
        "words=3\n",
        "words_tokens = nltk.word_tokenize(article_text)\n",
        "for i in range(len(words_tokens)-words):\n",
        "  seq = ' '.join(words_tokens[i:i+words])\n",
        "  # print(seq)\n",
        "  if seq not in ngrams.keys():\n",
        "    ngrams[seq] = []\n",
        "  ngrams[seq].append(words_tokens[i+words])\n"
      ],
      "execution_count": null,
      "outputs": []
    },
    {
      "cell_type": "code",
      "metadata": {
        "colab": {
          "base_uri": "https://localhost:8080/"
        },
        "id": "CIg_wik1IlTX",
        "outputId": "ecf297f9-7f6c-46b2-ac66-663b46e6e32c"
      },
      "source": [
        "curr_sequence = ' '.join(words_tokens[0:words])\n",
        "output = curr_sequence\n",
        "for i in range(50):\n",
        "  if curr_sequence not in ngrams.keys():\n",
        "    break\n",
        "    possible_words = ngrams[curr_sequence]\n",
        "    next_word = possible_words[random.randrange(len(possible_words))]\n",
        "    output += ' ' + next_word\n",
        "    seq_words = nltk.word_tokenize(output)\n",
        "    curr_sequence = ' '.join(seq_words[len(seq_words)-words:len(seq_words)])\n",
        "print(output)"
      ],
      "execution_count": null,
      "outputs": [
        {
          "output_type": "stream",
          "text": [
            "jump to navigationjump\n"
          ],
          "name": "stdout"
        }
      ]
    },
    {
      "cell_type": "markdown",
      "metadata": {
        "id": "pqnGLeQDI7Qe"
      },
      "source": [
        "**8.Install and implement English Wordnet to determine the similarity between words in the given text.**"
      ]
    },
    {
      "cell_type": "code",
      "metadata": {
        "id": "ix5Ylh8zSQ3e"
      },
      "source": [
        "from nltk.tokenize import sent_tokenize, word_tokenize\n",
        "import warnings\n",
        "warnings.filterwarnings(action = 'ignore')\n",
        "import gensim\n",
        "from gensim.models import Word2Vec"
      ],
      "execution_count": null,
      "outputs": []
    },
    {
      "cell_type": "code",
      "metadata": {
        "colab": {
          "base_uri": "https://localhost:8080/"
        },
        "id": "_1C6iiWOJHVo",
        "outputId": "b812a910-9382-465b-dc6e-0cff214eef09"
      },
      "source": [
        "url='http://www.gutenberg.org/files/2554/2554-0.txt'\n",
        "response=request.urlopen(url)\n",
        "s=response.read().decode('utf8')\n",
        "# Replaces escape character with space\n",
        "f = s.replace(\"\\n\", \" \")\n",
        "data = []\n",
        "# iterate through each sentence in the file\n",
        "for i in sent_tokenize(f):\n",
        "  temp = []\n",
        "  # tokenize the sentence into words\n",
        "  for j in word_tokenize(i):\n",
        "    temp.append(j.lower())\n",
        "  data.append(temp)\n",
        "# cbow model\n",
        "cbow = gensim.models.Word2Vec(data, min_count = 1, size = 100, window = 5)\n",
        "print(\"Cosine similarity between 'was' \" + \"and 'the' : \", cbow.similarity('the','was'))\n",
        "print(\"Cosine similarity between 'was' \" + \"and 'the' : \", cbow.similarity('the', 'was'))\n",
        "# Skip Gram model\n",
        "skip_gram = gensim.models.Word2Vec(data, min_count = 1, size = 100, window = 5, sg = 1)\n",
        "print(\"Cosine similarity between 'was' \" + \"and 'the' : \", skip_gram.similarity('the', 'was'))\n",
        "print(\"Cosine similarity between 'was' \" + \"and 'the' : \", skip_gram.similarity('the', 'was'))\n"
      ],
      "execution_count": null,
      "outputs": [
        {
          "output_type": "stream",
          "text": [
            "Cosine similarity between 'was' and 'the' :  0.6452735\n",
            "Cosine similarity between 'was' and 'the' :  0.6452735\n",
            "Cosine similarity between 'was' and 'the' :  0.53753865\n",
            "Cosine similarity between 'was' and 'the' :  0.53753865\n"
          ],
          "name": "stdout"
        }
      ]
    },
    {
      "cell_type": "markdown",
      "metadata": {
        "id": "YbMfWvXsUZWJ"
      },
      "source": [
        "**9.Install and implement Word embedding model in python.**"
      ]
    },
    {
      "cell_type": "code",
      "metadata": {
        "colab": {
          "base_uri": "https://localhost:8080/"
        },
        "id": "1GPxEqpNa5g5",
        "outputId": "8f89d1ee-81d9-4564-c21d-a46e8f9c5757"
      },
      "source": [
        "import nltk\n",
        "nltk.download('wordnet_ic')"
      ],
      "execution_count": null,
      "outputs": [
        {
          "output_type": "stream",
          "text": [
            "[nltk_data] Downloading package wordnet_ic to /root/nltk_data...\n",
            "[nltk_data]   Unzipping corpora/wordnet_ic.zip.\n"
          ],
          "name": "stdout"
        },
        {
          "output_type": "execute_result",
          "data": {
            "text/plain": [
              "True"
            ]
          },
          "metadata": {
            "tags": []
          },
          "execution_count": 99
        }
      ]
    },
    {
      "cell_type": "code",
      "metadata": {
        "colab": {
          "base_uri": "https://localhost:8080/"
        },
        "id": "JHsS6jOfUgZf",
        "outputId": "3154a80f-0fd8-4cdd-ffaf-004d98741bc5"
      },
      "source": [
        "from nltk.corpus import wordnet as wn\n",
        "from nltk.corpus import wordnet_ic\n",
        "\n",
        "dog=wn.synsets('dog', pos=wn.NOUN)[0] #get the first noun synonym of the word \"dog\"\n",
        "cat=wn.synsets('cat', pos=wn.NOUN)[0]\n",
        "rose=wn.synsets('rose', pos=wn.NOUN)[0]\n",
        "flower=wn.synsets('flower', pos=wn.NOUN)[0]\n",
        "\n",
        "brown_ic = wordnet_ic.ic('ic-brown.dat') #load the brown corpus to compute the IC\n",
        "\n",
        "print(rose.res_similarity(flower, brown_ic))\n",
        "print(rose.res_similarity(dog, brown_ic))\n",
        "print(cat.res_similarity(dog, brown_ic))\n",
        "print(dog.res_similarity(dog, brown_ic))"
      ],
      "execution_count": null,
      "outputs": [
        {
          "output_type": "stream",
          "text": [
            "6.0283161048744525\n",
            "2.2241504712318556\n",
            "7.911666509036577\n",
            "9.006014398918229\n"
          ],
          "name": "stdout"
        }
      ]
    },
    {
      "cell_type": "code",
      "metadata": {
        "colab": {
          "base_uri": "https://localhost:8080/"
        },
        "id": "JcD1ojfca_1s",
        "outputId": "2ae13820-36f1-4841-8bb7-e30d467d1446"
      },
      "source": [
        " syn = wn.synsets('hello')[0]\n",
        "print (\"Syn tag : \", syn.pos())\n",
        "syn = wn.synsets('doing')[0]\n",
        "print (\"Syn tag : \", syn.pos())\n",
        "syn = wn.synsets('beautiful')[0]\n",
        "print (\"Syn tag : \", syn.pos())\n",
        "syn = wn.synsets('quickly')[0]\n",
        "print (\"Syn tag : \", syn.pos())"
      ],
      "execution_count": null,
      "outputs": [
        {
          "output_type": "stream",
          "text": [
            "Syn tag :  n\n",
            "Syn tag :  v\n",
            "Syn tag :  a\n",
            "Syn tag :  r\n"
          ],
          "name": "stdout"
        }
      ]
    },
    {
      "cell_type": "code",
      "metadata": {
        "colab": {
          "base_uri": "https://localhost:8080/"
        },
        "id": "cLC4cnxLbEub",
        "outputId": "57fa2c79-555c-4b53-f2b0-15de169419b2"
      },
      "source": [
        "syn = wn.synsets('hello')[0]\n",
        "print (\"Synset name : \", syn.name())\n",
        "# Defining the word\n",
        "print (\"\\nSynset meaning : \", syn.definition())\n",
        "# list of phrases that use the word in context\n",
        "print (\"\\nSynset example : \", syn.examples())"
      ],
      "execution_count": null,
      "outputs": [
        {
          "output_type": "stream",
          "text": [
            "Synset name :  hello.n.01\n",
            "\n",
            "Synset meaning :  an expression of greeting\n",
            "\n",
            "Synset example :  ['every morning they exchanged polite hellos']\n"
          ],
          "name": "stdout"
        }
      ]
    },
    {
      "cell_type": "markdown",
      "metadata": {
        "id": "wDcF3b-HbG4x"
      },
      "source": [
        "**10. Write a program to allocate POS tags to a loaded text file using\n",
        "Wordnet.**"
      ]
    },
    {
      "cell_type": "code",
      "metadata": {
        "id": "cj9dJP-7bbm9"
      },
      "source": [
        "import nltk\n",
        "from nltk.stem.wordnet import WordNetLemmatizer"
      ],
      "execution_count": null,
      "outputs": []
    },
    {
      "cell_type": "code",
      "metadata": {
        "colab": {
          "resources": {
            "http://localhost:8080/nbextensions/google.colab/files.js": {
              "data": "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",
              "ok": true,
              "headers": [
                [
                  "content-type",
                  "application/javascript"
                ]
              ],
              "status": 200,
              "status_text": ""
            }
          },
          "base_uri": "https://localhost:8080/",
          "height": 73
        },
        "id": "YJ6sNgv8dN3M",
        "outputId": "c91cc10f-8c86-40d8-b610-918d76db8612"
      },
      "source": [
        "from google.colab import files\n",
        "uploaded = files.upload()"
      ],
      "execution_count": null,
      "outputs": [
        {
          "output_type": "display_data",
          "data": {
            "text/html": [
              "\n",
              "     <input type=\"file\" id=\"files-19991b08-4a3b-4237-aa7a-6353b9d66bb5\" name=\"files[]\" multiple disabled\n",
              "        style=\"border:none\" />\n",
              "     <output id=\"result-19991b08-4a3b-4237-aa7a-6353b9d66bb5\">\n",
              "      Upload widget is only available when the cell has been executed in the\n",
              "      current browser session. Please rerun this cell to enable.\n",
              "      </output>\n",
              "      <script src=\"/nbextensions/google.colab/files.js\"></script> "
            ],
            "text/plain": [
              "<IPython.core.display.HTML object>"
            ]
          },
          "metadata": {
            "tags": []
          }
        },
        {
          "output_type": "stream",
          "text": [
            "Saving text.txt to text.txt\n"
          ],
          "name": "stdout"
        }
      ]
    },
    {
      "cell_type": "code",
      "metadata": {
        "colab": {
          "base_uri": "https://localhost:8080/"
        },
        "id": "sGCDpS0wbeqW",
        "outputId": "c480518c-d099-41a2-ec4c-18457e45cf84"
      },
      "source": [
        "from nltk.tokenize import word_tokenize\n",
        "file_content = open(\"text.txt\").read()\n",
        "tokens = nltk.word_tokenize(file_content)\n",
        "print(tokens)\n"
      ],
      "execution_count": null,
      "outputs": [
        {
          "output_type": "stream",
          "text": [
            "['Even', 'as', 'the', 'farmer', 'protests', 'against', 'the', 'three', 'new', 'agriculture-related', 'laws', 'have', 'gathered', 'momentum', ',', 'one', 'thing', 'seems', 'obvious', ':', 'Much', 'of', 'the', 'opposition', 'really', 'is', 'just', 'to', 'one', 'of', 'the', 'three', 'laws', '.', 'Even', 'in', 'that', 'one', '—', 'the', 'Farmers', '’', 'Produce', 'Trade', 'and', 'Commerce', '(', 'Promotion', 'and', 'Facilitation', ')', 'Act', '—', 'there', 'are', 'only', 'some', 'contentious', 'provisions', ',', 'which', ',', 'although', 'key', ',', 'can', 'still', 'leave', 'doors', 'open', 'for', 'negotiation', '.', 'The', 'other', 'two', 'laws', 'Consider', 'first', 'the', 'two', 'laws', 'that', 'ought', 'not', 'to', 'be', 'serious', 'cause', 'for', 'farmer', 'angst', '.', 'The', 'Essential', 'Commodities', '(', 'Amendment', ')', 'Act', 'is', 'about', 'doing', 'away', 'with', 'the', 'Centre', '’', 's', 'powers', 'to', 'impose', 'stockholding', 'limits', 'on', 'foodstuffs', ',', 'except', 'under', '“', 'extraordinary', 'conditions', '”', '.', 'These', 'could', 'be', 'war', ',', 'famine', ',', 'other', 'natural', 'calamities', 'of', 'grave', 'nature', 'and', 'annual', 'retail', 'price', 'rise', 'exceeding', '100', '%', 'in', 'horticultural', 'produce', '(', 'basically', 'onions', 'and', 'potato', ')', 'and', '50', '%', 'for', 'non-perishables', '(', 'cereals', ',', 'pulses', 'and', 'edible', 'oils', ')', '.', 'Given', 'that', 'stock', 'limits', 'apply', 'only', 'to', 'traders', '—', 'the', 'amendment', 'exempts', 'processors', ',', 'exporters', 'and', 'other', '“', 'value', 'chain', 'participants', '”', 'as', 'long', 'as', 'they', 'don', '’', 't', 'keep', 'quantities', 'beyond', 'their', 'installed', 'capacity/demand', 'requirements', '—', 'it', 'shouldn', '’', 't', 'concern', 'farmers', 'at', 'all', '.', 'Farmers', ',', 'if', 'anything', ',', 'would', 'gain', 'from', 'removal', 'of', 'stocking', 'restrictions', 'on', 'the', 'trade', ',', 'as', 'it', 'potentially', 'translates', 'into', 'unlimited', 'buying', 'and', 'demand', 'for', 'their', 'produce', '.']\n"
          ],
          "name": "stdout"
        }
      ]
    },
    {
      "cell_type": "code",
      "metadata": {
        "colab": {
          "base_uri": "https://localhost:8080/"
        },
        "id": "ms7BrXkedhwI",
        "outputId": "9d9e5ec5-46df-41a3-b332-940ba29b8eb3"
      },
      "source": [
        "import nltk\n",
        "nltk.download('averaged_perceptron_tagger')"
      ],
      "execution_count": null,
      "outputs": [
        {
          "output_type": "stream",
          "text": [
            "[nltk_data] Downloading package averaged_perceptron_tagger to\n",
            "[nltk_data]     /root/nltk_data...\n",
            "[nltk_data]   Unzipping taggers/averaged_perceptron_tagger.zip.\n"
          ],
          "name": "stdout"
        },
        {
          "output_type": "execute_result",
          "data": {
            "text/plain": [
              "True"
            ]
          },
          "metadata": {
            "tags": []
          },
          "execution_count": 111
        }
      ]
    },
    {
      "cell_type": "code",
      "metadata": {
        "colab": {
          "base_uri": "https://localhost:8080/"
        },
        "id": "leYHpiaSdaCD",
        "outputId": "8785d553-6c07-488b-b3b4-c64d7de89db2"
      },
      "source": [
        "tagged = nltk.pos_tag(tokens)\n",
        "print(tagged)\n"
      ],
      "execution_count": null,
      "outputs": [
        {
          "output_type": "stream",
          "text": [
            "[('Even', 'RB'), ('as', 'IN'), ('the', 'DT'), ('farmer', 'NN'), ('protests', 'NNS'), ('against', 'IN'), ('the', 'DT'), ('three', 'CD'), ('new', 'JJ'), ('agriculture-related', 'JJ'), ('laws', 'NNS'), ('have', 'VBP'), ('gathered', 'VBN'), ('momentum', 'NN'), (',', ','), ('one', 'CD'), ('thing', 'NN'), ('seems', 'VBZ'), ('obvious', 'JJ'), (':', ':'), ('Much', 'RB'), ('of', 'IN'), ('the', 'DT'), ('opposition', 'NN'), ('really', 'RB'), ('is', 'VBZ'), ('just', 'RB'), ('to', 'TO'), ('one', 'CD'), ('of', 'IN'), ('the', 'DT'), ('three', 'CD'), ('laws', 'NNS'), ('.', '.'), ('Even', 'RB'), ('in', 'IN'), ('that', 'DT'), ('one', 'CD'), ('—', 'VBZ'), ('the', 'DT'), ('Farmers', 'NNP'), ('’', 'NNP'), ('Produce', 'NNP'), ('Trade', 'NNP'), ('and', 'CC'), ('Commerce', 'NNP'), ('(', '('), ('Promotion', 'NNP'), ('and', 'CC'), ('Facilitation', 'NNP'), (')', ')'), ('Act', 'NNP'), ('—', 'IN'), ('there', 'EX'), ('are', 'VBP'), ('only', 'RB'), ('some', 'DT'), ('contentious', 'JJ'), ('provisions', 'NNS'), (',', ','), ('which', 'WDT'), (',', ','), ('although', 'IN'), ('key', 'JJ'), (',', ','), ('can', 'MD'), ('still', 'RB'), ('leave', 'VB'), ('doors', 'NNS'), ('open', 'VB'), ('for', 'IN'), ('negotiation', 'NN'), ('.', '.'), ('The', 'DT'), ('other', 'JJ'), ('two', 'CD'), ('laws', 'NNS'), ('Consider', 'VBP'), ('first', 'RB'), ('the', 'DT'), ('two', 'CD'), ('laws', 'NNS'), ('that', 'WDT'), ('ought', 'MD'), ('not', 'RB'), ('to', 'TO'), ('be', 'VB'), ('serious', 'JJ'), ('cause', 'NN'), ('for', 'IN'), ('farmer', 'NN'), ('angst', 'NN'), ('.', '.'), ('The', 'DT'), ('Essential', 'JJ'), ('Commodities', 'NNP'), ('(', '('), ('Amendment', 'NNP'), (')', ')'), ('Act', 'NNP'), ('is', 'VBZ'), ('about', 'IN'), ('doing', 'VBG'), ('away', 'RB'), ('with', 'IN'), ('the', 'DT'), ('Centre', 'NNP'), ('’', 'NNP'), ('s', 'VBZ'), ('powers', 'NNS'), ('to', 'TO'), ('impose', 'VB'), ('stockholding', 'VBG'), ('limits', 'NNS'), ('on', 'IN'), ('foodstuffs', 'NNS'), (',', ','), ('except', 'IN'), ('under', 'IN'), ('“', 'NNP'), ('extraordinary', 'JJ'), ('conditions', 'NNS'), ('”', 'VBP'), ('.', '.'), ('These', 'DT'), ('could', 'MD'), ('be', 'VB'), ('war', 'NN'), (',', ','), ('famine', 'NN'), (',', ','), ('other', 'JJ'), ('natural', 'JJ'), ('calamities', 'NNS'), ('of', 'IN'), ('grave', 'JJ'), ('nature', 'NN'), ('and', 'CC'), ('annual', 'JJ'), ('retail', 'JJ'), ('price', 'NN'), ('rise', 'NN'), ('exceeding', 'VBG'), ('100', 'CD'), ('%', 'NN'), ('in', 'IN'), ('horticultural', 'JJ'), ('produce', 'NN'), ('(', '('), ('basically', 'RB'), ('onions', 'NNS'), ('and', 'CC'), ('potato', 'NN'), (')', ')'), ('and', 'CC'), ('50', 'CD'), ('%', 'NN'), ('for', 'IN'), ('non-perishables', 'NNS'), ('(', '('), ('cereals', 'NNS'), (',', ','), ('pulses', 'NNS'), ('and', 'CC'), ('edible', 'JJ'), ('oils', 'NNS'), (')', ')'), ('.', '.'), ('Given', 'VBN'), ('that', 'IN'), ('stock', 'NN'), ('limits', 'NNS'), ('apply', 'RB'), ('only', 'RB'), ('to', 'TO'), ('traders', 'NNS'), ('—', 'VB'), ('the', 'DT'), ('amendment', 'NN'), ('exempts', 'VBZ'), ('processors', 'NNS'), (',', ','), ('exporters', 'NNS'), ('and', 'CC'), ('other', 'JJ'), ('“', 'NNP'), ('value', 'NN'), ('chain', 'NN'), ('participants', 'NNS'), ('”', 'VBP'), ('as', 'RB'), ('long', 'RB'), ('as', 'IN'), ('they', 'PRP'), ('don', 'VBP'), ('’', 'JJ'), ('t', 'NN'), ('keep', 'VB'), ('quantities', 'NNS'), ('beyond', 'IN'), ('their', 'PRP$'), ('installed', 'JJ'), ('capacity/demand', 'NN'), ('requirements', 'NNS'), ('—', 'VBP'), ('it', 'PRP'), ('shouldn', 'JJ'), ('’', 'NNP'), ('t', 'NN'), ('concern', 'NN'), ('farmers', 'NNS'), ('at', 'IN'), ('all', 'DT'), ('.', '.'), ('Farmers', 'NNS'), (',', ','), ('if', 'IN'), ('anything', 'NN'), (',', ','), ('would', 'MD'), ('gain', 'VB'), ('from', 'IN'), ('removal', 'NN'), ('of', 'IN'), ('stocking', 'VBG'), ('restrictions', 'NNS'), ('on', 'IN'), ('the', 'DT'), ('trade', 'NN'), (',', ','), ('as', 'IN'), ('it', 'PRP'), ('potentially', 'RB'), ('translates', 'VBZ'), ('into', 'IN'), ('unlimited', 'JJ'), ('buying', 'NN'), ('and', 'CC'), ('demand', 'NN'), ('for', 'IN'), ('their', 'PRP$'), ('produce', 'NN'), ('.', '.')]\n"
          ],
          "name": "stdout"
        }
      ]
    },
    {
      "cell_type": "code",
      "metadata": {
        "id": "LIIbORHSdohX"
      },
      "source": [
        "def wordnet_pos_code(tag):\n",
        "  if tag.startswith('NN'):\n",
        "    return wn.NOUN\n",
        "  elif tag.startswith('VB'):\n",
        "    return wn.VERB\n",
        "  elif tag.startswith('JJ'):\n",
        "    return wn.ADJ\n",
        "  elif tag.startswith('RB'):\n",
        "    return wn.ADV\n",
        "  else:\n",
        "    return ''\n",
        "\n",
        "tagging = []\n",
        "for tag in tagged:\n",
        "  temp = [tag[0], wordnet_pos_code(tag[1])]\n",
        "  tagging.append(temp)"
      ],
      "execution_count": null,
      "outputs": []
    },
    {
      "cell_type": "code",
      "metadata": {
        "colab": {
          "base_uri": "https://localhost:8080/"
        },
        "id": "7tEVcAx0eH_J",
        "outputId": "fc44d72f-4d8b-41a4-e63d-1c83846d792b"
      },
      "source": [
        "print(tagging)"
      ],
      "execution_count": null,
      "outputs": [
        {
          "output_type": "stream",
          "text": [
            "[['Even', 'r'], ['as', ''], ['the', ''], ['farmer', 'n'], ['protests', 'n'], ['against', ''], ['the', ''], ['three', ''], ['new', 'a'], ['agriculture-related', 'a'], ['laws', 'n'], ['have', 'v'], ['gathered', 'v'], ['momentum', 'n'], [',', ''], ['one', ''], ['thing', 'n'], ['seems', 'v'], ['obvious', 'a'], [':', ''], ['Much', 'r'], ['of', ''], ['the', ''], ['opposition', 'n'], ['really', 'r'], ['is', 'v'], ['just', 'r'], ['to', ''], ['one', ''], ['of', ''], ['the', ''], ['three', ''], ['laws', 'n'], ['.', ''], ['Even', 'r'], ['in', ''], ['that', ''], ['one', ''], ['—', 'v'], ['the', ''], ['Farmers', 'n'], ['’', 'n'], ['Produce', 'n'], ['Trade', 'n'], ['and', ''], ['Commerce', 'n'], ['(', ''], ['Promotion', 'n'], ['and', ''], ['Facilitation', 'n'], [')', ''], ['Act', 'n'], ['—', ''], ['there', ''], ['are', 'v'], ['only', 'r'], ['some', ''], ['contentious', 'a'], ['provisions', 'n'], [',', ''], ['which', ''], [',', ''], ['although', ''], ['key', 'a'], [',', ''], ['can', ''], ['still', 'r'], ['leave', 'v'], ['doors', 'n'], ['open', 'v'], ['for', ''], ['negotiation', 'n'], ['.', ''], ['The', ''], ['other', 'a'], ['two', ''], ['laws', 'n'], ['Consider', 'v'], ['first', 'r'], ['the', ''], ['two', ''], ['laws', 'n'], ['that', ''], ['ought', ''], ['not', 'r'], ['to', ''], ['be', 'v'], ['serious', 'a'], ['cause', 'n'], ['for', ''], ['farmer', 'n'], ['angst', 'n'], ['.', ''], ['The', ''], ['Essential', 'a'], ['Commodities', 'n'], ['(', ''], ['Amendment', 'n'], [')', ''], ['Act', 'n'], ['is', 'v'], ['about', ''], ['doing', 'v'], ['away', 'r'], ['with', ''], ['the', ''], ['Centre', 'n'], ['’', 'n'], ['s', 'v'], ['powers', 'n'], ['to', ''], ['impose', 'v'], ['stockholding', 'v'], ['limits', 'n'], ['on', ''], ['foodstuffs', 'n'], [',', ''], ['except', ''], ['under', ''], ['“', 'n'], ['extraordinary', 'a'], ['conditions', 'n'], ['”', 'v'], ['.', ''], ['These', ''], ['could', ''], ['be', 'v'], ['war', 'n'], [',', ''], ['famine', 'n'], [',', ''], ['other', 'a'], ['natural', 'a'], ['calamities', 'n'], ['of', ''], ['grave', 'a'], ['nature', 'n'], ['and', ''], ['annual', 'a'], ['retail', 'a'], ['price', 'n'], ['rise', 'n'], ['exceeding', 'v'], ['100', ''], ['%', 'n'], ['in', ''], ['horticultural', 'a'], ['produce', 'n'], ['(', ''], ['basically', 'r'], ['onions', 'n'], ['and', ''], ['potato', 'n'], [')', ''], ['and', ''], ['50', ''], ['%', 'n'], ['for', ''], ['non-perishables', 'n'], ['(', ''], ['cereals', 'n'], [',', ''], ['pulses', 'n'], ['and', ''], ['edible', 'a'], ['oils', 'n'], [')', ''], ['.', ''], ['Given', 'v'], ['that', ''], ['stock', 'n'], ['limits', 'n'], ['apply', 'r'], ['only', 'r'], ['to', ''], ['traders', 'n'], ['—', 'v'], ['the', ''], ['amendment', 'n'], ['exempts', 'v'], ['processors', 'n'], [',', ''], ['exporters', 'n'], ['and', ''], ['other', 'a'], ['“', 'n'], ['value', 'n'], ['chain', 'n'], ['participants', 'n'], ['”', 'v'], ['as', 'r'], ['long', 'r'], ['as', ''], ['they', ''], ['don', 'v'], ['’', 'a'], ['t', 'n'], ['keep', 'v'], ['quantities', 'n'], ['beyond', ''], ['their', ''], ['installed', 'a'], ['capacity/demand', 'n'], ['requirements', 'n'], ['—', 'v'], ['it', ''], ['shouldn', 'a'], ['’', 'n'], ['t', 'n'], ['concern', 'n'], ['farmers', 'n'], ['at', ''], ['all', ''], ['.', ''], ['Farmers', 'n'], [',', ''], ['if', ''], ['anything', 'n'], [',', ''], ['would', ''], ['gain', 'v'], ['from', ''], ['removal', 'n'], ['of', ''], ['stocking', 'v'], ['restrictions', 'n'], ['on', ''], ['the', ''], ['trade', 'n'], [',', ''], ['as', ''], ['it', ''], ['potentially', 'r'], ['translates', 'v'], ['into', ''], ['unlimited', 'a'], ['buying', 'n'], ['and', ''], ['demand', 'n'], ['for', ''], ['their', ''], ['produce', 'n'], ['.', '']]\n"
          ],
          "name": "stdout"
        }
      ]
    },
    {
      "cell_type": "markdown",
      "metadata": {
        "id": "oFtfMK5wlWT8"
      },
      "source": [
        "**11. Write a program to perform word sense disambiguation on a text file.**"
      ]
    },
    {
      "cell_type": "code",
      "metadata": {
        "id": "V5cueNm2_dWz"
      },
      "source": [
        "import nltk\n",
        "from nltk.corpus import wordnet as wn"
      ],
      "execution_count": null,
      "outputs": []
    },
    {
      "cell_type": "code",
      "metadata": {
        "colab": {
          "base_uri": "https://localhost:8080/"
        },
        "id": "ToJbPTn2AD6x",
        "outputId": "523bfab3-38d6-4dd2-9b83-7d4a49e57d63"
      },
      "source": [
        "syn1 = wn.synsets('book')\n",
        "syn1"
      ],
      "execution_count": null,
      "outputs": [
        {
          "output_type": "execute_result",
          "data": {
            "text/plain": [
              "[Synset('book.n.01'),\n",
              " Synset('book.n.02'),\n",
              " Synset('record.n.05'),\n",
              " Synset('script.n.01'),\n",
              " Synset('ledger.n.01'),\n",
              " Synset('book.n.06'),\n",
              " Synset('book.n.07'),\n",
              " Synset('koran.n.01'),\n",
              " Synset('bible.n.01'),\n",
              " Synset('book.n.10'),\n",
              " Synset('book.n.11'),\n",
              " Synset('book.v.01'),\n",
              " Synset('reserve.v.04'),\n",
              " Synset('book.v.03'),\n",
              " Synset('book.v.04')]"
            ]
          },
          "metadata": {
            "tags": []
          },
          "execution_count": 20
        }
      ]
    },
    {
      "cell_type": "code",
      "metadata": {
        "colab": {
          "base_uri": "https://localhost:8080/",
          "height": 35
        },
        "id": "sKnacJ-XClTN",
        "outputId": "853a271a-b444-4c99-f620-d18724782abd"
      },
      "source": [
        "syn1[4].definition()"
      ],
      "execution_count": null,
      "outputs": [
        {
          "output_type": "execute_result",
          "data": {
            "application/vnd.google.colaboratory.intrinsic+json": {
              "type": "string"
            },
            "text/plain": [
              "'a record in which commercial accounts are recorded'"
            ]
          },
          "metadata": {
            "tags": []
          },
          "execution_count": 21
        }
      ]
    },
    {
      "cell_type": "code",
      "metadata": {
        "colab": {
          "base_uri": "https://localhost:8080/"
        },
        "id": "EnVyxAReCsoT",
        "outputId": "c563e213-7af2-4998-efe4-07785f30226a"
      },
      "source": [
        "from nltk.wsd import lesk\n",
        "for ss in wn.synsets('bass'):\n",
        "  print(ss, ss.definition())\n"
      ],
      "execution_count": null,
      "outputs": [
        {
          "output_type": "stream",
          "text": [
            "Synset('bass.n.01') the lowest part of the musical range\n",
            "Synset('bass.n.02') the lowest part in polyphonic music\n",
            "Synset('bass.n.03') an adult male singer with the lowest voice\n",
            "Synset('sea_bass.n.01') the lean flesh of a saltwater fish of the family Serranidae\n",
            "Synset('freshwater_bass.n.01') any of various North American freshwater fish with lean flesh (especially of the genus Micropterus)\n",
            "Synset('bass.n.06') the lowest adult male singing voice\n",
            "Synset('bass.n.07') the member with the lowest range of a family of musical instruments\n",
            "Synset('bass.n.08') nontechnical name for any of numerous edible marine and freshwater spiny-finned fishes\n",
            "Synset('bass.s.01') having or denoting a low vocal or instrumental range\n"
          ],
          "name": "stdout"
        }
      ]
    },
    {
      "cell_type": "code",
      "metadata": {
        "colab": {
          "base_uri": "https://localhost:8080/"
        },
        "id": "j956AP9pDWLI",
        "outputId": "6f6651d7-c57b-4099-f082-6716054e0cfe"
      },
      "source": [
        "result1 = lesk('I went fishing for some sea bass'.split(), 'bass', pos = 'n')\n",
        "print(result1)\n",
        "print(result1.definition())\n"
      ],
      "execution_count": null,
      "outputs": [
        {
          "output_type": "stream",
          "text": [
            "Synset('bass.n.08')\n",
            "nontechnical name for any of numerous edible marine and freshwater spiny-finned fishes\n"
          ],
          "name": "stdout"
        }
      ]
    },
    {
      "cell_type": "code",
      "metadata": {
        "colab": {
          "base_uri": "https://localhost:8080/"
        },
        "id": "LIip-tRXPhUe",
        "outputId": "051e7dac-9b81-4646-ae34-400156c933cd"
      },
      "source": [
        "result2 = lesk('The bass line of the somg is too weak'.split(), 'bass', pos = 'n')\n",
        "print(result2)\n",
        "print(result2.definition())"
      ],
      "execution_count": null,
      "outputs": [
        {
          "output_type": "stream",
          "text": [
            "Synset('sea_bass.n.01')\n",
            "the lean flesh of a saltwater fish of the family Serranidae\n"
          ],
          "name": "stdout"
        }
      ]
    },
    {
      "cell_type": "code",
      "metadata": {
        "colab": {
          "base_uri": "https://localhost:8080/"
        },
        "id": "Z3n05q_LPk3I",
        "outputId": "206fe9b3-376e-4b85-ebe0-2992fb4458bd"
      },
      "source": [
        "for ss in wn.synsets('free'):\n",
        "  print(ss, ss.definition())"
      ],
      "execution_count": null,
      "outputs": [
        {
          "output_type": "stream",
          "text": [
            "Synset('free.n.01') people who are free\n",
            "Synset('free.v.01') grant freedom to; free from confinement\n",
            "Synset('rid.v.01') relieve from\n",
            "Synset('dislodge.v.01') remove or force out from a position\n",
            "Synset('exempt.v.01') grant relief or an exemption from a rule or requirement to\n",
            "Synset('free.v.05') make (information) available for publication\n",
            "Synset('free.v.06') free from obligations or duties\n",
            "Synset('free.v.07') free or remove obstruction from\n",
            "Synset('absolve.v.02') let off the hook\n",
            "Synset('release.v.08') part with a possession or right\n",
            "Synset('release.v.09') release (gas or energy) as a result of a chemical reaction or physical decomposition\n",
            "Synset('unblock.v.03') make (assets) available\n",
            "Synset('free.a.01') able to act at will; not hampered; not under compulsion or restraint\n",
            "Synset('free.a.02') unconstrained or not chemically bound in a molecule or not fixed and capable of relatively unrestricted motion\n",
            "Synset('complimentary.s.02') costing nothing\n",
            "Synset('free.s.04') not occupied or in use\n",
            "Synset('detached.s.06') not fixed in position\n",
            "Synset('free.a.06') not held in servitude\n",
            "Synset('spare.s.03') not taken up by scheduled activities\n",
            "Synset('barren.s.03') completely wanting or lacking\n",
            "Synset('free.s.09') not literal\n",
            "Synset('loose.r.01') without restraint\n"
          ],
          "name": "stdout"
        }
      ]
    },
    {
      "cell_type": "code",
      "metadata": {
        "colab": {
          "base_uri": "https://localhost:8080/"
        },
        "id": "Gtj9gXsoPp5-",
        "outputId": "b6c26089-b2ac-4ba6-afb4-84937f763fe1"
      },
      "source": [
        "result1 = lesk('i booked a ticket for drama'.split(), 'book', pos = 'n')\n",
        "print(result1)\n",
        "print(result1.definition())"
      ],
      "execution_count": null,
      "outputs": [
        {
          "output_type": "stream",
          "text": [
            "Synset('script.n.01')\n",
            "a written version of a play or other dramatic composition; used in preparing for a performance\n"
          ],
          "name": "stdout"
        }
      ]
    },
    {
      "cell_type": "code",
      "metadata": {
        "colab": {
          "base_uri": "https://localhost:8080/"
        },
        "id": "S_blgw7BPt-f",
        "outputId": "65aeb7d1-7f6c-4b43-caa2-9fe7e23d4afb"
      },
      "source": [
        "result2 = lesk('i booked a seat in restaurant'.split(), 'seat', pos = 'n')\n",
        "print(result2)\n",
        "print(result2.definition())"
      ],
      "execution_count": null,
      "outputs": [
        {
          "output_type": "stream",
          "text": [
            "Synset('seat.n.07')\n",
            "the legal right to sit as a member in a legislative or similar body\n"
          ],
          "name": "stdout"
        }
      ]
    },
    {
      "cell_type": "code",
      "metadata": {
        "colab": {
          "base_uri": "https://localhost:8080/"
        },
        "id": "2tseTLAfPzQa",
        "outputId": "917b0805-7010-40f3-d60c-585ac53e3b63"
      },
      "source": [
        "url='http://m.uploadedit.com/busd/1607211802230.txt'\n",
        "response=request.urlopen(url)\n",
        "text=response.read().decode('utf8')\n",
        "print(text)"
      ],
      "execution_count": null,
      "outputs": [
        {
          "output_type": "stream",
          "text": [
            "the commercial banks are used for finance. all the financial matters are managed by finan\r\n",
            "cial banks and they have lots of money, user accounts like salary account and savings acc\r\n",
            "ount, current account. money can also be withdrawn from this bank.\r\n",
            "\n"
          ],
          "name": "stdout"
        }
      ]
    },
    {
      "cell_type": "code",
      "metadata": {
        "id": "DJlyMdNVRd3s"
      },
      "source": [
        "result = lesk(text.split(), 'bank', pos='n')"
      ],
      "execution_count": null,
      "outputs": []
    },
    {
      "cell_type": "code",
      "metadata": {
        "colab": {
          "base_uri": "https://localhost:8080/"
        },
        "id": "ktZUH48VSaut",
        "outputId": "8cdf78c1-cbca-4716-9a35-f9d1c9ad38f8"
      },
      "source": [
        "print(result)\n",
        "print(result.definition())\n"
      ],
      "execution_count": null,
      "outputs": [
        {
          "output_type": "stream",
          "text": [
            "Synset('depository_financial_institution.n.01')\n",
            "a financial institution that accepts deposits and channels the money into lending activities\n"
          ],
          "name": "stdout"
        }
      ]
    },
    {
      "cell_type": "markdown",
      "metadata": {
        "id": "WjxZot1VSeeX"
      },
      "source": [
        "**12. Write a program to split or partition a given dataset for text\n",
        "classification.**"
      ]
    },
    {
      "cell_type": "code",
      "metadata": {
        "colab": {
          "base_uri": "https://localhost:8080/",
          "height": 284
        },
        "id": "NyNnkE_gSw4L",
        "outputId": "aff4be7a-a744-406b-9b6e-e6104d513aa6"
      },
      "source": [
        "import pandas as pd\n",
        "columns = ['sent', 'class']\n",
        "rows = []\n",
        "rows = [['This is my book', 'statement'],\n",
        "['They are novels', 'statement'],\n",
        "['have you read this book', 'question'],\n",
        "['who is the author', 'question'],\n",
        "['what are the characters', 'question'],\n",
        "['This is how I bought the book', 'statement'],\n",
        "['I like fictions', 'statement'],\n",
        "['what is your favorite book', 'question']]\n",
        "training_data = pd.DataFrame(rows, columns=columns)\n",
        "training_data"
      ],
      "execution_count": null,
      "outputs": [
        {
          "output_type": "execute_result",
          "data": {
            "text/html": [
              "<div>\n",
              "<style scoped>\n",
              "    .dataframe tbody tr th:only-of-type {\n",
              "        vertical-align: middle;\n",
              "    }\n",
              "\n",
              "    .dataframe tbody tr th {\n",
              "        vertical-align: top;\n",
              "    }\n",
              "\n",
              "    .dataframe thead th {\n",
              "        text-align: right;\n",
              "    }\n",
              "</style>\n",
              "<table border=\"1\" class=\"dataframe\">\n",
              "  <thead>\n",
              "    <tr style=\"text-align: right;\">\n",
              "      <th></th>\n",
              "      <th>sent</th>\n",
              "      <th>class</th>\n",
              "    </tr>\n",
              "  </thead>\n",
              "  <tbody>\n",
              "    <tr>\n",
              "      <th>0</th>\n",
              "      <td>This is my book</td>\n",
              "      <td>statement</td>\n",
              "    </tr>\n",
              "    <tr>\n",
              "      <th>1</th>\n",
              "      <td>They are novels</td>\n",
              "      <td>statement</td>\n",
              "    </tr>\n",
              "    <tr>\n",
              "      <th>2</th>\n",
              "      <td>have you read this book</td>\n",
              "      <td>question</td>\n",
              "    </tr>\n",
              "    <tr>\n",
              "      <th>3</th>\n",
              "      <td>who is the author</td>\n",
              "      <td>question</td>\n",
              "    </tr>\n",
              "    <tr>\n",
              "      <th>4</th>\n",
              "      <td>what are the characters</td>\n",
              "      <td>question</td>\n",
              "    </tr>\n",
              "    <tr>\n",
              "      <th>5</th>\n",
              "      <td>This is how I bought the book</td>\n",
              "      <td>statement</td>\n",
              "    </tr>\n",
              "    <tr>\n",
              "      <th>6</th>\n",
              "      <td>I like fictions</td>\n",
              "      <td>statement</td>\n",
              "    </tr>\n",
              "    <tr>\n",
              "      <th>7</th>\n",
              "      <td>what is your favorite book</td>\n",
              "      <td>question</td>\n",
              "    </tr>\n",
              "  </tbody>\n",
              "</table>\n",
              "</div>"
            ],
            "text/plain": [
              "                            sent      class\n",
              "0                This is my book  statement\n",
              "1                They are novels  statement\n",
              "2        have you read this book   question\n",
              "3              who is the author   question\n",
              "4        what are the characters   question\n",
              "5  This is how I bought the book  statement\n",
              "6                I like fictions  statement\n",
              "7     what is your favorite book   question"
            ]
          },
          "metadata": {
            "tags": []
          },
          "execution_count": 43
        }
      ]
    },
    {
      "cell_type": "code",
      "metadata": {
        "colab": {
          "base_uri": "https://localhost:8080/",
          "height": 166
        },
        "id": "eyNhTTWfU22y",
        "outputId": "c5f601be-985d-4ae7-fa64-26b67f70423f"
      },
      "source": [
        "from sklearn.feature_extraction.text import CountVectorizer\n",
        "stmt_docs = [row['sent'] for index,row in training_data.iterrows() if row['class'] == 'statement']\n",
        "vec_statement = CountVectorizer()\n",
        "X_statement = vec_statement.fit_transform(stmt_docs)\n",
        "tdm_statement = pd.DataFrame(X_statement.toarray(), columns=vec_statement.get_feature_names())\n",
        "tdm_statement"
      ],
      "execution_count": null,
      "outputs": [
        {
          "output_type": "execute_result",
          "data": {
            "text/html": [
              "<div>\n",
              "<style scoped>\n",
              "    .dataframe tbody tr th:only-of-type {\n",
              "        vertical-align: middle;\n",
              "    }\n",
              "\n",
              "    .dataframe tbody tr th {\n",
              "        vertical-align: top;\n",
              "    }\n",
              "\n",
              "    .dataframe thead th {\n",
              "        text-align: right;\n",
              "    }\n",
              "</style>\n",
              "<table border=\"1\" class=\"dataframe\">\n",
              "  <thead>\n",
              "    <tr style=\"text-align: right;\">\n",
              "      <th></th>\n",
              "      <th>are</th>\n",
              "      <th>book</th>\n",
              "      <th>bought</th>\n",
              "      <th>fictions</th>\n",
              "      <th>how</th>\n",
              "      <th>is</th>\n",
              "      <th>like</th>\n",
              "      <th>my</th>\n",
              "      <th>novels</th>\n",
              "      <th>the</th>\n",
              "      <th>they</th>\n",
              "      <th>this</th>\n",
              "    </tr>\n",
              "  </thead>\n",
              "  <tbody>\n",
              "    <tr>\n",
              "      <th>0</th>\n",
              "      <td>0</td>\n",
              "      <td>1</td>\n",
              "      <td>0</td>\n",
              "      <td>0</td>\n",
              "      <td>0</td>\n",
              "      <td>1</td>\n",
              "      <td>0</td>\n",
              "      <td>1</td>\n",
              "      <td>0</td>\n",
              "      <td>0</td>\n",
              "      <td>0</td>\n",
              "      <td>1</td>\n",
              "    </tr>\n",
              "    <tr>\n",
              "      <th>1</th>\n",
              "      <td>1</td>\n",
              "      <td>0</td>\n",
              "      <td>0</td>\n",
              "      <td>0</td>\n",
              "      <td>0</td>\n",
              "      <td>0</td>\n",
              "      <td>0</td>\n",
              "      <td>0</td>\n",
              "      <td>1</td>\n",
              "      <td>0</td>\n",
              "      <td>1</td>\n",
              "      <td>0</td>\n",
              "    </tr>\n",
              "    <tr>\n",
              "      <th>2</th>\n",
              "      <td>0</td>\n",
              "      <td>1</td>\n",
              "      <td>1</td>\n",
              "      <td>0</td>\n",
              "      <td>1</td>\n",
              "      <td>1</td>\n",
              "      <td>0</td>\n",
              "      <td>0</td>\n",
              "      <td>0</td>\n",
              "      <td>1</td>\n",
              "      <td>0</td>\n",
              "      <td>1</td>\n",
              "    </tr>\n",
              "    <tr>\n",
              "      <th>3</th>\n",
              "      <td>0</td>\n",
              "      <td>0</td>\n",
              "      <td>0</td>\n",
              "      <td>1</td>\n",
              "      <td>0</td>\n",
              "      <td>0</td>\n",
              "      <td>1</td>\n",
              "      <td>0</td>\n",
              "      <td>0</td>\n",
              "      <td>0</td>\n",
              "      <td>0</td>\n",
              "      <td>0</td>\n",
              "    </tr>\n",
              "  </tbody>\n",
              "</table>\n",
              "</div>"
            ],
            "text/plain": [
              "   are  book  bought  fictions  how  is  like  my  novels  the  they  this\n",
              "0    0     1       0         0    0   1     0   1       0    0     0     1\n",
              "1    1     0       0         0    0   0     0   0       1    0     1     0\n",
              "2    0     1       1         0    1   1     0   0       0    1     0     1\n",
              "3    0     0       0         1    0   0     1   0       0    0     0     0"
            ]
          },
          "metadata": {
            "tags": []
          },
          "execution_count": 44
        }
      ]
    },
    {
      "cell_type": "code",
      "metadata": {
        "colab": {
          "base_uri": "https://localhost:8080/",
          "height": 166
        },
        "id": "SI_g0r1YVIfr",
        "outputId": "c775840e-ff55-489f-cf24-0e80304f6836"
      },
      "source": [
        "ques_docs = [row['sent'] for index,row in training_data.iterrows() if row['class'] == 'question']\n",
        "vec_question = CountVectorizer()\n",
        "X_question = vec_question.fit_transform(ques_docs)\n",
        "tdm_question = pd.DataFrame(X_question.toarray(), columns=vec_question.get_feature_names())\n",
        "tdm_question\n"
      ],
      "execution_count": null,
      "outputs": [
        {
          "output_type": "execute_result",
          "data": {
            "text/html": [
              "<div>\n",
              "<style scoped>\n",
              "    .dataframe tbody tr th:only-of-type {\n",
              "        vertical-align: middle;\n",
              "    }\n",
              "\n",
              "    .dataframe tbody tr th {\n",
              "        vertical-align: top;\n",
              "    }\n",
              "\n",
              "    .dataframe thead th {\n",
              "        text-align: right;\n",
              "    }\n",
              "</style>\n",
              "<table border=\"1\" class=\"dataframe\">\n",
              "  <thead>\n",
              "    <tr style=\"text-align: right;\">\n",
              "      <th></th>\n",
              "      <th>are</th>\n",
              "      <th>author</th>\n",
              "      <th>book</th>\n",
              "      <th>characters</th>\n",
              "      <th>favorite</th>\n",
              "      <th>have</th>\n",
              "      <th>is</th>\n",
              "      <th>read</th>\n",
              "      <th>the</th>\n",
              "      <th>this</th>\n",
              "      <th>what</th>\n",
              "      <th>who</th>\n",
              "      <th>you</th>\n",
              "      <th>your</th>\n",
              "    </tr>\n",
              "  </thead>\n",
              "  <tbody>\n",
              "    <tr>\n",
              "      <th>0</th>\n",
              "      <td>0</td>\n",
              "      <td>0</td>\n",
              "      <td>1</td>\n",
              "      <td>0</td>\n",
              "      <td>0</td>\n",
              "      <td>1</td>\n",
              "      <td>0</td>\n",
              "      <td>1</td>\n",
              "      <td>0</td>\n",
              "      <td>1</td>\n",
              "      <td>0</td>\n",
              "      <td>0</td>\n",
              "      <td>1</td>\n",
              "      <td>0</td>\n",
              "    </tr>\n",
              "    <tr>\n",
              "      <th>1</th>\n",
              "      <td>0</td>\n",
              "      <td>1</td>\n",
              "      <td>0</td>\n",
              "      <td>0</td>\n",
              "      <td>0</td>\n",
              "      <td>0</td>\n",
              "      <td>1</td>\n",
              "      <td>0</td>\n",
              "      <td>1</td>\n",
              "      <td>0</td>\n",
              "      <td>0</td>\n",
              "      <td>1</td>\n",
              "      <td>0</td>\n",
              "      <td>0</td>\n",
              "    </tr>\n",
              "    <tr>\n",
              "      <th>2</th>\n",
              "      <td>1</td>\n",
              "      <td>0</td>\n",
              "      <td>0</td>\n",
              "      <td>1</td>\n",
              "      <td>0</td>\n",
              "      <td>0</td>\n",
              "      <td>0</td>\n",
              "      <td>0</td>\n",
              "      <td>1</td>\n",
              "      <td>0</td>\n",
              "      <td>1</td>\n",
              "      <td>0</td>\n",
              "      <td>0</td>\n",
              "      <td>0</td>\n",
              "    </tr>\n",
              "    <tr>\n",
              "      <th>3</th>\n",
              "      <td>0</td>\n",
              "      <td>0</td>\n",
              "      <td>1</td>\n",
              "      <td>0</td>\n",
              "      <td>1</td>\n",
              "      <td>0</td>\n",
              "      <td>1</td>\n",
              "      <td>0</td>\n",
              "      <td>0</td>\n",
              "      <td>0</td>\n",
              "      <td>1</td>\n",
              "      <td>0</td>\n",
              "      <td>0</td>\n",
              "      <td>1</td>\n",
              "    </tr>\n",
              "  </tbody>\n",
              "</table>\n",
              "</div>"
            ],
            "text/plain": [
              "   are  author  book  characters  favorite  ...  this  what  who  you  your\n",
              "0    0       0     1           0         0  ...     1     0    0    1     0\n",
              "1    0       1     0           0         0  ...     0     0    1    0     0\n",
              "2    1       0     0           1         0  ...     0     1    0    0     0\n",
              "3    0       0     1           0         1  ...     0     1    0    0     1\n",
              "\n",
              "[4 rows x 14 columns]"
            ]
          },
          "metadata": {
            "tags": []
          },
          "execution_count": 46
        }
      ]
    },
    {
      "cell_type": "code",
      "metadata": {
        "colab": {
          "base_uri": "https://localhost:8080/"
        },
        "id": "RNa2sfZ-VW59",
        "outputId": "26568609-a0f2-41b9-ada1-a57ccf9773dd"
      },
      "source": [
        "word_list_statement = vec_statement.get_feature_names();\n",
        "count_list_statement = X_statement.toarray().sum(axis=0)\n",
        "freq_statement = dict(zip(word_list_statement,count_list_statement))\n",
        "freq_statement"
      ],
      "execution_count": null,
      "outputs": [
        {
          "output_type": "execute_result",
          "data": {
            "text/plain": [
              "{'are': 1,\n",
              " 'book': 2,\n",
              " 'bought': 1,\n",
              " 'fictions': 1,\n",
              " 'how': 1,\n",
              " 'is': 2,\n",
              " 'like': 1,\n",
              " 'my': 1,\n",
              " 'novels': 1,\n",
              " 'the': 1,\n",
              " 'they': 1,\n",
              " 'this': 2}"
            ]
          },
          "metadata": {
            "tags": []
          },
          "execution_count": 47
        }
      ]
    },
    {
      "cell_type": "code",
      "metadata": {
        "colab": {
          "base_uri": "https://localhost:8080/"
        },
        "id": "y5ZtyNATVdbV",
        "outputId": "5d1ab5e7-832a-4bc5-c568-10b399fcbbfa"
      },
      "source": [
        "word_list_question = vec_question.get_feature_names();\n",
        "count_list_question = X_question.toarray().sum(axis=0)\n",
        "freq_question = dict(zip(word_list_question,count_list_question))\n",
        "freq_question"
      ],
      "execution_count": null,
      "outputs": [
        {
          "output_type": "execute_result",
          "data": {
            "text/plain": [
              "{'are': 1,\n",
              " 'author': 1,\n",
              " 'book': 2,\n",
              " 'characters': 1,\n",
              " 'favorite': 1,\n",
              " 'have': 1,\n",
              " 'is': 2,\n",
              " 'read': 1,\n",
              " 'the': 2,\n",
              " 'this': 1,\n",
              " 'what': 2,\n",
              " 'who': 1,\n",
              " 'you': 1,\n",
              " 'your': 1}"
            ]
          },
          "metadata": {
            "tags": []
          },
          "execution_count": 48
        }
      ]
    },
    {
      "cell_type": "code",
      "metadata": {
        "colab": {
          "base_uri": "https://localhost:8080/"
        },
        "id": "cZweXaJyViBr",
        "outputId": "3d53b82d-8203-4932-ebe4-4625da8f76d8"
      },
      "source": [
        "prob_statement = []\n",
        "for word, count in zip(word_list_statement, count_list_statement):\n",
        "  prob_statement.append(count/len(word_list_statement))\n",
        "dict(zip(word_list_statement, prob_statement))\n"
      ],
      "execution_count": null,
      "outputs": [
        {
          "output_type": "execute_result",
          "data": {
            "text/plain": [
              "{'are': 0.08333333333333333,\n",
              " 'book': 0.16666666666666666,\n",
              " 'bought': 0.08333333333333333,\n",
              " 'fictions': 0.08333333333333333,\n",
              " 'how': 0.08333333333333333,\n",
              " 'is': 0.16666666666666666,\n",
              " 'like': 0.08333333333333333,\n",
              " 'my': 0.08333333333333333,\n",
              " 'novels': 0.08333333333333333,\n",
              " 'the': 0.08333333333333333,\n",
              " 'they': 0.08333333333333333,\n",
              " 'this': 0.16666666666666666}"
            ]
          },
          "metadata": {
            "tags": []
          },
          "execution_count": 50
        }
      ]
    },
    {
      "cell_type": "code",
      "metadata": {
        "colab": {
          "base_uri": "https://localhost:8080/"
        },
        "id": "1mN1CNcbVtnY",
        "outputId": "87e08793-1187-4490-b8e9-59dc5c5d9efb"
      },
      "source": [
        " prob_question = []\n",
        "for word, count in zip(word_list_question, count_list_question):\n",
        "  prob_question.append(count/len(word_list_question))\n",
        "dict(zip(word_list_question, prob_question))\n"
      ],
      "execution_count": null,
      "outputs": [
        {
          "output_type": "execute_result",
          "data": {
            "text/plain": [
              "{'are': 0.07142857142857142,\n",
              " 'author': 0.07142857142857142,\n",
              " 'book': 0.14285714285714285,\n",
              " 'characters': 0.07142857142857142,\n",
              " 'favorite': 0.07142857142857142,\n",
              " 'have': 0.07142857142857142,\n",
              " 'is': 0.14285714285714285,\n",
              " 'read': 0.07142857142857142,\n",
              " 'the': 0.14285714285714285,\n",
              " 'this': 0.07142857142857142,\n",
              " 'what': 0.14285714285714285,\n",
              " 'who': 0.07142857142857142,\n",
              " 'you': 0.07142857142857142,\n",
              " 'your': 0.07142857142857142}"
            ]
          },
          "metadata": {
            "tags": []
          },
          "execution_count": 51
        }
      ]
    },
    {
      "cell_type": "code",
      "metadata": {
        "colab": {
          "base_uri": "https://localhost:8080/"
        },
        "id": "auPQkDrKV3S4",
        "outputId": "d9c617ab-c267-43e5-bea7-b64e81f68bd8"
      },
      "source": [
        "from sklearn.feature_extraction.text import CountVectorizer\n",
        "docs = [row['sent'] for index,row in training_data.iterrows()]\n",
        "vec = CountVectorizer()\n",
        "X = vec.fit_transform(docs)\n",
        "total_features = len(vec.get_feature_names())\n",
        "total_features"
      ],
      "execution_count": null,
      "outputs": [
        {
          "output_type": "execute_result",
          "data": {
            "text/plain": [
              "21"
            ]
          },
          "metadata": {
            "tags": []
          },
          "execution_count": 52
        }
      ]
    },
    {
      "cell_type": "code",
      "metadata": {
        "id": "IOX-ED-AV7I_"
      },
      "source": [
        "total_cnts_features_statement = count_list_statement.sum(axis=0)\n",
        "total_cnts_features_question = count_list_question.sum(axis=0)\n"
      ],
      "execution_count": null,
      "outputs": []
    },
    {
      "cell_type": "code",
      "metadata": {
        "colab": {
          "base_uri": "https://localhost:8080/"
        },
        "id": "SmdZPRkfV_V6",
        "outputId": "1b461a77-bd37-45e9-ba95-2219e9645783"
      },
      "source": [
        "print(total_cnts_features_statement, total_cnts_features_question)"
      ],
      "execution_count": null,
      "outputs": [
        {
          "output_type": "stream",
          "text": [
            "15 18\n"
          ],
          "name": "stdout"
        }
      ]
    },
    {
      "cell_type": "code",
      "metadata": {
        "id": "fFQjkf3CWHZx"
      },
      "source": [
        "def sum_statement_result(new_word_list, freq_statement, total_cnts_features_statement, total_features):\n",
        "      prob_s_with_ls = []\n",
        "      for word in new_word_list:\n",
        "        if word in freq_statement.keys():\n",
        "          count = freq_statement[word]\n",
        "        else:\n",
        "          count = 0\n",
        "        prob_s_with_ls.append((count + 1)/(total_cnts_features_statement + total_features))\n",
        "      d = dict(zip(new_word_list,prob_s_with_ls))\n",
        "      sum_statement = 0\n",
        "      for key, value in d.items():\n",
        "        sum_statement += value\n",
        "      return sum_statement"
      ],
      "execution_count": null,
      "outputs": []
    },
    {
      "cell_type": "code",
      "metadata": {
        "id": "a5AEKnGwW4VE"
      },
      "source": [
        "def sum_question_result(new_word_list, freq_question, total_cnts_features_question, total_features):\n",
        "  prob_q_with_ls = []\n",
        "  for word in new_word_list:\n",
        "    if word in freq_question.keys():\n",
        "      count = freq_question[word]\n",
        "    else:\n",
        "      count = 0\n",
        "    prob_q_with_ls.append((count + 1)/(total_cnts_features_question + total_features))\n",
        "  d1 = dict(zip(new_word_list,prob_q_with_ls))\n",
        "  sum_question = 0\n",
        "  for key, value in d1.items():\n",
        "    sum_question += value\n",
        "  return sum_question\n"
      ],
      "execution_count": null,
      "outputs": []
    },
    {
      "cell_type": "code",
      "metadata": {
        "colab": {
          "base_uri": "https://localhost:8080/"
        },
        "id": "ugsnjgDVXlN0",
        "outputId": "e23bf26b-9207-492c-ed7e-84e78eb1f8dc"
      },
      "source": [
        "import nltk\n",
        "nltk.download('punkt')"
      ],
      "execution_count": null,
      "outputs": [
        {
          "output_type": "stream",
          "text": [
            "[nltk_data] Downloading package punkt to /root/nltk_data...\n",
            "[nltk_data]   Unzipping tokenizers/punkt.zip.\n"
          ],
          "name": "stdout"
        },
        {
          "output_type": "execute_result",
          "data": {
            "text/plain": [
              "True"
            ]
          },
          "metadata": {
            "tags": []
          },
          "execution_count": 64
        }
      ]
    },
    {
      "cell_type": "code",
      "metadata": {
        "id": "huAlHbYcXJCL"
      },
      "source": [
        "from nltk.tokenize import word_tokenize\n",
        "new_sentence = 'what is the price of the book'\n",
        "new_word_list = word_tokenize(new_sentence)\n",
        "def predict(new_word_list, freq_statement, total_cnts_features_statement, total_features, freq_question,total_cnts_features_question):\n",
        "  sum_statement = sum_statement_result(new_word_list, freq_statement, total_cnts_features_statement, total_features)\n",
        "  sum_question = sum_question_result(new_word_list, freq_question, total_cnts_features_question, total_features)\n",
        "  if sum_question > sum_statement:\n",
        "    print(\"It's a question with probability : \" + str(sum_question))\n",
        "  else:\n",
        "    print(\"It's a statement with probability : \" + str(statement))"
      ],
      "execution_count": null,
      "outputs": []
    },
    {
      "cell_type": "code",
      "metadata": {
        "colab": {
          "base_uri": "https://localhost:8080/"
        },
        "id": "QHMVYbVDXt_O",
        "outputId": "117db2a4-2de1-41ec-fbae-146ab4c1d879"
      },
      "source": [
        "predict(new_word_list, freq_statement, total_cnts_features_statement, total_features, freq_question,total_cnts_features_question)"
      ],
      "execution_count": null,
      "outputs": [
        {
          "output_type": "stream",
          "text": [
            "It's a question with probability : 0.35897435897435903\n"
          ],
          "name": "stdout"
        }
      ]
    },
    {
      "cell_type": "markdown",
      "metadata": {
        "id": "5clSUc2cXzcw"
      },
      "source": [
        "**13. Install spaCy. Write a program for NER using spaCy for text in English and\n",
        "Hindi Language.**"
      ]
    },
    {
      "cell_type": "code",
      "metadata": {
        "colab": {
          "base_uri": "https://localhost:8080/"
        },
        "id": "Gbg8RFxrX7zl",
        "outputId": "6446034c-a464-4753-fbbe-d74a5b867f94"
      },
      "source": [
        "import spacy\n",
        "spacy.cli.download(\"en\")\n",
        "nlp = spacy.load('en_core_web_sm')\n"
      ],
      "execution_count": null,
      "outputs": [
        {
          "output_type": "stream",
          "text": [
            "\u001b[38;5;2m✔ Download and installation successful\u001b[0m\n",
            "You can now load the model via spacy.load('en_core_web_sm')\n",
            "\u001b[38;5;2m✔ Linking successful\u001b[0m\n",
            "/usr/local/lib/python3.6/dist-packages/en_core_web_sm -->\n",
            "/usr/local/lib/python3.6/dist-packages/spacy/data/en\n",
            "You can now load the model via spacy.load('en')\n"
          ],
          "name": "stdout"
        }
      ]
    },
    {
      "cell_type": "code",
      "metadata": {
        "colab": {
          "base_uri": "https://localhost:8080/"
        },
        "id": "8_9xVEHoYDPh",
        "outputId": "b7b6b266-ce37-49c8-d717-671d6a03c396"
      },
      "source": [
        "nlp = spacy.load('en_core_web_sm')\n",
        "sentence = \"Apple is looking at buying U.K. startup for $1 billion\"\n",
        "doc = nlp(sentence)\n",
        "for ent in doc.ents:\n",
        "  print(ent.text, ent.start_char, ent.end_char, ent.label_)\n"
      ],
      "execution_count": null,
      "outputs": [
        {
          "output_type": "stream",
          "text": [
            "Apple 0 5 ORG\n",
            "U.K. 27 31 GPE\n",
            "$1 billion 44 54 MONEY\n"
          ],
          "name": "stdout"
        }
      ]
    },
    {
      "cell_type": "code",
      "metadata": {
        "colab": {
          "base_uri": "https://localhost:8080/"
        },
        "id": "1_-tZ3PiYPzs",
        "outputId": "4576666b-9154-4122-c3ac-f87fe19b7a6a"
      },
      "source": [
        "sentence = \"Americans suffered from H5N1 flu virus in 2002\"\n",
        "doc = nlp(sentence)\n",
        "for ent in doc.ents:\n",
        "  print(ent.text, ent.start_char, ent.end_char, ent.label_)"
      ],
      "execution_count": null,
      "outputs": [
        {
          "output_type": "stream",
          "text": [
            "Americans 0 9 NORP\n",
            "H5N1 24 28 GPE\n",
            "2002 42 46 DATE\n"
          ],
          "name": "stdout"
        }
      ]
    },
    {
      "cell_type": "code",
      "metadata": {
        "colab": {
          "base_uri": "https://localhost:8080/"
        },
        "id": "Jt5Lw2kwYUaa",
        "outputId": "aa50329d-00a8-4f8c-fc3b-b2dfc7b33050"
      },
      "source": [
        "sentence = \"Donald Trump is the President of America\"\n",
        "doc = nlp(sentence)\n",
        "for ent in doc.ents:\n",
        "  print(ent.text, ent.start_char, ent.end_char, ent.label_)\n"
      ],
      "execution_count": null,
      "outputs": [
        {
          "output_type": "stream",
          "text": [
            "Donald Trump 0 12 PERSON\n",
            "America 33 40 GPE\n"
          ],
          "name": "stdout"
        }
      ]
    },
    {
      "cell_type": "markdown",
      "metadata": {
        "id": "n6DfUOc9Ya69"
      },
      "source": [
        "**14. Write a program to implement Bag of Word vector.**"
      ]
    },
    {
      "cell_type": "code",
      "metadata": {
        "id": "gVOY5msrYge9"
      },
      "source": [
        "from sklearn.feature_extraction.text import CountVectorizer\n"
      ],
      "execution_count": null,
      "outputs": []
    },
    {
      "cell_type": "code",
      "metadata": {
        "id": "wrmkDolwYl_F"
      },
      "source": [
        "corpus = [\n",
        "'All my cats in a row they all looks like a same',\n",
        "'When my cat sits down, she looks like a Furby toy!',\n",
        "'The cat from outer space',\n",
        "'Sunshine loves to sit like this for some reason.'\n",
        "]\n",
        "vectorizer = CountVectorizer()"
      ],
      "execution_count": null,
      "outputs": []
    },
    {
      "cell_type": "code",
      "metadata": {
        "colab": {
          "base_uri": "https://localhost:8080/"
        },
        "id": "MzHHa-jQYqXe",
        "outputId": "f8e0f50b-8779-4fc2-f19f-f9e0797ec9b6"
      },
      "source": [
        "print( vectorizer.fit_transform(corpus).todense() )\n"
      ],
      "execution_count": null,
      "outputs": [
        {
          "output_type": "stream",
          "text": [
            "[[2 0 1 0 0 0 0 1 1 1 0 1 0 0 1 1 0 0 0 0 0 0 0 1 0 0 0 0]\n",
            " [0 1 0 1 0 0 1 0 1 1 0 1 0 0 0 0 1 0 1 0 0 0 0 0 0 0 1 1]\n",
            " [0 1 0 0 0 1 0 0 0 0 0 0 1 0 0 0 0 0 0 0 1 0 1 0 0 0 0 0]\n",
            " [0 0 0 0 1 0 0 0 1 0 1 0 0 1 0 0 0 1 0 1 0 1 0 0 1 1 0 0]]\n"
          ],
          "name": "stdout"
        }
      ]
    },
    {
      "cell_type": "code",
      "metadata": {
        "colab": {
          "base_uri": "https://localhost:8080/"
        },
        "id": "YRJBtFHaYsPP",
        "outputId": "0b3f303c-150e-48f2-e5f2-6b0fba4ea17c"
      },
      "source": [
        "print( vectorizer.vocabulary_)\n"
      ],
      "execution_count": null,
      "outputs": [
        {
          "output_type": "stream",
          "text": [
            "{'all': 0, 'my': 11, 'cats': 2, 'in': 7, 'row': 14, 'they': 23, 'looks': 9, 'like': 8, 'same': 15, 'when': 27, 'cat': 1, 'sits': 18, 'down': 3, 'she': 16, 'furby': 6, 'toy': 26, 'the': 22, 'from': 5, 'outer': 12, 'space': 20, 'sunshine': 21, 'loves': 10, 'to': 25, 'sit': 17, 'this': 24, 'for': 4, 'some': 19, 'reason': 13}\n"
          ],
          "name": "stdout"
        }
      ]
    },
    {
      "cell_type": "code",
      "metadata": {
        "colab": {
          "base_uri": "https://localhost:8080/"
        },
        "id": "Z2uAZ1fGYxTF",
        "outputId": "1500b1fe-de20-48db-f735-4c8784bdb89a"
      },
      "source": [
        "for key in sorted (vectorizer.vocabulary_) :\n",
        "  print ((key, vectorizer.vocabulary_[key]), end =\" \")"
      ],
      "execution_count": null,
      "outputs": [
        {
          "output_type": "stream",
          "text": [
            "('all', 0) ('cat', 1) ('cats', 2) ('down', 3) ('for', 4) ('from', 5) ('furby', 6) ('in', 7) ('like', 8) ('looks', 9) ('loves', 10) ('my', 11) ('outer', 12) ('reason', 13) ('row', 14) ('same', 15) ('she', 16) ('sit', 17) ('sits', 18) ('some', 19) ('space', 20) ('sunshine', 21) ('the', 22) ('they', 23) ('this', 24) ('to', 25) ('toy', 26) ('when', 27) "
          ],
          "name": "stdout"
        }
      ]
    },
    {
      "cell_type": "markdown",
      "metadata": {
        "id": "jqS8qW3kY1a2"
      },
      "source": [
        "**15. Write a program to implement term frequency–inverse document frequency\n",
        "(tf-idf) vector**"
      ]
    },
    {
      "cell_type": "code",
      "metadata": {
        "id": "MHjpQncIY6BW"
      },
      "source": [
        "import pandas as pd\n",
        "from sklearn.feature_extraction.text import TfidfVectorizer\n"
      ],
      "execution_count": null,
      "outputs": []
    },
    {
      "cell_type": "code",
      "metadata": {
        "id": "IPKfMw_3ZBNB"
      },
      "source": [
        "documentA = 'the man went out for a walk'\n",
        "documentB = 'the children sat around the fire'"
      ],
      "execution_count": null,
      "outputs": []
    },
    {
      "cell_type": "code",
      "metadata": {
        "id": "yrhigD93ZEsS"
      },
      "source": [
        "bagOfWordsA = documentA.split(' ')\n",
        "bagOfWordsB = documentB.split(' ')"
      ],
      "execution_count": null,
      "outputs": []
    },
    {
      "cell_type": "code",
      "metadata": {
        "id": "qboenZ1VZGG4"
      },
      "source": [
        "uniqueWords = set(bagOfWordsA).union(set(bagOfWordsB))"
      ],
      "execution_count": null,
      "outputs": []
    },
    {
      "cell_type": "code",
      "metadata": {
        "colab": {
          "base_uri": "https://localhost:8080/"
        },
        "id": "aODGZtbhZKJb",
        "outputId": "d14f457a-4a70-4e56-9376-e44e97e04e2a"
      },
      "source": [
        "numOfWordsA = dict.fromkeys(uniqueWords, 0)\n",
        "print(numOfWordsA)\n",
        "for word in bagOfWordsA:\n",
        "  numOfWordsA[word] += 1\n",
        "print(numOfWordsA)"
      ],
      "execution_count": null,
      "outputs": [
        {
          "output_type": "stream",
          "text": [
            "{'man': 0, 'children': 0, 'for': 0, 'a': 0, 'the': 0, 'fire': 0, 'went': 0, 'walk': 0, 'sat': 0, 'around': 0, 'out': 0}\n",
            "{'man': 1, 'children': 0, 'for': 1, 'a': 1, 'the': 1, 'fire': 0, 'went': 1, 'walk': 1, 'sat': 0, 'around': 0, 'out': 1}\n"
          ],
          "name": "stdout"
        }
      ]
    },
    {
      "cell_type": "code",
      "metadata": {
        "colab": {
          "base_uri": "https://localhost:8080/"
        },
        "id": "MHR_mnYYZWzp",
        "outputId": "96bb338d-2475-4aad-8be2-a92b22eeb989"
      },
      "source": [
        "numOfWordsB = dict.fromkeys(uniqueWords, 0)\n",
        "print(numOfWordsB)\n",
        "for word in bagOfWordsB:\n",
        "  numOfWordsB[word] += 1\n",
        "print(numOfWordsB)"
      ],
      "execution_count": null,
      "outputs": [
        {
          "output_type": "stream",
          "text": [
            "{'man': 0, 'children': 0, 'for': 0, 'a': 0, 'the': 0, 'fire': 0, 'went': 0, 'walk': 0, 'sat': 0, 'around': 0, 'out': 0}\n",
            "{'man': 0, 'children': 1, 'for': 0, 'a': 0, 'the': 2, 'fire': 1, 'went': 0, 'walk': 0, 'sat': 1, 'around': 1, 'out': 0}\n"
          ],
          "name": "stdout"
        }
      ]
    },
    {
      "cell_type": "code",
      "metadata": {
        "colab": {
          "base_uri": "https://localhost:8080/"
        },
        "id": "aLdT6V4HZiqW",
        "outputId": "67d71964-ad97-444a-8885-7c2b73a9af98"
      },
      "source": [
        "import nltk\n",
        "nltk.download('stopwords')"
      ],
      "execution_count": null,
      "outputs": [
        {
          "output_type": "stream",
          "text": [
            "[nltk_data] Downloading package stopwords to /root/nltk_data...\n",
            "[nltk_data]   Unzipping corpora/stopwords.zip.\n"
          ],
          "name": "stdout"
        },
        {
          "output_type": "execute_result",
          "data": {
            "text/plain": [
              "True"
            ]
          },
          "metadata": {
            "tags": []
          },
          "execution_count": 84
        }
      ]
    },
    {
      "cell_type": "code",
      "metadata": {
        "colab": {
          "base_uri": "https://localhost:8080/"
        },
        "id": "KUT4Y7dBZckm",
        "outputId": "364c3ff3-b88e-465f-a818-74ba4ab14fb2"
      },
      "source": [
        "from nltk.corpus import stopwords\n",
        "print(stopwords.words('english'))"
      ],
      "execution_count": null,
      "outputs": [
        {
          "output_type": "stream",
          "text": [
            "['i', 'me', 'my', 'myself', 'we', 'our', 'ours', 'ourselves', 'you', \"you're\", \"you've\", \"you'll\", \"you'd\", 'your', 'yours', 'yourself', 'yourselves', 'he', 'him', 'his', 'himself', 'she', \"she's\", 'her', 'hers', 'herself', 'it', \"it's\", 'its', 'itself', 'they', 'them', 'their', 'theirs', 'themselves', 'what', 'which', 'who', 'whom', 'this', 'that', \"that'll\", 'these', 'those', 'am', 'is', 'are', 'was', 'were', 'be', 'been', 'being', 'have', 'has', 'had', 'having', 'do', 'does', 'did', 'doing', 'a', 'an', 'the', 'and', 'but', 'if', 'or', 'because', 'as', 'until', 'while', 'of', 'at', 'by', 'for', 'with', 'about', 'against', 'between', 'into', 'through', 'during', 'before', 'after', 'above', 'below', 'to', 'from', 'up', 'down', 'in', 'out', 'on', 'off', 'over', 'under', 'again', 'further', 'then', 'once', 'here', 'there', 'when', 'where', 'why', 'how', 'all', 'any', 'both', 'each', 'few', 'more', 'most', 'other', 'some', 'such', 'no', 'nor', 'not', 'only', 'own', 'same', 'so', 'than', 'too', 'very', 's', 't', 'can', 'will', 'just', 'don', \"don't\", 'should', \"should've\", 'now', 'd', 'll', 'm', 'o', 're', 've', 'y', 'ain', 'aren', \"aren't\", 'couldn', \"couldn't\", 'didn', \"didn't\", 'doesn', \"doesn't\", 'hadn', \"hadn't\", 'hasn', \"hasn't\", 'haven', \"haven't\", 'isn', \"isn't\", 'ma', 'mightn', \"mightn't\", 'mustn', \"mustn't\", 'needn', \"needn't\", 'shan', \"shan't\", 'shouldn', \"shouldn't\", 'wasn', \"wasn't\", 'weren', \"weren't\", 'won', \"won't\", 'wouldn', \"wouldn't\"]\n"
          ],
          "name": "stdout"
        }
      ]
    },
    {
      "cell_type": "code",
      "metadata": {
        "id": "HJK91MstZozS"
      },
      "source": [
        "def computeTF(wordDict, bagOfWords):\n",
        "  tfDict = {}\n",
        "  bagOfWordsCount = len(bagOfWords)\n",
        "  for word, count in wordDict.items():\n",
        "    tfDict[word] = count / float(bagOfWordsCount)\n",
        "  return tfDict"
      ],
      "execution_count": null,
      "outputs": []
    },
    {
      "cell_type": "code",
      "metadata": {
        "colab": {
          "base_uri": "https://localhost:8080/"
        },
        "id": "kWfkTldDZ1TT",
        "outputId": "0515d89b-40f0-432a-98db-d2e7830d1d47"
      },
      "source": [
        "tfA = computeTF(numOfWordsA, bagOfWordsA)\n",
        "print(tfA)"
      ],
      "execution_count": null,
      "outputs": [
        {
          "output_type": "stream",
          "text": [
            "{'man': 0.14285714285714285, 'children': 0.0, 'for': 0.14285714285714285, 'a': 0.14285714285714285, 'the': 0.14285714285714285, 'fire': 0.0, 'went': 0.14285714285714285, 'walk': 0.14285714285714285, 'sat': 0.0, 'around': 0.0, 'out': 0.14285714285714285}\n"
          ],
          "name": "stdout"
        }
      ]
    },
    {
      "cell_type": "code",
      "metadata": {
        "colab": {
          "base_uri": "https://localhost:8080/"
        },
        "id": "gNG3xApEZ6xr",
        "outputId": "f049c1c8-587b-4861-84c1-05e222cfe630"
      },
      "source": [
        "tfB = computeTF(numOfWordsB, bagOfWordsB)\n",
        "print(tfB)\n"
      ],
      "execution_count": null,
      "outputs": [
        {
          "output_type": "stream",
          "text": [
            "{'man': 0.0, 'children': 0.16666666666666666, 'for': 0.0, 'a': 0.0, 'the': 0.3333333333333333, 'fire': 0.16666666666666666, 'went': 0.0, 'walk': 0.0, 'sat': 0.16666666666666666, 'around': 0.16666666666666666, 'out': 0.0}\n"
          ],
          "name": "stdout"
        }
      ]
    },
    {
      "cell_type": "code",
      "metadata": {
        "id": "UwW1PKGoaAGT"
      },
      "source": [
        "def computeIDF(documents):\n",
        "  import math\n",
        "  N = len(documents)\n",
        "  # print(N)\n",
        "  # print(documents[0], documents[1])\n",
        "  idfDict = dict.fromkeys(documents[0].keys(), 0)\n",
        "  print(idfDict)\n",
        "  for document in documents:\n",
        "    for word, val in document.items():\n",
        "      if val > 0:\n",
        "        idfDict[word] += 1\n",
        "  print(idfDict)\n",
        "  for word, val in idfDict.items():\n",
        "    idfDict[word] = math.log(N / float(val))\n",
        "  return idfDict"
      ],
      "execution_count": null,
      "outputs": []
    },
    {
      "cell_type": "code",
      "metadata": {
        "colab": {
          "base_uri": "https://localhost:8080/"
        },
        "id": "-5gpweSGaMVk",
        "outputId": "760a3f5e-dc45-4beb-980d-36ac8af26353"
      },
      "source": [
        "idfs = computeIDF([numOfWordsA, numOfWordsB])\n",
        "print(idfs)\n"
      ],
      "execution_count": null,
      "outputs": [
        {
          "output_type": "stream",
          "text": [
            "{'man': 0, 'children': 0, 'for': 0, 'a': 0, 'the': 0, 'fire': 0, 'went': 0, 'walk': 0, 'sat': 0, 'around': 0, 'out': 0}\n",
            "{'man': 1, 'children': 1, 'for': 1, 'a': 1, 'the': 2, 'fire': 1, 'went': 1, 'walk': 1, 'sat': 1, 'around': 1, 'out': 1}\n",
            "{'man': 0.6931471805599453, 'children': 0.6931471805599453, 'for': 0.6931471805599453, 'a': 0.6931471805599453, 'the': 0.0, 'fire': 0.6931471805599453, 'went': 0.6931471805599453, 'walk': 0.6931471805599453, 'sat': 0.6931471805599453, 'around': 0.6931471805599453, 'out': 0.6931471805599453}\n"
          ],
          "name": "stdout"
        }
      ]
    },
    {
      "cell_type": "code",
      "metadata": {
        "id": "kDXOIh1caQmE"
      },
      "source": [
        "def computeTFIDF(tfBagOfWords, idfs):\n",
        "  tfidf = {}\n",
        "  for word, val in tfBagOfWords.items():\n",
        "    tfidf[word] = val * idfs[word]\n",
        "  return tfidf"
      ],
      "execution_count": null,
      "outputs": []
    },
    {
      "cell_type": "code",
      "metadata": {
        "colab": {
          "base_uri": "https://localhost:8080/"
        },
        "id": "erQ3fnygaZ8y",
        "outputId": "3e95d908-dd02-4035-d799-85b1d5cafc52"
      },
      "source": [
        "tfidfA = computeTFIDF(tfA, idfs)\n",
        "tfidfA"
      ],
      "execution_count": null,
      "outputs": [
        {
          "output_type": "execute_result",
          "data": {
            "text/plain": [
              "{'a': 0.09902102579427789,\n",
              " 'around': 0.0,\n",
              " 'children': 0.0,\n",
              " 'fire': 0.0,\n",
              " 'for': 0.09902102579427789,\n",
              " 'man': 0.09902102579427789,\n",
              " 'out': 0.09902102579427789,\n",
              " 'sat': 0.0,\n",
              " 'the': 0.0,\n",
              " 'walk': 0.09902102579427789,\n",
              " 'went': 0.09902102579427789}"
            ]
          },
          "metadata": {
            "tags": []
          },
          "execution_count": 93
        }
      ]
    },
    {
      "cell_type": "code",
      "metadata": {
        "colab": {
          "base_uri": "https://localhost:8080/"
        },
        "id": "RivLIA73ad07",
        "outputId": "b85e6d50-7e25-4216-ea74-85d0bcd27a1b"
      },
      "source": [
        "tfidfB = computeTFIDF(tfB, idfs)\n",
        "tfidfB\n"
      ],
      "execution_count": null,
      "outputs": [
        {
          "output_type": "execute_result",
          "data": {
            "text/plain": [
              "{'a': 0.0,\n",
              " 'around': 0.11552453009332421,\n",
              " 'children': 0.11552453009332421,\n",
              " 'fire': 0.11552453009332421,\n",
              " 'for': 0.0,\n",
              " 'man': 0.0,\n",
              " 'out': 0.0,\n",
              " 'sat': 0.11552453009332421,\n",
              " 'the': 0.0,\n",
              " 'walk': 0.0,\n",
              " 'went': 0.0}"
            ]
          },
          "metadata": {
            "tags": []
          },
          "execution_count": 94
        }
      ]
    },
    {
      "cell_type": "code",
      "metadata": {
        "colab": {
          "base_uri": "https://localhost:8080/",
          "height": 106
        },
        "id": "s17DaGz6aggV",
        "outputId": "d7aadf43-e671-4c6f-d2c6-e810ef4d74b3"
      },
      "source": [
        "df = pd.DataFrame([tfidfA, tfidfB])\n",
        "df\n"
      ],
      "execution_count": null,
      "outputs": [
        {
          "output_type": "execute_result",
          "data": {
            "text/html": [
              "<div>\n",
              "<style scoped>\n",
              "    .dataframe tbody tr th:only-of-type {\n",
              "        vertical-align: middle;\n",
              "    }\n",
              "\n",
              "    .dataframe tbody tr th {\n",
              "        vertical-align: top;\n",
              "    }\n",
              "\n",
              "    .dataframe thead th {\n",
              "        text-align: right;\n",
              "    }\n",
              "</style>\n",
              "<table border=\"1\" class=\"dataframe\">\n",
              "  <thead>\n",
              "    <tr style=\"text-align: right;\">\n",
              "      <th></th>\n",
              "      <th>man</th>\n",
              "      <th>children</th>\n",
              "      <th>for</th>\n",
              "      <th>a</th>\n",
              "      <th>the</th>\n",
              "      <th>fire</th>\n",
              "      <th>went</th>\n",
              "      <th>walk</th>\n",
              "      <th>sat</th>\n",
              "      <th>around</th>\n",
              "      <th>out</th>\n",
              "    </tr>\n",
              "  </thead>\n",
              "  <tbody>\n",
              "    <tr>\n",
              "      <th>0</th>\n",
              "      <td>0.099021</td>\n",
              "      <td>0.000000</td>\n",
              "      <td>0.099021</td>\n",
              "      <td>0.099021</td>\n",
              "      <td>0.0</td>\n",
              "      <td>0.000000</td>\n",
              "      <td>0.099021</td>\n",
              "      <td>0.099021</td>\n",
              "      <td>0.000000</td>\n",
              "      <td>0.000000</td>\n",
              "      <td>0.099021</td>\n",
              "    </tr>\n",
              "    <tr>\n",
              "      <th>1</th>\n",
              "      <td>0.000000</td>\n",
              "      <td>0.115525</td>\n",
              "      <td>0.000000</td>\n",
              "      <td>0.000000</td>\n",
              "      <td>0.0</td>\n",
              "      <td>0.115525</td>\n",
              "      <td>0.000000</td>\n",
              "      <td>0.000000</td>\n",
              "      <td>0.115525</td>\n",
              "      <td>0.115525</td>\n",
              "      <td>0.000000</td>\n",
              "    </tr>\n",
              "  </tbody>\n",
              "</table>\n",
              "</div>"
            ],
            "text/plain": [
              "        man  children       for  ...       sat    around       out\n",
              "0  0.099021  0.000000  0.099021  ...  0.000000  0.000000  0.099021\n",
              "1  0.000000  0.115525  0.000000  ...  0.115525  0.115525  0.000000\n",
              "\n",
              "[2 rows x 11 columns]"
            ]
          },
          "metadata": {
            "tags": []
          },
          "execution_count": 95
        }
      ]
    },
    {
      "cell_type": "code",
      "metadata": {
        "id": "VVI1kqIlak-X"
      },
      "source": [
        "vectorizer = TfidfVectorizer()\n",
        "vectors = vectorizer.fit_transform([documentA, documentB])\n",
        "feature_names = vectorizer.get_feature_names()\n",
        "dense = vectors.todense()\n",
        "denselist = dense.tolist()"
      ],
      "execution_count": null,
      "outputs": []
    },
    {
      "cell_type": "code",
      "metadata": {
        "colab": {
          "base_uri": "https://localhost:8080/",
          "height": 106
        },
        "id": "_JMT8SLMao59",
        "outputId": "98b71700-3c30-4bbf-cdc7-2b5ba90588f3"
      },
      "source": [
        "df = pd.DataFrame(denselist, columns=feature_names)\n",
        "df"
      ],
      "execution_count": null,
      "outputs": [
        {
          "output_type": "execute_result",
          "data": {
            "text/html": [
              "<div>\n",
              "<style scoped>\n",
              "    .dataframe tbody tr th:only-of-type {\n",
              "        vertical-align: middle;\n",
              "    }\n",
              "\n",
              "    .dataframe tbody tr th {\n",
              "        vertical-align: top;\n",
              "    }\n",
              "\n",
              "    .dataframe thead th {\n",
              "        text-align: right;\n",
              "    }\n",
              "</style>\n",
              "<table border=\"1\" class=\"dataframe\">\n",
              "  <thead>\n",
              "    <tr style=\"text-align: right;\">\n",
              "      <th></th>\n",
              "      <th>around</th>\n",
              "      <th>children</th>\n",
              "      <th>fire</th>\n",
              "      <th>for</th>\n",
              "      <th>man</th>\n",
              "      <th>out</th>\n",
              "      <th>sat</th>\n",
              "      <th>the</th>\n",
              "      <th>walk</th>\n",
              "      <th>went</th>\n",
              "    </tr>\n",
              "  </thead>\n",
              "  <tbody>\n",
              "    <tr>\n",
              "      <th>0</th>\n",
              "      <td>0.000000</td>\n",
              "      <td>0.000000</td>\n",
              "      <td>0.000000</td>\n",
              "      <td>0.42616</td>\n",
              "      <td>0.42616</td>\n",
              "      <td>0.42616</td>\n",
              "      <td>0.000000</td>\n",
              "      <td>0.303216</td>\n",
              "      <td>0.42616</td>\n",
              "      <td>0.42616</td>\n",
              "    </tr>\n",
              "    <tr>\n",
              "      <th>1</th>\n",
              "      <td>0.407401</td>\n",
              "      <td>0.407401</td>\n",
              "      <td>0.407401</td>\n",
              "      <td>0.00000</td>\n",
              "      <td>0.00000</td>\n",
              "      <td>0.00000</td>\n",
              "      <td>0.407401</td>\n",
              "      <td>0.579739</td>\n",
              "      <td>0.00000</td>\n",
              "      <td>0.00000</td>\n",
              "    </tr>\n",
              "  </tbody>\n",
              "</table>\n",
              "</div>"
            ],
            "text/plain": [
              "     around  children      fire      for  ...       sat       the     walk     went\n",
              "0  0.000000  0.000000  0.000000  0.42616  ...  0.000000  0.303216  0.42616  0.42616\n",
              "1  0.407401  0.407401  0.407401  0.00000  ...  0.407401  0.579739  0.00000  0.00000\n",
              "\n",
              "[2 rows x 10 columns]"
            ]
          },
          "metadata": {
            "tags": []
          },
          "execution_count": 97
        }
      ]
    }
  ]
}